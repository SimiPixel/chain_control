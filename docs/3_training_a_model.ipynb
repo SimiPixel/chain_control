{
 "cells": [
  {
   "cell_type": "code",
   "execution_count": 1,
   "metadata": {
    "execution": {
     "iopub.execute_input": "2023-03-22T12:26:29.247433Z",
     "iopub.status.busy": "2023-03-22T12:26:29.247160Z",
     "iopub.status.idle": "2023-03-22T12:26:30.307920Z",
     "shell.execute_reply": "2023-03-22T12:26:30.307493Z"
    }
   },
   "outputs": [
    {
     "name": "stderr",
     "output_type": "stream",
     "text": [
      "/opt/homebrew/Caskroom/miniforge/base/envs/chain_control/lib/python3.10/site-packages/flax/core/frozen_dict.py:169: FutureWarning: jax.tree_util.register_keypaths is deprecated, and will be removed in a future release. Please use `register_pytree_with_keys()` instead.\n",
      "  jax.tree_util.register_keypaths(\n",
      "/Users/simon/Documents/PYTHON/chain_control/cc/env/collect/collect.py:6: TqdmExperimentalWarning: Using `tqdm.autonotebook.tqdm` in notebook mode. Use `tqdm.tqdm` instead to force console mode (e.g. in jupyter console)\n",
      "  from tqdm.autonotebook import tqdm\n"
     ]
    }
   ],
   "source": [
    "from cc.env.collect import sample_feedforward_and_collect\n",
    "from cc.env import make_env\n",
    "from cc.examples.neural_ode_model_compact_example import make_neural_ode_model\n",
    "from cc.train import (\n",
    "    ModelControllerTrainer, TrainingOptionsModel, \n",
    "    EvaluationMetrices, Tracker, make_dataloader, DictLogger,\n",
    "    Regularisation, SupervisedDataset\n",
    ")\n",
    "import jax.random as jrand\n",
    "from cc.utils import rmse, l2_norm\n",
    "import optax\n",
    "import jax.numpy as jnp"
   ]
  },
  {
   "cell_type": "code",
   "execution_count": 2,
   "metadata": {
    "execution": {
     "iopub.execute_input": "2023-03-22T12:26:30.310093Z",
     "iopub.status.busy": "2023-03-22T12:26:30.309903Z",
     "iopub.status.idle": "2023-03-22T12:26:30.372064Z",
     "shell.execute_reply": "2023-03-22T12:26:30.371613Z"
    }
   },
   "outputs": [],
   "source": [
    "time_limit = 10.0\n",
    "control_timestep = 0.01\n",
    "\n",
    "env = make_env(\"two_segments_v1\", time_limit=time_limit, control_timestep=control_timestep, random=1)"
   ]
  },
  {
   "cell_type": "code",
   "execution_count": 3,
   "metadata": {
    "execution": {
     "iopub.execute_input": "2023-03-22T12:26:30.373889Z",
     "iopub.status.busy": "2023-03-22T12:26:30.373773Z",
     "iopub.status.idle": "2023-03-22T12:26:46.501915Z",
     "shell.execute_reply": "2023-03-22T12:26:46.501459Z"
    }
   },
   "outputs": [],
   "source": [
    "sample_train = sample_feedforward_and_collect(\n",
    "    env,\n",
    "    seeds_gp=[0,1,2,3,4,5,6,7,8,9,10,11],\n",
    "    seeds_cos=[1,2,3,4,5,6,7,8,9,10,12,14]\n",
    ")\n",
    "\n",
    "sample_val = sample_feedforward_and_collect(\n",
    "    env, \n",
    "    seeds_gp=[15, 16, 17, 18],\n",
    "    seeds_cos=[2.5, 5.0, 7.5, 10.0]\n",
    ")"
   ]
  },
  {
   "cell_type": "code",
   "execution_count": 4,
   "metadata": {
    "execution": {
     "iopub.execute_input": "2023-03-22T12:26:46.503583Z",
     "iopub.status.busy": "2023-03-22T12:26:46.503455Z",
     "iopub.status.idle": "2023-03-22T12:26:46.668815Z",
     "shell.execute_reply": "2023-03-22T12:26:46.668393Z"
    }
   },
   "outputs": [],
   "source": [
    "model = make_neural_ode_model(\n",
    "    env.action_spec(),\n",
    "    env.observation_spec(),\n",
    "    env.control_timestep(),\n",
    "    state_dim=50,\n",
    "    f_depth=0, \n",
    "    u_transform=jnp.arctan\n",
    ")"
   ]
  },
  {
   "cell_type": "code",
   "execution_count": 5,
   "metadata": {
    "execution": {
     "iopub.execute_input": "2023-03-22T12:26:46.670386Z",
     "iopub.status.busy": "2023-03-22T12:26:46.670300Z",
     "iopub.status.idle": "2023-03-22T12:26:46.836026Z",
     "shell.execute_reply": "2023-03-22T12:26:46.835573Z"
    }
   },
   "outputs": [],
   "source": [
    "model_train_dataloader = make_dataloader(\n",
    "    SupervisedDataset(sample_train.action, sample_train.obs), # <- (X, y)\n",
    "    jrand.PRNGKey(2,), \n",
    "    n_minibatches=4\n",
    ")\n",
    "\n",
    "optimizer = optax.adam(1e-3)\n",
    "\n",
    "regularisers = (\n",
    "    Regularisation(\n",
    "        prefactor = 0.5,\n",
    "        reduce_weights = lambda vector_of_params: {\"l2_norm\": l2_norm(vector_of_params)}\n",
    "    ),\n",
    ")\n",
    "\n",
    "metrices = (\n",
    "    EvaluationMetrices(\n",
    "        data = (sample_val.action, sample_val.obs), # <- (X, y)\n",
    "        metrices=(\n",
    "            lambda y, yhat: {\"val_rmse\": rmse(y, yhat)}, \n",
    "        )\n",
    "    ),\n",
    ")\n",
    "\n",
    "model_train_options = TrainingOptionsModel(\n",
    "    model_train_dataloader, \n",
    "    optimizer, \n",
    "    regularisers=regularisers,\n",
    "    metrices=metrices\n",
    ")\n",
    "\n",
    "model_trainer = ModelControllerTrainer(\n",
    "    model, \n",
    "    model_train_options=model_train_options,\n",
    "    loggers=[DictLogger()],\n",
    "    trackers=[Tracker(\"val_rmse\")]\n",
    ")"
   ]
  },
  {
   "cell_type": "code",
   "execution_count": 6,
   "metadata": {
    "execution": {
     "iopub.execute_input": "2023-03-22T12:26:46.837753Z",
     "iopub.status.busy": "2023-03-22T12:26:46.837634Z",
     "iopub.status.idle": "2023-03-22T12:27:49.297990Z",
     "shell.execute_reply": "2023-03-22T12:27:49.297605Z"
    }
   },
   "outputs": [
    {
     "data": {
      "application/vnd.jupyter.widget-view+json": {
       "model_id": "0da9d9674e2b42d19a6fb6d7fdbc7b4a",
       "version_major": 2,
       "version_minor": 0
      },
      "text/plain": [
       "  0%|          | 0/700 [00:00<?, ?it/s]"
      ]
     },
     "metadata": {},
     "output_type": "display_data"
    }
   ],
   "source": [
    "model_trainer.run(700)"
   ]
  },
  {
   "cell_type": "code",
   "execution_count": 7,
   "metadata": {
    "execution": {
     "iopub.execute_input": "2023-03-22T12:27:49.299550Z",
     "iopub.status.busy": "2023-03-22T12:27:49.299419Z",
     "iopub.status.idle": "2023-03-22T12:27:49.301815Z",
     "shell.execute_reply": "2023-03-22T12:27:49.301555Z"
    }
   },
   "outputs": [
    {
     "data": {
      "text/plain": [
       "0.49306035"
      ]
     },
     "execution_count": 7,
     "metadata": {},
     "output_type": "execute_result"
    }
   ],
   "source": [
    "model_trainer.trackers[0].best_metric()"
   ]
  },
  {
   "cell_type": "code",
   "execution_count": 8,
   "metadata": {
    "execution": {
     "iopub.execute_input": "2023-03-22T12:27:49.303116Z",
     "iopub.status.busy": "2023-03-22T12:27:49.303020Z",
     "iopub.status.idle": "2023-03-22T12:27:49.304652Z",
     "shell.execute_reply": "2023-03-22T12:27:49.304384Z"
    }
   },
   "outputs": [],
   "source": [
    "fitted_model = model_trainer.trackers[0].best_model_or_controller()"
   ]
  },
  {
   "cell_type": "code",
   "execution_count": 9,
   "metadata": {
    "execution": {
     "iopub.execute_input": "2023-03-22T12:27:49.305903Z",
     "iopub.status.busy": "2023-03-22T12:27:49.305824Z",
     "iopub.status.idle": "2023-03-22T12:27:49.347057Z",
     "shell.execute_reply": "2023-03-22T12:27:49.346769Z"
    }
   },
   "outputs": [
    {
     "data": {
      "text/plain": [
       "OrderedDict([('xpos_of_segment_end', Array([0.10585096], dtype=float32))])"
      ]
     },
     "execution_count": 9,
     "metadata": {},
     "output_type": "execute_result"
    }
   ],
   "source": [
    "import numpy as np\n",
    "import equinox as eqx\n",
    "\n",
    "action = np.array([0.2])\n",
    "# this returns a new model with an updated internal state\n",
    "# and of course the actual prediction of the observation\n",
    "fitted_model, predicted_obs = eqx.filter_jit(fitted_model.step)(action)\n",
    "predicted_obs"
   ]
  },
  {
   "cell_type": "code",
   "execution_count": 10,
   "metadata": {
    "execution": {
     "iopub.execute_input": "2023-03-22T12:27:49.348496Z",
     "iopub.status.busy": "2023-03-22T12:27:49.348404Z",
     "iopub.status.idle": "2023-03-22T12:27:49.417921Z",
     "shell.execute_reply": "2023-03-22T12:27:49.417626Z"
    }
   },
   "outputs": [
    {
     "data": {
      "text/plain": [
       "OrderedDict([('xpos_of_segment_end', Array([0.10722861], dtype=float32))])"
      ]
     },
     "execution_count": 10,
     "metadata": {},
     "output_type": "execute_result"
    }
   ],
   "source": [
    "fitted_model, predicted_obs = fitted_model.step(action)\n",
    "predicted_obs"
   ]
  },
  {
   "cell_type": "code",
   "execution_count": 11,
   "metadata": {
    "execution": {
     "iopub.execute_input": "2023-03-22T12:27:49.419314Z",
     "iopub.status.busy": "2023-03-22T12:27:49.419233Z",
     "iopub.status.idle": "2023-03-22T12:27:49.422543Z",
     "shell.execute_reply": "2023-03-22T12:27:49.422289Z"
    }
   },
   "outputs": [
    {
     "data": {
      "text/plain": [
       "OrderedDict([('xpos_of_segment_end', Array([0.10864981], dtype=float32))])"
      ]
     },
     "execution_count": 11,
     "metadata": {},
     "output_type": "execute_result"
    }
   ],
   "source": [
    "fitted_model, predicted_obs = fitted_model.step(action)\n",
    "predicted_obs"
   ]
  },
  {
   "cell_type": "code",
   "execution_count": 12,
   "metadata": {
    "execution": {
     "iopub.execute_input": "2023-03-22T12:27:49.423855Z",
     "iopub.status.busy": "2023-03-22T12:27:49.423772Z",
     "iopub.status.idle": "2023-03-22T12:27:49.426971Z",
     "shell.execute_reply": "2023-03-22T12:27:49.426715Z"
    }
   },
   "outputs": [
    {
     "data": {
      "text/plain": [
       "OrderedDict([('xpos_of_segment_end', Array([0.11011492], dtype=float32))])"
      ]
     },
     "execution_count": 12,
     "metadata": {},
     "output_type": "execute_result"
    }
   ],
   "source": [
    "fitted_model, predicted_obs = fitted_model.step(action)\n",
    "predicted_obs"
   ]
  },
  {
   "cell_type": "markdown",
   "metadata": {},
   "source": [
    "Finally, you can also replace the `Mujoco` physics component in your environment with your model. \n",
    "\n",
    "This creates a new environment that looks exactly the same from outside."
   ]
  },
  {
   "cell_type": "code",
   "execution_count": 13,
   "metadata": {
    "execution": {
     "iopub.execute_input": "2023-03-22T12:27:49.428292Z",
     "iopub.status.busy": "2023-03-22T12:27:49.428210Z",
     "iopub.status.idle": "2023-03-22T12:27:49.438632Z",
     "shell.execute_reply": "2023-03-22T12:27:49.438354Z"
    }
   },
   "outputs": [],
   "source": [
    "from cc.env.wrappers import ReplacePhysicsByModelWrapper\n",
    "\n",
    "env_model = ReplacePhysicsByModelWrapper(env, fitted_model)"
   ]
  },
  {
   "cell_type": "code",
   "execution_count": 14,
   "metadata": {
    "execution": {
     "iopub.execute_input": "2023-03-22T12:27:49.439960Z",
     "iopub.status.busy": "2023-03-22T12:27:49.439879Z",
     "iopub.status.idle": "2023-03-22T12:27:49.442346Z",
     "shell.execute_reply": "2023-03-22T12:27:49.442085Z"
    }
   },
   "outputs": [
    {
     "data": {
      "text/plain": [
       "OrderedDict([('xpos_of_segment_end', Array([0.10451651], dtype=float32))])"
      ]
     },
     "execution_count": 14,
     "metadata": {},
     "output_type": "execute_result"
    }
   ],
   "source": [
    "fitted_model.y0()"
   ]
  },
  {
   "cell_type": "code",
   "execution_count": 15,
   "metadata": {
    "execution": {
     "iopub.execute_input": "2023-03-22T12:27:49.443703Z",
     "iopub.status.busy": "2023-03-22T12:27:49.443615Z",
     "iopub.status.idle": "2023-03-22T12:27:49.446400Z",
     "shell.execute_reply": "2023-03-22T12:27:49.446152Z"
    }
   },
   "outputs": [
    {
     "data": {
      "text/plain": [
       "TimeStep(step_type=<StepType.FIRST: 0>, reward=None, discount=None, observation=OrderedDict([('xpos_of_segment_end', array([0.10451651], dtype=float32))]))"
      ]
     },
     "execution_count": 15,
     "metadata": {},
     "output_type": "execute_result"
    }
   ],
   "source": [
    "env_model.reset()"
   ]
  },
  {
   "cell_type": "code",
   "execution_count": 16,
   "metadata": {
    "execution": {
     "iopub.execute_input": "2023-03-22T12:27:49.447680Z",
     "iopub.status.busy": "2023-03-22T12:27:49.447572Z",
     "iopub.status.idle": "2023-03-22T12:27:49.450809Z",
     "shell.execute_reply": "2023-03-22T12:27:49.450503Z"
    }
   },
   "outputs": [
    {
     "data": {
      "text/plain": [
       "TimeStep(step_type=<StepType.MID: 1>, reward=array(0., dtype=float32), discount=0.0, observation=OrderedDict([('xpos_of_segment_end', array([0.10585096], dtype=float32))]))"
      ]
     },
     "execution_count": 16,
     "metadata": {},
     "output_type": "execute_result"
    }
   ],
   "source": [
    "env_model.step(action)"
   ]
  },
  {
   "cell_type": "code",
   "execution_count": 17,
   "metadata": {
    "execution": {
     "iopub.execute_input": "2023-03-22T12:27:49.452115Z",
     "iopub.status.busy": "2023-03-22T12:27:49.452038Z",
     "iopub.status.idle": "2023-03-22T12:27:49.454786Z",
     "shell.execute_reply": "2023-03-22T12:27:49.454534Z"
    }
   },
   "outputs": [
    {
     "data": {
      "text/plain": [
       "TimeStep(step_type=<StepType.MID: 1>, reward=array(0., dtype=float32), discount=0.0, observation=OrderedDict([('xpos_of_segment_end', array([0.10722861], dtype=float32))]))"
      ]
     },
     "execution_count": 17,
     "metadata": {},
     "output_type": "execute_result"
    }
   ],
   "source": [
    "env_model.step(action)"
   ]
  },
  {
   "cell_type": "markdown",
   "metadata": {},
   "source": [
    "Now that the model is an environment, we can also now use all of our `collect` technology"
   ]
  },
  {
   "cell_type": "code",
   "execution_count": 18,
   "metadata": {
    "execution": {
     "iopub.execute_input": "2023-03-22T12:27:49.456230Z",
     "iopub.status.busy": "2023-03-22T12:27:49.456151Z",
     "iopub.status.idle": "2023-03-22T12:27:50.281414Z",
     "shell.execute_reply": "2023-03-22T12:27:50.280999Z"
    }
   },
   "outputs": [],
   "source": [
    "from cc.examples.feedforward_controller import make_feedforward_controller\n",
    "from cc.env.collect import collect\n",
    "from cc.utils.utils import timestep_array_from_env\n",
    "\n",
    "controller = make_feedforward_controller(sample_train.action[0])\n",
    "pred_sample, _ = collect(env_model, controller)\n",
    "\n",
    "import matplotlib.pyplot as plt "
   ]
  },
  {
   "cell_type": "code",
   "execution_count": 19,
   "metadata": {
    "execution": {
     "iopub.execute_input": "2023-03-22T12:27:50.283178Z",
     "iopub.status.busy": "2023-03-22T12:27:50.283015Z",
     "iopub.status.idle": "2023-03-22T12:27:50.288018Z",
     "shell.execute_reply": "2023-03-22T12:27:50.287756Z"
    }
   },
   "outputs": [],
   "source": [
    "%matplotlib inline"
   ]
  },
  {
   "cell_type": "code",
   "execution_count": 20,
   "metadata": {
    "execution": {
     "iopub.execute_input": "2023-03-22T12:27:50.289426Z",
     "iopub.status.busy": "2023-03-22T12:27:50.289346Z",
     "iopub.status.idle": "2023-03-22T12:27:50.405000Z",
     "shell.execute_reply": "2023-03-22T12:27:50.404279Z"
    }
   },
   "outputs": [
    {
     "data": {
      "text/plain": [
       "<matplotlib.legend.Legend at 0x2c8d56260>"
      ]
     },
     "execution_count": 20,
     "metadata": {},
     "output_type": "execute_result"
    },
    {
     "data": {
      "image/png": "[encoded data removed]",
      "text/plain": [
       "<Figure size 640x480 with 1 Axes>"
      ]
     },
     "metadata": {},
     "output_type": "display_data"
    }
   ],
   "source": [
    "ts = timestep_array_from_env(env)\n",
    "plt.plot(ts, sample_train.obs[\"xpos_of_segment_end\"][0, :-1], label=\"physics-based\")\n",
    "plt.plot(ts, pred_sample.obs[\"xpos_of_segment_end\"][0, :-1], label = \"model-based\")\n",
    "plt.xlabel(\"time [s]\")\n",
    "plt.ylabel(\"x-position of segment end\")\n",
    "plt.legend()\n"
   ]
  },
  {
   "cell_type": "code",
   "execution_count": 21,
   "metadata": {
    "execution": {
     "iopub.execute_input": "2023-03-22T12:27:50.407904Z",
     "iopub.status.busy": "2023-03-22T12:27:50.407674Z",
     "iopub.status.idle": "2023-03-22T12:27:50.412100Z",
     "shell.execute_reply": "2023-03-22T12:27:50.411582Z"
    }
   },
   "outputs": [],
   "source": [
    "# save model for usage in next notebook\n",
    "eqx.tree_serialise_leaves(\"model.eqx\", fitted_model)"
   ]
  },
  {
   "cell_type": "code",
   "execution_count": 22,
   "metadata": {
    "execution": {
     "iopub.execute_input": "2023-03-22T12:27:50.414781Z",
     "iopub.status.busy": "2023-03-22T12:27:50.414557Z",
     "iopub.status.idle": "2023-03-22T12:27:50.423183Z",
     "shell.execute_reply": "2023-03-22T12:27:50.422326Z"
    }
   },
   "outputs": [],
   "source": [
    "# reload model\n",
    "del fitted_model\n",
    "fitted_model = eqx.tree_deserialise_leaves(\"model.eqx\", model) "
   ]
  },
  {
   "cell_type": "code",
   "execution_count": null,
   "metadata": {},
   "outputs": [],
   "source": []
  }
 ],
 "metadata": {
  "kernelspec": {
   "display_name": "chain_control",
   "language": "python",
   "name": "python3"
  },
  "language_info": {
   "codemirror_mode": {
    "name": "ipython",
    "version": 3
   },
   "file_extension": ".py",
   "mimetype": "text/x-python",
   "name": "python",
   "nbconvert_exporter": "python",
   "pygments_lexer": "ipython3",
   "version": "3.10.9"
  },
  "vscode": {
   "interpreter": {
    "hash": "8d9c863fb986fa342e8b7e2ad667cb8566ab6ae40647af51ec8caf787fd66a57"
   }
  },
  "widgets": {
   "application/vnd.jupyter.widget-state+json": {
    "state": {
     "0da9d9674e2b42d19a6fb6d7fdbc7b4a": {
      "model_module": "@jupyter-widgets/controls",
      "model_module_version": "2.0.0",
      "model_name": "HBoxModel",
      "state": {
       "_dom_classes": [],
       "_model_module": "@jupyter-widgets/controls",
       "_model_module_version": "2.0.0",
       "_model_name": "HBoxModel",
       "_view_count": null,
       "_view_module": "@jupyter-widgets/controls",
       "_view_module_version": "2.0.0",
       "_view_name": "HBoxView",
       "box_style": "",
       "children": [
        "IPY_MODEL_e6e73b4c2d784b16ba7a45bd3c413d61",
        "IPY_MODEL_d4016ec3597c4ba1b2db55c7c805f613",
        "IPY_MODEL_3138435b769e47798305a5086cfb7cea"
       ],
       "layout": "IPY_MODEL_b396d106371e425fb8a3da668ae604e6",
       "tabbable": null,
       "tooltip": null
      }
     },
     "2d2611fc4158444fab08b6d77162e9c7": {
      "model_module": "@jupyter-widgets/controls",
      "model_module_version": "2.0.0",
      "model_name": "ProgressStyleModel",
      "state": {
       "_model_module": "@jupyter-widgets/controls",
       "_model_module_version": "2.0.0",
       "_model_name": "ProgressStyleModel",
       "_view_count": null,
       "_view_module": "@jupyter-widgets/base",
       "_view_module_version": "2.0.0",
       "_view_name": "StyleView",
       "bar_color": null,
       "description_width": ""
      }
     },
     "3138435b769e47798305a5086cfb7cea": {
      "model_module": "@jupyter-widgets/controls",
      "model_module_version": "2.0.0",
      "model_name": "HTMLModel",
      "state": {
       "_dom_classes": [],
       "_model_module": "@jupyter-widgets/controls",
       "_model_module_version": "2.0.0",
       "_model_name": "HTMLModel",
       "_view_count": null,
       "_view_module": "@jupyter-widgets/controls",
       "_view_module_version": "2.0.0",
       "_view_name": "HTMLView",
       "description": "",
       "description_allow_html": false,
       "layout": "IPY_MODEL_a6b073d5831d4ddfa5a09b610462ebe4",
       "placeholder": "​",
       "style": "IPY_MODEL_4d7fa1bf17314f1791c3726565e4c0d8",
       "tabbable": null,
       "tooltip": null,
       "value": " 700/700 [01:02&lt;00:00, 11.68it/s]"
      }
     },
     "4d7fa1bf17314f1791c3726565e4c0d8": {
      "model_module": "@jupyter-widgets/controls",
      "model_module_version": "2.0.0",
      "model_name": "HTMLStyleModel",
      "state": {
       "_model_module": "@jupyter-widgets/controls",
       "_model_module_version": "2.0.0",
       "_model_name": "HTMLStyleModel",
       "_view_count": null,
       "_view_module": "@jupyter-widgets/base",
       "_view_module_version": "2.0.0",
       "_view_name": "StyleView",
       "background": null,
       "description_width": "",
       "font_size": null,
       "text_color": null
      }
     },
     "7ea21c730bd04886a711841ba6b16abf": {
      "model_module": "@jupyter-widgets/base",
      "model_module_version": "2.0.0",
      "model_name": "LayoutModel",
      "state": {
       "_model_module": "@jupyter-widgets/base",
       "_model_module_version": "2.0.0",
       "_model_name": "LayoutModel",
       "_view_count": null,
       "_view_module": "@jupyter-widgets/base",
       "_view_module_version": "2.0.0",
       "_view_name": "LayoutView",
       "align_content": null,
       "align_items": null,
       "align_self": null,
       "border_bottom": null,
       "border_left": null,
       "border_right": null,
       "border_top": null,
       "bottom": null,
       "display": null,
       "flex": null,
       "flex_flow": null,
       "grid_area": null,
       "grid_auto_columns": null,
       "grid_auto_flow": null,
       "grid_auto_rows": null,
       "grid_column": null,
       "grid_gap": null,
       "grid_row": null,
       "grid_template_areas": null,
       "grid_template_columns": null,
       "grid_template_rows": null,
       "height": null,
       "justify_content": null,
       "justify_items": null,
       "left": null,
       "margin": null,
       "max_height": null,
       "max_width": null,
       "min_height": null,
       "min_width": null,
       "object_fit": null,
       "object_position": null,
       "order": null,
       "overflow": null,
       "padding": null,
       "right": null,
       "top": null,
       "visibility": null,
       "width": null
      }
     },
     "86171259f13341d795e647ecc08cd3b3": {
      "model_module": "@jupyter-widgets/base",
      "model_module_version": "2.0.0",
      "model_name": "LayoutModel",
      "state": {
       "_model_module": "@jupyter-widgets/base",
       "_model_module_version": "2.0.0",
       "_model_name": "LayoutModel",
       "_view_count": null,
       "_view_module": "@jupyter-widgets/base",
       "_view_module_version": "2.0.0",
       "_view_name": "LayoutView",
       "align_content": null,
       "align_items": null,
       "align_self": null,
       "border_bottom": null,
       "border_left": null,
       "border_right": null,
       "border_top": null,
       "bottom": null,
       "display": null,
       "flex": null,
       "flex_flow": null,
       "grid_area": null,
       "grid_auto_columns": null,
       "grid_auto_flow": null,
       "grid_auto_rows": null,
       "grid_column": null,
       "grid_gap": null,
       "grid_row": null,
       "grid_template_areas": null,
       "grid_template_columns": null,
       "grid_template_rows": null,
       "height": null,
       "justify_content": null,
       "justify_items": null,
       "left": null,
       "margin": null,
       "max_height": null,
       "max_width": null,
       "min_height": null,
       "min_width": null,
       "object_fit": null,
       "object_position": null,
       "order": null,
       "overflow": null,
       "padding": null,
       "right": null,
       "top": null,
       "visibility": null,
       "width": null
      }
     },
     "98326622d4714a36bebd5cbea8309fe3": {
      "model_module": "@jupyter-widgets/controls",
      "model_module_version": "2.0.0",
      "model_name": "HTMLStyleModel",
      "state": {
       "_model_module": "@jupyter-widgets/controls",
       "_model_module_version": "2.0.0",
       "_model_name": "HTMLStyleModel",
       "_view_count": null,
       "_view_module": "@jupyter-widgets/base",
       "_view_module_version": "2.0.0",
       "_view_name": "StyleView",
       "background": null,
       "description_width": "",
       "font_size": null,
       "text_color": null
      }
     },
     "a6b073d5831d4ddfa5a09b610462ebe4": {
      "model_module": "@jupyter-widgets/base",
      "model_module_version": "2.0.0",
      "model_name": "LayoutModel",
      "state": {
       "_model_module": "@jupyter-widgets/base",
       "_model_module_version": "2.0.0",
       "_model_name": "LayoutModel",
       "_view_count": null,
       "_view_module": "@jupyter-widgets/base",
       "_view_module_version": "2.0.0",
       "_view_name": "LayoutView",
       "align_content": null,
       "align_items": null,
       "align_self": null,
       "border_bottom": null,
       "border_left": null,
       "border_right": null,
       "border_top": null,
       "bottom": null,
       "display": null,
       "flex": null,
       "flex_flow": null,
       "grid_area": null,
       "grid_auto_columns": null,
       "grid_auto_flow": null,
       "grid_auto_rows": null,
       "grid_column": null,
       "grid_gap": null,
       "grid_row": null,
       "grid_template_areas": null,
       "grid_template_columns": null,
       "grid_template_rows": null,
       "height": null,
       "justify_content": null,
       "justify_items": null,
       "left": null,
       "margin": null,
       "max_height": null,
       "max_width": null,
       "min_height": null,
       "min_width": null,
       "object_fit": null,
       "object_position": null,
       "order": null,
       "overflow": null,
       "padding": null,
       "right": null,
       "top": null,
       "visibility": null,
       "width": null
      }
     },
     "b396d106371e425fb8a3da668ae604e6": {
      "model_module": "@jupyter-widgets/base",
      "model_module_version": "2.0.0",
      "model_name": "LayoutModel",
      "state": {
       "_model_module": "@jupyter-widgets/base",
       "_model_module_version": "2.0.0",
       "_model_name": "LayoutModel",
       "_view_count": null,
       "_view_module": "@jupyter-widgets/base",
       "_view_module_version": "2.0.0",
       "_view_name": "LayoutView",
       "align_content": null,
       "align_items": null,
       "align_self": null,
       "border_bottom": null,
       "border_left": null,
       "border_right": null,
       "border_top": null,
       "bottom": null,
       "display": null,
       "flex": null,
       "flex_flow": null,
       "grid_area": null,
       "grid_auto_columns": null,
       "grid_auto_flow": null,
       "grid_auto_rows": null,
       "grid_column": null,
       "grid_gap": null,
       "grid_row": null,
       "grid_template_areas": null,
       "grid_template_columns": null,
       "grid_template_rows": null,
       "height": null,
       "justify_content": null,
       "justify_items": null,
       "left": null,
       "margin": null,
       "max_height": null,
       "max_width": null,
       "min_height": null,
       "min_width": null,
       "object_fit": null,
       "object_position": null,
       "order": null,
       "overflow": null,
       "padding": null,
       "right": null,
       "top": null,
       "visibility": null,
       "width": null
      }
     },
     "d4016ec3597c4ba1b2db55c7c805f613": {
      "model_module": "@jupyter-widgets/controls",
      "model_module_version": "2.0.0",
      "model_name": "FloatProgressModel",
      "state": {
       "_dom_classes": [],
       "_model_module": "@jupyter-widgets/controls",
       "_model_module_version": "2.0.0",
       "_model_name": "FloatProgressModel",
       "_view_count": null,
       "_view_module": "@jupyter-widgets/controls",
       "_view_module_version": "2.0.0",
       "_view_name": "ProgressView",
       "bar_style": "success",
       "description": "",
       "description_allow_html": false,
       "layout": "IPY_MODEL_7ea21c730bd04886a711841ba6b16abf",
       "max": 700.0,
       "min": 0.0,
       "orientation": "horizontal",
       "style": "IPY_MODEL_2d2611fc4158444fab08b6d77162e9c7",
       "tabbable": null,
       "tooltip": null,
       "value": 700.0
      }
     },
     "e6e73b4c2d784b16ba7a45bd3c413d61": {
      "model_module": "@jupyter-widgets/controls",
      "model_module_version": "2.0.0",
      "model_name": "HTMLModel",
      "state": {
       "_dom_classes": [],
       "_model_module": "@jupyter-widgets/controls",
       "_model_module_version": "2.0.0",
       "_model_name": "HTMLModel",
       "_view_count": null,
       "_view_module": "@jupyter-widgets/controls",
       "_view_module_version": "2.0.0",
       "_view_name": "HTMLView",
       "description": "",
       "description_allow_html": false,
       "layout": "IPY_MODEL_86171259f13341d795e647ecc08cd3b3",
       "placeholder": "​",
       "style": "IPY_MODEL_98326622d4714a36bebd5cbea8309fe3",
       "tabbable": null,
       "tooltip": null,
       "value": "l2_norm:     4.1404 | train_loss:     2.3375 | train_mse:     0.2673 | val_rmse:     0.6134 | : 100%"
      }
     }
    },
    "version_major": 2,
    "version_minor": 0
   }
  }
 },
 "nbformat": 4,
 "nbformat_minor": 2
}
