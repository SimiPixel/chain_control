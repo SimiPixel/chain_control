{
 "cells": [
  {
   "cell_type": "code",
   "execution_count": 1,
   "metadata": {
    "execution": {
     "iopub.execute_input": "2023-09-06T08:18:47.019681Z",
     "iopub.status.busy": "2023-09-06T08:18:47.019268Z",
     "iopub.status.idle": "2023-09-06T08:18:47.975902Z",
     "shell.execute_reply": "2023-09-06T08:18:47.975422Z"
    }
   },
   "outputs": [],
   "source": [
    "from cc.env.collect import sample_feedforward_and_collect\n",
    "from cc.env import make_env\n",
    "from cc.examples.neural_ode_model_compact_example import make_neural_ode_model\n",
    "from cc.train import (\n",
    "    ModelControllerTrainer, TrainingOptionsModel, \n",
    "    EvaluationMetrices, Tracker, make_dataloader, DictLogger,\n",
    "    Regularisation, SupervisedDataset\n",
    ")\n",
    "import jax.random as jrand\n",
    "from cc.utils import rmse, l2_norm\n",
    "import optax\n",
    "import jax.numpy as jnp"
   ]
  },
  {
   "cell_type": "code",
   "execution_count": 2,
   "metadata": {
    "execution": {
     "iopub.execute_input": "2023-09-06T08:18:47.977936Z",
     "iopub.status.busy": "2023-09-06T08:18:47.977767Z",
     "iopub.status.idle": "2023-09-06T08:18:48.032447Z",
     "shell.execute_reply": "2023-09-06T08:18:48.032131Z"
    }
   },
   "outputs": [],
   "source": [
    "time_limit = 10.0\n",
    "control_timestep = 0.01\n",
    "\n",
    "env = make_env(\"two_segments_v1\", time_limit=time_limit, control_timestep=control_timestep, random=1)"
   ]
  },
  {
   "cell_type": "code",
   "execution_count": 3,
   "metadata": {
    "execution": {
     "iopub.execute_input": "2023-09-06T08:18:48.033935Z",
     "iopub.status.busy": "2023-09-06T08:18:48.033853Z",
     "iopub.status.idle": "2023-09-06T08:19:04.960585Z",
     "shell.execute_reply": "2023-09-06T08:19:04.960126Z"
    }
   },
   "outputs": [],
   "source": [
    "sample_train = sample_feedforward_and_collect(\n",
    "    env,\n",
    "    seeds_gp=[0,1,2,3,4,5,6,7,8,9,10,11],\n",
    "    seeds_cos=[1,2,3,4,5,6,7,8,9,10,12,14]\n",
    ")\n",
    "\n",
    "sample_val = sample_feedforward_and_collect(\n",
    "    env, \n",
    "    seeds_gp=[15, 16, 17, 18],\n",
    "    seeds_cos=[2.5, 5.0, 7.5, 10.0]\n",
    ")"
   ]
  },
  {
   "cell_type": "code",
   "execution_count": 4,
   "metadata": {
    "execution": {
     "iopub.execute_input": "2023-09-06T08:19:04.962297Z",
     "iopub.status.busy": "2023-09-06T08:19:04.962191Z",
     "iopub.status.idle": "2023-09-06T08:19:05.149900Z",
     "shell.execute_reply": "2023-09-06T08:19:05.149515Z"
    }
   },
   "outputs": [],
   "source": [
    "model = make_neural_ode_model(\n",
    "    env.action_spec(),\n",
    "    env.observation_spec(),\n",
    "    env.control_timestep(),\n",
    "    state_dim=50,\n",
    "    f_depth=0, \n",
    "    u_transform=jnp.arctan\n",
    ")"
   ]
  },
  {
   "cell_type": "code",
   "execution_count": 5,
   "metadata": {
    "execution": {
     "iopub.execute_input": "2023-09-06T08:19:05.151708Z",
     "iopub.status.busy": "2023-09-06T08:19:05.151578Z",
     "iopub.status.idle": "2023-09-06T08:19:05.341382Z",
     "shell.execute_reply": "2023-09-06T08:19:05.340923Z"
    }
   },
   "outputs": [],
   "source": [
    "model_train_dataloader = make_dataloader(\n",
    "    SupervisedDataset(sample_train.action, sample_train.obs), # <- (X, y)\n",
    "    jrand.PRNGKey(2,), \n",
    "    n_minibatches=4\n",
    ")\n",
    "\n",
    "optimizer = optax.adam(1e-3)\n",
    "\n",
    "regularisers = (\n",
    "    Regularisation(\n",
    "        prefactor = 0.5,\n",
    "        reduce_weights = lambda vector_of_params: {\"l2_norm\": l2_norm(vector_of_params)}\n",
    "    ),\n",
    ")\n",
    "\n",
    "metrices = (\n",
    "    EvaluationMetrices(\n",
    "        data = (sample_val.action, sample_val.obs), # <- (X, y)\n",
    "        metrices=(\n",
    "            lambda y, yhat: {\"val_rmse\": rmse(y, yhat)}, \n",
    "        )\n",
    "    ),\n",
    ")\n",
    "\n",
    "model_train_options = TrainingOptionsModel(\n",
    "    model_train_dataloader, \n",
    "    optimizer, \n",
    "    regularisers=regularisers,\n",
    "    metrices=metrices\n",
    ")\n",
    "\n",
    "model_trainer = ModelControllerTrainer(\n",
    "    model, \n",
    "    model_train_options=model_train_options,\n",
    "    loggers=[DictLogger()],\n",
    "    trackers=[Tracker(\"val_rmse\")]\n",
    ")"
   ]
  },
  {
   "cell_type": "code",
   "execution_count": 6,
   "metadata": {
    "execution": {
     "iopub.execute_input": "2023-09-06T08:19:05.343099Z",
     "iopub.status.busy": "2023-09-06T08:19:05.342984Z",
     "iopub.status.idle": "2023-09-06T08:20:08.225437Z",
     "shell.execute_reply": "2023-09-06T08:20:08.225072Z"
    }
   },
   "outputs": [
    {
     "data": {
      "application/vnd.jupyter.widget-view+json": {
       "model_id": "bbae7d7b886d4059b7eb8db69e73712f",
       "version_major": 2,
       "version_minor": 0
      },
      "text/plain": [
       "  0%|          | 0/700 [00:00<?, ?it/s]"
      ]
     },
     "metadata": {},
     "output_type": "display_data"
    }
   ],
   "source": [
    "model_trainer.run(700)"
   ]
  },
  {
   "cell_type": "code",
   "execution_count": 7,
   "metadata": {
    "execution": {
     "iopub.execute_input": "2023-09-06T08:20:08.227052Z",
     "iopub.status.busy": "2023-09-06T08:20:08.226935Z",
     "iopub.status.idle": "2023-09-06T08:20:08.229356Z",
     "shell.execute_reply": "2023-09-06T08:20:08.229082Z"
    }
   },
   "outputs": [
    {
     "data": {
      "text/plain": [
       "0.49350584"
      ]
     },
     "execution_count": 7,
     "metadata": {},
     "output_type": "execute_result"
    }
   ],
   "source": [
    "model_trainer.trackers[0].best_metric()"
   ]
  },
  {
   "cell_type": "code",
   "execution_count": 8,
   "metadata": {
    "execution": {
     "iopub.execute_input": "2023-09-06T08:20:08.230739Z",
     "iopub.status.busy": "2023-09-06T08:20:08.230643Z",
     "iopub.status.idle": "2023-09-06T08:20:08.232393Z",
     "shell.execute_reply": "2023-09-06T08:20:08.232116Z"
    }
   },
   "outputs": [],
   "source": [
    "fitted_model = model_trainer.trackers[0].best_model_or_controller()"
   ]
  },
  {
   "cell_type": "code",
   "execution_count": 9,
   "metadata": {
    "execution": {
     "iopub.execute_input": "2023-09-06T08:20:08.233801Z",
     "iopub.status.busy": "2023-09-06T08:20:08.233698Z",
     "iopub.status.idle": "2023-09-06T08:20:08.277731Z",
     "shell.execute_reply": "2023-09-06T08:20:08.277448Z"
    }
   },
   "outputs": [
    {
     "data": {
      "text/plain": [
       "OrderedDict([('xpos_of_segment_end', Array([0.11745489], dtype=float32))])"
      ]
     },
     "execution_count": 9,
     "metadata": {},
     "output_type": "execute_result"
    }
   ],
   "source": [
    "import numpy as np\n",
    "import equinox as eqx\n",
    "\n",
    "action = np.array([0.2])\n",
    "# this returns a new model with an updated internal state\n",
    "# and of course the actual prediction of the observation\n",
    "fitted_model, predicted_obs = eqx.filter_jit(fitted_model.step)(action)\n",
    "predicted_obs"
   ]
  },
  {
   "cell_type": "code",
   "execution_count": 10,
   "metadata": {
    "execution": {
     "iopub.execute_input": "2023-09-06T08:20:08.279188Z",
     "iopub.status.busy": "2023-09-06T08:20:08.279100Z",
     "iopub.status.idle": "2023-09-06T08:20:08.354569Z",
     "shell.execute_reply": "2023-09-06T08:20:08.354285Z"
    }
   },
   "outputs": [
    {
     "data": {
      "text/plain": [
       "OrderedDict([('xpos_of_segment_end', Array([0.11886896], dtype=float32))])"
      ]
     },
     "execution_count": 10,
     "metadata": {},
     "output_type": "execute_result"
    }
   ],
   "source": [
    "fitted_model, predicted_obs = fitted_model.step(action)\n",
    "predicted_obs"
   ]
  },
  {
   "cell_type": "code",
   "execution_count": 11,
   "metadata": {
    "execution": {
     "iopub.execute_input": "2023-09-06T08:20:08.356059Z",
     "iopub.status.busy": "2023-09-06T08:20:08.355972Z",
     "iopub.status.idle": "2023-09-06T08:20:08.359307Z",
     "shell.execute_reply": "2023-09-06T08:20:08.359054Z"
    }
   },
   "outputs": [
    {
     "data": {
      "text/plain": [
       "OrderedDict([('xpos_of_segment_end', Array([0.12032566], dtype=float32))])"
      ]
     },
     "execution_count": 11,
     "metadata": {},
     "output_type": "execute_result"
    }
   ],
   "source": [
    "fitted_model, predicted_obs = fitted_model.step(action)\n",
    "predicted_obs"
   ]
  },
  {
   "cell_type": "code",
   "execution_count": 12,
   "metadata": {
    "execution": {
     "iopub.execute_input": "2023-09-06T08:20:08.360643Z",
     "iopub.status.busy": "2023-09-06T08:20:08.360561Z",
     "iopub.status.idle": "2023-09-06T08:20:08.363966Z",
     "shell.execute_reply": "2023-09-06T08:20:08.363693Z"
    }
   },
   "outputs": [
    {
     "data": {
      "text/plain": [
       "OrderedDict([('xpos_of_segment_end', Array([0.12182535], dtype=float32))])"
      ]
     },
     "execution_count": 12,
     "metadata": {},
     "output_type": "execute_result"
    }
   ],
   "source": [
    "fitted_model, predicted_obs = fitted_model.step(action)\n",
    "predicted_obs"
   ]
  },
  {
   "cell_type": "markdown",
   "metadata": {},
   "source": [
    "Finally, you can also replace the `Mujoco` physics component in your environment with your model. \n",
    "\n",
    "This creates a new environment that looks exactly the same from outside."
   ]
  },
  {
   "cell_type": "code",
   "execution_count": 13,
   "metadata": {
    "execution": {
     "iopub.execute_input": "2023-09-06T08:20:08.365420Z",
     "iopub.status.busy": "2023-09-06T08:20:08.365334Z",
     "iopub.status.idle": "2023-09-06T08:20:08.372520Z",
     "shell.execute_reply": "2023-09-06T08:20:08.372264Z"
    }
   },
   "outputs": [],
   "source": [
    "from cc.env.wrappers import ReplacePhysicsByModelWrapper\n",
    "\n",
    "env_model = ReplacePhysicsByModelWrapper(env, fitted_model)"
   ]
  },
  {
   "cell_type": "code",
   "execution_count": 14,
   "metadata": {
    "execution": {
     "iopub.execute_input": "2023-09-06T08:20:08.373838Z",
     "iopub.status.busy": "2023-09-06T08:20:08.373764Z",
     "iopub.status.idle": "2023-09-06T08:20:08.376273Z",
     "shell.execute_reply": "2023-09-06T08:20:08.375996Z"
    }
   },
   "outputs": [
    {
     "data": {
      "text/plain": [
       "OrderedDict([('xpos_of_segment_end', Array([0.11608308], dtype=float32))])"
      ]
     },
     "execution_count": 14,
     "metadata": {},
     "output_type": "execute_result"
    }
   ],
   "source": [
    "fitted_model.y0()"
   ]
  },
  {
   "cell_type": "code",
   "execution_count": 15,
   "metadata": {
    "execution": {
     "iopub.execute_input": "2023-09-06T08:20:08.377603Z",
     "iopub.status.busy": "2023-09-06T08:20:08.377522Z",
     "iopub.status.idle": "2023-09-06T08:20:08.380227Z",
     "shell.execute_reply": "2023-09-06T08:20:08.379970Z"
    }
   },
   "outputs": [
    {
     "data": {
      "text/plain": [
       "TimeStep(step_type=<StepType.FIRST: 0>, reward=None, discount=None, observation=OrderedDict([('xpos_of_segment_end', array([0.11608308], dtype=float32))]))"
      ]
     },
     "execution_count": 15,
     "metadata": {},
     "output_type": "execute_result"
    }
   ],
   "source": [
    "env_model.reset()"
   ]
  },
  {
   "cell_type": "code",
   "execution_count": 16,
   "metadata": {
    "execution": {
     "iopub.execute_input": "2023-09-06T08:20:08.381652Z",
     "iopub.status.busy": "2023-09-06T08:20:08.381563Z",
     "iopub.status.idle": "2023-09-06T08:20:08.384887Z",
     "shell.execute_reply": "2023-09-06T08:20:08.384615Z"
    }
   },
   "outputs": [
    {
     "data": {
      "text/plain": [
       "TimeStep(step_type=<StepType.MID: 1>, reward=array(0., dtype=float32), discount=0.0, observation=OrderedDict([('xpos_of_segment_end', array([0.11745489], dtype=float32))]))"
      ]
     },
     "execution_count": 16,
     "metadata": {},
     "output_type": "execute_result"
    }
   ],
   "source": [
    "env_model.step(action)"
   ]
  },
  {
   "cell_type": "code",
   "execution_count": 17,
   "metadata": {
    "execution": {
     "iopub.execute_input": "2023-09-06T08:20:08.386273Z",
     "iopub.status.busy": "2023-09-06T08:20:08.386195Z",
     "iopub.status.idle": "2023-09-06T08:20:08.389144Z",
     "shell.execute_reply": "2023-09-06T08:20:08.388884Z"
    }
   },
   "outputs": [
    {
     "data": {
      "text/plain": [
       "TimeStep(step_type=<StepType.MID: 1>, reward=array(0., dtype=float32), discount=0.0, observation=OrderedDict([('xpos_of_segment_end', array([0.11886896], dtype=float32))]))"
      ]
     },
     "execution_count": 17,
     "metadata": {},
     "output_type": "execute_result"
    }
   ],
   "source": [
    "env_model.step(action)"
   ]
  },
  {
   "cell_type": "markdown",
   "metadata": {},
   "source": [
    "Now that the model is an environment, we can also now use all of our `collect` technology"
   ]
  },
  {
   "cell_type": "code",
   "execution_count": 18,
   "metadata": {
    "execution": {
     "iopub.execute_input": "2023-09-06T08:20:08.390463Z",
     "iopub.status.busy": "2023-09-06T08:20:08.390385Z",
     "iopub.status.idle": "2023-09-06T08:20:09.187947Z",
     "shell.execute_reply": "2023-09-06T08:20:09.187504Z"
    }
   },
   "outputs": [],
   "source": [
    "from cc.examples.feedforward_controller import make_feedforward_controller\n",
    "from cc.env.collect import collect\n",
    "from cc.utils.utils import timestep_array_from_env\n",
    "\n",
    "controller = make_feedforward_controller(sample_train.action[0])\n",
    "pred_sample, _ = collect(env_model, controller)\n",
    "\n",
    "import matplotlib.pyplot as plt "
   ]
  },
  {
   "cell_type": "code",
   "execution_count": 19,
   "metadata": {
    "execution": {
     "iopub.execute_input": "2023-09-06T08:20:09.189709Z",
     "iopub.status.busy": "2023-09-06T08:20:09.189556Z",
     "iopub.status.idle": "2023-09-06T08:20:09.194960Z",
     "shell.execute_reply": "2023-09-06T08:20:09.194691Z"
    }
   },
   "outputs": [],
   "source": [
    "%matplotlib inline"
   ]
  },
  {
   "cell_type": "code",
   "execution_count": 20,
   "metadata": {
    "execution": {
     "iopub.execute_input": "2023-09-06T08:20:09.196509Z",
     "iopub.status.busy": "2023-09-06T08:20:09.196428Z",
     "iopub.status.idle": "2023-09-06T08:20:09.329442Z",
     "shell.execute_reply": "2023-09-06T08:20:09.328809Z"
    }
   },
   "outputs": [
    {
     "data": {
      "text/plain": [
       "<matplotlib.legend.Legend at 0x2b9fab070>"
      ]
     },
     "execution_count": 20,
     "metadata": {},
     "output_type": "execute_result"
    },
    {
     "data": {
      "image/png": "[encoded data removed]",
      "text/plain": [
       "<Figure size 640x480 with 1 Axes>"
      ]
     },
     "metadata": {},
     "output_type": "display_data"
    }
   ],
   "source": [
    "ts = timestep_array_from_env(env)\n",
    "plt.plot(ts, sample_train.obs[\"xpos_of_segment_end\"][0, :-1], label=\"physics-based\")\n",
    "plt.plot(ts, pred_sample.obs[\"xpos_of_segment_end\"][0, :-1], label = \"model-based\")\n",
    "plt.xlabel(\"time [s]\")\n",
    "plt.ylabel(\"x-position of segment end\")\n",
    "plt.legend()\n"
   ]
  },
  {
   "cell_type": "code",
   "execution_count": 21,
   "metadata": {
    "execution": {
     "iopub.execute_input": "2023-09-06T08:20:09.332531Z",
     "iopub.status.busy": "2023-09-06T08:20:09.332268Z",
     "iopub.status.idle": "2023-09-06T08:20:09.337027Z",
     "shell.execute_reply": "2023-09-06T08:20:09.336349Z"
    }
   },
   "outputs": [],
   "source": [
    "# save model for usage in next notebook\n",
    "eqx.tree_serialise_leaves(\"model.eqx\", fitted_model)"
   ]
  },
  {
   "cell_type": "code",
   "execution_count": 22,
   "metadata": {
    "execution": {
     "iopub.execute_input": "2023-09-06T08:20:09.340175Z",
     "iopub.status.busy": "2023-09-06T08:20:09.339924Z",
     "iopub.status.idle": "2023-09-06T08:20:09.348809Z",
     "shell.execute_reply": "2023-09-06T08:20:09.348217Z"
    }
   },
   "outputs": [],
   "source": [
    "# reload model\n",
    "del fitted_model\n",
    "fitted_model = eqx.tree_deserialise_leaves(\"model.eqx\", model) "
   ]
  },
  {
   "cell_type": "code",
   "execution_count": null,
   "metadata": {},
   "outputs": [],
   "source": []
  }
 ],
 "metadata": {
  "kernelspec": {
   "display_name": "chain_control",
   "language": "python",
   "name": "python3"
  },
  "language_info": {
   "codemirror_mode": {
    "name": "ipython",
    "version": 3
   },
   "file_extension": ".py",
   "mimetype": "text/x-python",
   "name": "python",
   "nbconvert_exporter": "python",
   "pygments_lexer": "ipython3",
   "version": "3.10.12"
  },
  "vscode": {
   "interpreter": {
    "hash": "8d9c863fb986fa342e8b7e2ad667cb8566ab6ae40647af51ec8caf787fd66a57"
   }
  },
  "widgets": {
   "application/vnd.jupyter.widget-state+json": {
    "state": {
     "151b459348fd4a7d8347ac38bc5c5432": {
      "model_module": "@jupyter-widgets/base",
      "model_module_version": "2.0.0",
      "model_name": "LayoutModel",
      "state": {
       "_model_module": "@jupyter-widgets/base",
       "_model_module_version": "2.0.0",
       "_model_name": "LayoutModel",
       "_view_count": null,
       "_view_module": "@jupyter-widgets/base",
       "_view_module_version": "2.0.0",
       "_view_name": "LayoutView",
       "align_content": null,
       "align_items": null,
       "align_self": null,
       "border_bottom": null,
       "border_left": null,
       "border_right": null,
       "border_top": null,
       "bottom": null,
       "display": null,
       "flex": null,
       "flex_flow": null,
       "grid_area": null,
       "grid_auto_columns": null,
       "grid_auto_flow": null,
       "grid_auto_rows": null,
       "grid_column": null,
       "grid_gap": null,
       "grid_row": null,
       "grid_template_areas": null,
       "grid_template_columns": null,
       "grid_template_rows": null,
       "height": null,
       "justify_content": null,
       "justify_items": null,
       "left": null,
       "margin": null,
       "max_height": null,
       "max_width": null,
       "min_height": null,
       "min_width": null,
       "object_fit": null,
       "object_position": null,
       "order": null,
       "overflow": null,
       "padding": null,
       "right": null,
       "top": null,
       "visibility": null,
       "width": null
      }
     },
     "480e33782368403db74e1be0ba1869b6": {
      "model_module": "@jupyter-widgets/controls",
      "model_module_version": "2.0.0",
      "model_name": "HTMLStyleModel",
      "state": {
       "_model_module": "@jupyter-widgets/controls",
       "_model_module_version": "2.0.0",
       "_model_name": "HTMLStyleModel",
       "_view_count": null,
       "_view_module": "@jupyter-widgets/base",
       "_view_module_version": "2.0.0",
       "_view_name": "StyleView",
       "background": null,
       "description_width": "",
       "font_size": null,
       "text_color": null
      }
     },
     "8bce9d4453844725b6e95645eb2df68d": {
      "model_module": "@jupyter-widgets/controls",
      "model_module_version": "2.0.0",
      "model_name": "FloatProgressModel",
      "state": {
       "_dom_classes": [],
       "_model_module": "@jupyter-widgets/controls",
       "_model_module_version": "2.0.0",
       "_model_name": "FloatProgressModel",
       "_view_count": null,
       "_view_module": "@jupyter-widgets/controls",
       "_view_module_version": "2.0.0",
       "_view_name": "ProgressView",
       "bar_style": "success",
       "description": "",
       "description_allow_html": false,
       "layout": "IPY_MODEL_b075b073d1824decb82f1f4dcd6b8053",
       "max": 700.0,
       "min": 0.0,
       "orientation": "horizontal",
       "style": "IPY_MODEL_af7024e0476342479f0af3c5002c4f58",
       "tabbable": null,
       "tooltip": null,
       "value": 700.0
      }
     },
     "a034ceb26653466ea68137df4e454273": {
      "model_module": "@jupyter-widgets/controls",
      "model_module_version": "2.0.0",
      "model_name": "HTMLModel",
      "state": {
       "_dom_classes": [],
       "_model_module": "@jupyter-widgets/controls",
       "_model_module_version": "2.0.0",
       "_model_name": "HTMLModel",
       "_view_count": null,
       "_view_module": "@jupyter-widgets/controls",
       "_view_module_version": "2.0.0",
       "_view_name": "HTMLView",
       "description": "",
       "description_allow_html": false,
       "layout": "IPY_MODEL_151b459348fd4a7d8347ac38bc5c5432",
       "placeholder": "​",
       "style": "IPY_MODEL_acb2a017f36e445db5b63f586cbad5a1",
       "tabbable": null,
       "tooltip": null,
       "value": "l2_norm: 4.14878511 | train_loss: 2.33550310 | train_mse: 0.26111078 | val_rmse: 0.60079336 | : 100%"
      }
     },
     "acb2a017f36e445db5b63f586cbad5a1": {
      "model_module": "@jupyter-widgets/controls",
      "model_module_version": "2.0.0",
      "model_name": "HTMLStyleModel",
      "state": {
       "_model_module": "@jupyter-widgets/controls",
       "_model_module_version": "2.0.0",
       "_model_name": "HTMLStyleModel",
       "_view_count": null,
       "_view_module": "@jupyter-widgets/base",
       "_view_module_version": "2.0.0",
       "_view_name": "StyleView",
       "background": null,
       "description_width": "",
       "font_size": null,
       "text_color": null
      }
     },
     "af7024e0476342479f0af3c5002c4f58": {
      "model_module": "@jupyter-widgets/controls",
      "model_module_version": "2.0.0",
      "model_name": "ProgressStyleModel",
      "state": {
       "_model_module": "@jupyter-widgets/controls",
       "_model_module_version": "2.0.0",
       "_model_name": "ProgressStyleModel",
       "_view_count": null,
       "_view_module": "@jupyter-widgets/base",
       "_view_module_version": "2.0.0",
       "_view_name": "StyleView",
       "bar_color": null,
       "description_width": ""
      }
     },
     "b075b073d1824decb82f1f4dcd6b8053": {
      "model_module": "@jupyter-widgets/base",
      "model_module_version": "2.0.0",
      "model_name": "LayoutModel",
      "state": {
       "_model_module": "@jupyter-widgets/base",
       "_model_module_version": "2.0.0",
       "_model_name": "LayoutModel",
       "_view_count": null,
       "_view_module": "@jupyter-widgets/base",
       "_view_module_version": "2.0.0",
       "_view_name": "LayoutView",
       "align_content": null,
       "align_items": null,
       "align_self": null,
       "border_bottom": null,
       "border_left": null,
       "border_right": null,
       "border_top": null,
       "bottom": null,
       "display": null,
       "flex": null,
       "flex_flow": null,
       "grid_area": null,
       "grid_auto_columns": null,
       "grid_auto_flow": null,
       "grid_auto_rows": null,
       "grid_column": null,
       "grid_gap": null,
       "grid_row": null,
       "grid_template_areas": null,
       "grid_template_columns": null,
       "grid_template_rows": null,
       "height": null,
       "justify_content": null,
       "justify_items": null,
       "left": null,
       "margin": null,
       "max_height": null,
       "max_width": null,
       "min_height": null,
       "min_width": null,
       "object_fit": null,
       "object_position": null,
       "order": null,
       "overflow": null,
       "padding": null,
       "right": null,
       "top": null,
       "visibility": null,
       "width": null
      }
     },
     "bbae7d7b886d4059b7eb8db69e73712f": {
      "model_module": "@jupyter-widgets/controls",
      "model_module_version": "2.0.0",
      "model_name": "HBoxModel",
      "state": {
       "_dom_classes": [],
       "_model_module": "@jupyter-widgets/controls",
       "_model_module_version": "2.0.0",
       "_model_name": "HBoxModel",
       "_view_count": null,
       "_view_module": "@jupyter-widgets/controls",
       "_view_module_version": "2.0.0",
       "_view_name": "HBoxView",
       "box_style": "",
       "children": [
        "IPY_MODEL_a034ceb26653466ea68137df4e454273",
        "IPY_MODEL_8bce9d4453844725b6e95645eb2df68d",
        "IPY_MODEL_bd7e5c026ee54b7495d7a961a98c936a"
       ],
       "layout": "IPY_MODEL_e31e9a9708a54a799eeeefbaf7e109bb",
       "tabbable": null,
       "tooltip": null
      }
     },
     "bd7e5c026ee54b7495d7a961a98c936a": {
      "model_module": "@jupyter-widgets/controls",
      "model_module_version": "2.0.0",
      "model_name": "HTMLModel",
      "state": {
       "_dom_classes": [],
       "_model_module": "@jupyter-widgets/controls",
       "_model_module_version": "2.0.0",
       "_model_name": "HTMLModel",
       "_view_count": null,
       "_view_module": "@jupyter-widgets/controls",
       "_view_module_version": "2.0.0",
       "_view_name": "HTMLView",
       "description": "",
       "description_allow_html": false,
       "layout": "IPY_MODEL_c033990963154431814982ec891f6d3c",
       "placeholder": "​",
       "style": "IPY_MODEL_480e33782368403db74e1be0ba1869b6",
       "tabbable": null,
       "tooltip": null,
       "value": " 700/700 [01:02&lt;00:00, 11.76it/s]"
      }
     },
     "c033990963154431814982ec891f6d3c": {
      "model_module": "@jupyter-widgets/base",
      "model_module_version": "2.0.0",
      "model_name": "LayoutModel",
      "state": {
       "_model_module": "@jupyter-widgets/base",
       "_model_module_version": "2.0.0",
       "_model_name": "LayoutModel",
       "_view_count": null,
       "_view_module": "@jupyter-widgets/base",
       "_view_module_version": "2.0.0",
       "_view_name": "LayoutView",
       "align_content": null,
       "align_items": null,
       "align_self": null,
       "border_bottom": null,
       "border_left": null,
       "border_right": null,
       "border_top": null,
       "bottom": null,
       "display": null,
       "flex": null,
       "flex_flow": null,
       "grid_area": null,
       "grid_auto_columns": null,
       "grid_auto_flow": null,
       "grid_auto_rows": null,
       "grid_column": null,
       "grid_gap": null,
       "grid_row": null,
       "grid_template_areas": null,
       "grid_template_columns": null,
       "grid_template_rows": null,
       "height": null,
       "justify_content": null,
       "justify_items": null,
       "left": null,
       "margin": null,
       "max_height": null,
       "max_width": null,
       "min_height": null,
       "min_width": null,
       "object_fit": null,
       "object_position": null,
       "order": null,
       "overflow": null,
       "padding": null,
       "right": null,
       "top": null,
       "visibility": null,
       "width": null
      }
     },
     "e31e9a9708a54a799eeeefbaf7e109bb": {
      "model_module": "@jupyter-widgets/base",
      "model_module_version": "2.0.0",
      "model_name": "LayoutModel",
      "state": {
       "_model_module": "@jupyter-widgets/base",
       "_model_module_version": "2.0.0",
       "_model_name": "LayoutModel",
       "_view_count": null,
       "_view_module": "@jupyter-widgets/base",
       "_view_module_version": "2.0.0",
       "_view_name": "LayoutView",
       "align_content": null,
       "align_items": null,
       "align_self": null,
       "border_bottom": null,
       "border_left": null,
       "border_right": null,
       "border_top": null,
       "bottom": null,
       "display": null,
       "flex": null,
       "flex_flow": null,
       "grid_area": null,
       "grid_auto_columns": null,
       "grid_auto_flow": null,
       "grid_auto_rows": null,
       "grid_column": null,
       "grid_gap": null,
       "grid_row": null,
       "grid_template_areas": null,
       "grid_template_columns": null,
       "grid_template_rows": null,
       "height": null,
       "justify_content": null,
       "justify_items": null,
       "left": null,
       "margin": null,
       "max_height": null,
       "max_width": null,
       "min_height": null,
       "min_width": null,
       "object_fit": null,
       "object_position": null,
       "order": null,
       "overflow": null,
       "padding": null,
       "right": null,
       "top": null,
       "visibility": null,
       "width": null
      }
     }
    },
    "version_major": 2,
    "version_minor": 0
   }
  }
 },
 "nbformat": 4,
 "nbformat_minor": 2
}
