{
 "cells": [
  {
   "cell_type": "markdown",
   "metadata": {},
   "source": [
    "# Collecting data from an environment"
   ]
  },
  {
   "cell_type": "code",
   "execution_count": 1,
   "metadata": {},
   "outputs": [
    {
     "name": "stderr",
     "output_type": "stream",
     "text": [
      "/home/simon/miniforge3/envs/chain_control/lib/python3.9/site-packages/tqdm/auto.py:22: TqdmWarning: IProgress not found. Please update jupyter and ipywidgets. See https://ipywidgets.readthedocs.io/en/stable/user_install.html\n",
      "  from .autonotebook import tqdm as notebook_tqdm\n",
      "WARNING:jax._src.lib.xla_bridge:No GPU/TPU found, falling back to CPU. (Set TF_CPP_MIN_LOG_LEVEL=0 and rerun for more info.)\n"
     ]
    }
   ],
   "source": [
    "from cc.env.collect import (\n",
    "    collect,\n",
    "    collect_exhaust_source,\n",
    "    sample_feedforward_and_collect,\n",
    "    sample_feedforward_collect_and_make_source,\n",
    "    concat_samples\n",
    ")\n",
    "from cc import save, load \n",
    "from cc.env import make_env\n",
    "from cc.env.wrappers import AddRefSignalRewardFnWrapper\n",
    "import matplotlib.pyplot as plt "
   ]
  },
  {
   "cell_type": "code",
   "execution_count": 2,
   "metadata": {},
   "outputs": [],
   "source": [
    "time_limit=5.0 # s\n",
    "control_timestep=0.01 # s \n",
    "\n",
    "env = make_env(\n",
    "    \"two_segments_v1\", \n",
    "    random=1, # the initial condition might be randomized; fixes the seed \n",
    "    control_timestep=control_timestep, # the control rate, here 100 Hz \n",
    "    time_limit=time_limit, # the upper time limit; after 5 seconds the environment is done\n",
    "    delay=0 # whether or not the action is delayed before the environment sees it \n",
    "    )"
   ]
  },
  {
   "cell_type": "code",
   "execution_count": 3,
   "metadata": {},
   "outputs": [],
   "source": [
    "ts = env.ts"
   ]
  },
  {
   "cell_type": "markdown",
   "metadata": {},
   "source": [
    "##### Therefore the length of an episode trajectory will be"
   ]
  },
  {
   "cell_type": "code",
   "execution_count": 4,
   "metadata": {},
   "outputs": [
    {
     "data": {
      "text/plain": [
       "501"
      ]
     },
     "execution_count": 4,
     "metadata": {},
     "output_type": "execute_result"
    }
   ],
   "source": [
    "N = len(ts)+1 # +1 for the initial state (no action performed yet)\n",
    "N"
   ]
  },
  {
   "cell_type": "markdown",
   "metadata": {},
   "source": [
    "#### And we apply inputs at those timesteps"
   ]
  },
  {
   "cell_type": "code",
   "execution_count": 5,
   "metadata": {},
   "outputs": [
    {
     "data": {
      "text/plain": [
       "array([0.  , 0.01, 0.02, 0.03, 0.04, 0.05, 0.06, 0.07, 0.08, 0.09, 0.1 ,\n",
       "       0.11, 0.12, 0.13, 0.14, 0.15, 0.16, 0.17, 0.18, 0.19])"
      ]
     },
     "execution_count": 5,
     "metadata": {},
     "output_type": "execute_result"
    }
   ],
   "source": [
    "ts[:20]"
   ]
  },
  {
   "cell_type": "markdown",
   "metadata": {},
   "source": [
    "#### The input to the system and observation from the system is of the form"
   ]
  },
  {
   "cell_type": "code",
   "execution_count": 6,
   "metadata": {},
   "outputs": [
    {
     "data": {
      "text/plain": [
       "BoundedArray(shape=(1,), dtype=dtype('float32'), name=None, minimum=[-1.e+10], maximum=[1.e+10])"
      ]
     },
     "execution_count": 6,
     "metadata": {},
     "output_type": "execute_result"
    }
   ],
   "source": [
    "env.action_spec()"
   ]
  },
  {
   "cell_type": "code",
   "execution_count": 7,
   "metadata": {},
   "outputs": [
    {
     "data": {
      "text/plain": [
       "OrderedDict([('xpos_of_segment_end',\n",
       "              Array(shape=(1,), dtype=dtype('float32'), name='xpos_of_segment_end'))])"
      ]
     },
     "execution_count": 7,
     "metadata": {},
     "output_type": "execute_result"
    }
   ],
   "source": [
    "env.observation_spec()"
   ]
  },
  {
   "cell_type": "code",
   "execution_count": 8,
   "metadata": {},
   "outputs": [
    {
     "data": {
      "text/plain": [
       "TimeStep(step_type=<StepType.FIRST: 0>, reward=None, discount=None, observation=OrderedDict([('xpos_of_segment_end', array([2.5717583e-16], dtype=float32))]))"
      ]
     },
     "execution_count": 8,
     "metadata": {},
     "output_type": "execute_result"
    }
   ],
   "source": [
    "env.step([0.1])"
   ]
  },
  {
   "cell_type": "code",
   "execution_count": 9,
   "metadata": {},
   "outputs": [
    {
     "data": {
      "text/plain": [
       "TimeStep(step_type=<StepType.FIRST: 0>, reward=None, discount=None, observation=OrderedDict([('xpos_of_segment_end', array([2.5717583e-16], dtype=float32))]))"
      ]
     },
     "execution_count": 9,
     "metadata": {},
     "output_type": "execute_result"
    }
   ],
   "source": [
    "env.reset()"
   ]
  },
  {
   "cell_type": "markdown",
   "metadata": {},
   "source": [
    "##### Let's collect some data from the environment"
   ]
  },
  {
   "cell_type": "code",
   "execution_count": 10,
   "metadata": {},
   "outputs": [],
   "source": [
    "train_sample = sample_feedforward_and_collect(\n",
    "    env, \n",
    "    seeds_gp=[0,1,2], # this uses a gaussian process to draw some fixed action/input trajectories \n",
    "                        # that we then can apply to the system and record the output\n",
    "    seeds_cos=[2,4] # this uses a cosine-wave with a frequency of 2 and 4; really this shouldn't \n",
    "                        # be called seed \n",
    "    )"
   ]
  },
  {
   "cell_type": "code",
   "execution_count": 11,
   "metadata": {},
   "outputs": [
    {
     "data": {
      "text/plain": [
       "cc.env.buffer.replay_element_sample.ReplaySample"
      ]
     },
     "execution_count": 11,
     "metadata": {},
     "output_type": "execute_result"
    }
   ],
   "source": [
    "type(train_sample)"
   ]
  },
  {
   "cell_type": "code",
   "execution_count": 12,
   "metadata": {},
   "outputs": [
    {
     "data": {
      "text/plain": [
       "5"
      ]
     },
     "execution_count": 12,
     "metadata": {},
     "output_type": "execute_result"
    }
   ],
   "source": [
    "train_sample.bs"
   ]
  },
  {
   "cell_type": "code",
   "execution_count": 13,
   "metadata": {},
   "outputs": [
    {
     "data": {
      "text/plain": [
       "(5, 500, 1)"
      ]
     },
     "execution_count": 13,
     "metadata": {},
     "output_type": "execute_result"
    }
   ],
   "source": [
    "train_sample.action.shape"
   ]
  },
  {
   "cell_type": "code",
   "execution_count": 14,
   "metadata": {},
   "outputs": [
    {
     "data": {
      "text/plain": [
       "(5, 501, 1)"
      ]
     },
     "execution_count": 14,
     "metadata": {},
     "output_type": "execute_result"
    }
   ],
   "source": [
    "train_sample.obs[\"xpos_of_segment_end\"].shape"
   ]
  },
  {
   "cell_type": "code",
   "execution_count": 15,
   "metadata": {},
   "outputs": [
    {
     "data": {
      "text/plain": [
       "Text(0, 0.5, 'Motor input')"
      ]
     },
     "execution_count": 15,
     "metadata": {},
     "output_type": "execute_result"
    },
    {
     "data": {
      "image/png": "[encoded data removed]",
      "text/plain": [
       "<Figure size 640x480 with 1 Axes>"
      ]
     },
     "metadata": {},
     "output_type": "display_data"
    }
   ],
   "source": [
    "for idx in range(train_sample.bs):\n",
    "    plt.plot(train_sample.action[idx])\n",
    "plt.ylabel(\"Motor input\")"
   ]
  },
  {
   "cell_type": "code",
   "execution_count": 16,
   "metadata": {},
   "outputs": [
    {
     "data": {
      "text/plain": [
       "Text(0, 0.5, 'X-Position')"
      ]
     },
     "execution_count": 16,
     "metadata": {},
     "output_type": "execute_result"
    },
    {
     "data": {
      "image/png": "[encoded data removed]",
      "text/plain": [
       "<Figure size 640x480 with 1 Axes>"
      ]
     },
     "metadata": {},
     "output_type": "display_data"
    }
   ],
   "source": [
    "for idx in range(train_sample.bs):\n",
    "    plt.plot(train_sample.obs[\"xpos_of_segment_end\"][idx])\n",
    "plt.ylabel(\"X-Position\")"
   ]
  },
  {
   "cell_type": "code",
   "execution_count": 17,
   "metadata": {},
   "outputs": [
    {
     "data": {
      "text/plain": [
       "array([[0.],\n",
       "       [0.],\n",
       "       [0.],\n",
       "       [0.],\n",
       "       [0.],\n",
       "       [0.],\n",
       "       [0.],\n",
       "       [0.],\n",
       "       [0.],\n",
       "       [0.]], dtype=float32)"
      ]
     },
     "execution_count": 17,
     "metadata": {},
     "output_type": "execute_result"
    }
   ],
   "source": [
    "train_sample.rew[0,:10]"
   ]
  },
  {
   "cell_type": "markdown",
   "metadata": {},
   "source": [
    "Notice how there is no reward, how could there be? \n",
    "\n",
    "We have to add \n",
    "- first, create some reference output that we want to track\n",
    "- second, add the reference to the environment and specify a reward-function"
   ]
  },
  {
   "cell_type": "markdown",
   "metadata": {},
   "source": [
    "Let's now create an arbitrary smooth input-trajectory, record the observation of that input as reference and store it "
   ]
  },
  {
   "cell_type": "code",
   "execution_count": 23,
   "metadata": {},
   "outputs": [],
   "source": [
    "reference_source, replay_sample = sample_feedforward_collect_and_make_source(env, seeds = [0,17])\n",
    "# we don't need the replay_sample anymore\n",
    "del replay_sample"
   ]
  },
  {
   "cell_type": "code",
   "execution_count": 24,
   "metadata": {},
   "outputs": [],
   "source": [
    "env_w_rew = AddRefSignalRewardFnWrapper(env, reference_source)"
   ]
  },
  {
   "cell_type": "markdown",
   "metadata": {},
   "source": [
    "Now, the observation is the reference and the actual observation"
   ]
  },
  {
   "cell_type": "code",
   "execution_count": 25,
   "metadata": {},
   "outputs": [
    {
     "data": {
      "text/plain": [
       "OrderedDict([('obs',\n",
       "              OrderedDict([('xpos_of_segment_end',\n",
       "                            Array(shape=(1,), dtype=dtype('float32'), name='xpos_of_segment_end'))])),\n",
       "             ('ref',\n",
       "              OrderedDict([('xpos_of_segment_end',\n",
       "                            Array(shape=(1,), dtype=dtype('float32'), name='xpos_of_segment_end'))]))])"
      ]
     },
     "execution_count": 25,
     "metadata": {},
     "output_type": "execute_result"
    }
   ],
   "source": [
    "env_w_rew.observation_spec()"
   ]
  },
  {
   "cell_type": "markdown",
   "metadata": {},
   "source": [
    "And the environment now has some reward"
   ]
  },
  {
   "cell_type": "code",
   "execution_count": 26,
   "metadata": {},
   "outputs": [
    {
     "data": {
      "text/plain": [
       "DeviceArray(-1.0913188e-09, dtype=float32)"
      ]
     },
     "execution_count": 26,
     "metadata": {},
     "output_type": "execute_result"
    }
   ],
   "source": [
    "env_w_rew.step([0.1]).reward"
   ]
  },
  {
   "cell_type": "code",
   "execution_count": 27,
   "metadata": {},
   "outputs": [
    {
     "data": {
      "text/plain": [
       "DeviceArray(-5.566566e-09, dtype=float32)"
      ]
     },
     "execution_count": 27,
     "metadata": {},
     "output_type": "execute_result"
    }
   ],
   "source": [
    "env_w_rew.step([0.1]).reward"
   ]
  },
  {
   "cell_type": "markdown",
   "metadata": {},
   "source": [
    "Remember, how our source contains *2* trajectories. So, which one are we currently \"seeing\" in this environment in the observation"
   ]
  },
  {
   "cell_type": "code",
   "execution_count": 28,
   "metadata": {},
   "outputs": [
    {
     "data": {
      "text/plain": [
       "0"
      ]
     },
     "execution_count": 28,
     "metadata": {},
     "output_type": "execute_result"
    }
   ],
   "source": [
    "reference_source._i_actor"
   ]
  },
  {
   "cell_type": "code",
   "execution_count": 29,
   "metadata": {},
   "outputs": [
    {
     "data": {
      "text/plain": [
       "OrderedDict([('xpos_of_segment_end',\n",
       "              DeviceArray([-3.0554147e-05], dtype=float32))])"
      ]
     },
     "execution_count": 29,
     "metadata": {},
     "output_type": "execute_result"
    }
   ],
   "source": [
    "env_w_rew.reset()\n",
    "env_w_rew.step([0.1]).observation[\"ref\"]"
   ]
  },
  {
   "cell_type": "code",
   "execution_count": 31,
   "metadata": {},
   "outputs": [
    {
     "data": {
      "text/plain": [
       "1"
      ]
     },
     "execution_count": 31,
     "metadata": {},
     "output_type": "execute_result"
    }
   ],
   "source": [
    "# let's change the reference to the second one \n",
    "reference_source.change_reference_of_actor(1)\n",
    "reference_source._i_actor"
   ]
  },
  {
   "cell_type": "code",
   "execution_count": 32,
   "metadata": {},
   "outputs": [
    {
     "data": {
      "text/plain": [
       "OrderedDict([('xpos_of_segment_end',\n",
       "              DeviceArray([7.758352e-06], dtype=float32))])"
      ]
     },
     "execution_count": 32,
     "metadata": {},
     "output_type": "execute_result"
    }
   ],
   "source": [
    "# now it is different\n",
    "env_w_rew.reset()\n",
    "env_w_rew.step([0.1]).observation[\"ref\"]"
   ]
  },
  {
   "cell_type": "markdown",
   "metadata": {},
   "source": [
    "### Now we have all the components to \n",
    "- get Training/Testing-data for the training of a *model* using `sample_feedforward_and_collect`\n",
    "- get suitable Reference Trajectories using `sample_feedforward_collect_and_make_source` and add this reference to the environment"
   ]
  },
  {
   "cell_type": "markdown",
   "metadata": {},
   "source": [
    "##### Finally, you can also save/load `source` and `train_sample` using the functions `save` and `load`"
   ]
  },
  {
   "cell_type": "code",
   "execution_count": 33,
   "metadata": {},
   "outputs": [
    {
     "data": {
      "text/plain": [
       "ReplaySample(obs=OrderedDict([('xpos_of_segment_end', array([[[ 2.57175826e-16],\n",
       "        [-3.05541471e-05],\n",
       "        [-6.90016459e-05],\n",
       "        ...,\n",
       "        [-1.03315105e+01],\n",
       "        [-1.03268757e+01],\n",
       "        [-1.03220415e+01]],\n",
       "\n",
       "       [[ 2.57175826e-16],\n",
       "        [ 3.00777738e-05],\n",
       "        [ 6.79362347e-05],\n",
       "        ...,\n",
       "        [ 8.21188831e+00],\n",
       "        [ 8.20172501e+00],\n",
       "        [ 8.19144344e+00]],\n",
       "\n",
       "       [[ 2.57175826e-16],\n",
       "        [ 2.08019374e-05],\n",
       "        [ 4.69383667e-05],\n",
       "        ...,\n",
       "        [-5.17776981e-02],\n",
       "        [-5.12912273e-02],\n",
       "        [-5.03660962e-02]],\n",
       "\n",
       "       [[ 2.57175826e-16],\n",
       "        [ 2.37798849e-05],\n",
       "        [ 5.37460328e-05],\n",
       "        ...,\n",
       "        [-2.21253067e-01],\n",
       "        [-2.15807721e-01],\n",
       "        [-2.09519088e-01]],\n",
       "\n",
       "       [[ 2.57175826e-16],\n",
       "        [ 2.75593084e-05],\n",
       "        [ 6.22796215e-05],\n",
       "        ...,\n",
       "        [-8.75280857e-01],\n",
       "        [-8.69375288e-01],\n",
       "        [-8.60553920e-01]]], dtype=float32))]), action=array([[[-2.7972538 ],\n",
       "        [-2.776233  ],\n",
       "        [-2.754913  ],\n",
       "        ...,\n",
       "        [ 1.6239643 ],\n",
       "        [ 1.6246345 ],\n",
       "        [ 1.6250486 ]],\n",
       "\n",
       "       [[ 2.636936  ],\n",
       "        [ 2.621552  ],\n",
       "        [ 2.6060576 ],\n",
       "        ...,\n",
       "        [-0.576521  ],\n",
       "        [-0.59274185],\n",
       "        [-0.6091601 ]],\n",
       "\n",
       "       [[ 1.1059877 ],\n",
       "        [ 1.0988328 ],\n",
       "        [ 1.0916833 ],\n",
       "        ...,\n",
       "        [ 2.367087  ],\n",
       "        [ 2.383471  ],\n",
       "        [ 2.3995624 ]],\n",
       "\n",
       "       [[ 1.4142135 ],\n",
       "        [ 1.4137652 ],\n",
       "        [ 1.4124202 ],\n",
       "        ...,\n",
       "        [ 1.4124202 ],\n",
       "        [ 1.4137652 ],\n",
       "        [ 1.4142135 ]],\n",
       "\n",
       "       [[ 2.        ],\n",
       "        [ 1.9974638 ],\n",
       "        [ 1.9898616 ],\n",
       "        ...,\n",
       "        [ 1.9898616 ],\n",
       "        [ 1.9974638 ],\n",
       "        [ 2.        ]]], dtype=float32), rew=array([[[0.],\n",
       "        [0.],\n",
       "        [0.],\n",
       "        ...,\n",
       "        [0.],\n",
       "        [0.],\n",
       "        [0.]],\n",
       "\n",
       "       [[0.],\n",
       "        [0.],\n",
       "        [0.],\n",
       "        ...,\n",
       "        [0.],\n",
       "        [0.],\n",
       "        [0.]],\n",
       "\n",
       "       [[0.],\n",
       "        [0.],\n",
       "        [0.],\n",
       "        ...,\n",
       "        [0.],\n",
       "        [0.],\n",
       "        [0.]],\n",
       "\n",
       "       [[0.],\n",
       "        [0.],\n",
       "        [0.],\n",
       "        ...,\n",
       "        [0.],\n",
       "        [0.],\n",
       "        [0.]],\n",
       "\n",
       "       [[0.],\n",
       "        [0.],\n",
       "        [0.],\n",
       "        ...,\n",
       "        [0.],\n",
       "        [0.],\n",
       "        [0.]]], dtype=float32), done=array([[[0.],\n",
       "        [0.],\n",
       "        [0.],\n",
       "        ...,\n",
       "        [0.],\n",
       "        [0.],\n",
       "        [1.]],\n",
       "\n",
       "       [[0.],\n",
       "        [0.],\n",
       "        [0.],\n",
       "        ...,\n",
       "        [0.],\n",
       "        [0.],\n",
       "        [1.]],\n",
       "\n",
       "       [[0.],\n",
       "        [0.],\n",
       "        [0.],\n",
       "        ...,\n",
       "        [0.],\n",
       "        [0.],\n",
       "        [1.]],\n",
       "\n",
       "       [[0.],\n",
       "        [0.],\n",
       "        [0.],\n",
       "        ...,\n",
       "        [0.],\n",
       "        [0.],\n",
       "        [1.]],\n",
       "\n",
       "       [[0.],\n",
       "        [0.],\n",
       "        [0.],\n",
       "        ...,\n",
       "        [0.],\n",
       "        [0.],\n",
       "        [1.]]], dtype=float32), extras={})"
      ]
     },
     "execution_count": 33,
     "metadata": {},
     "output_type": "execute_result"
    }
   ],
   "source": [
    "save(train_sample, \"train_sample.pkl\")\n",
    "load(\"train_sample.pkl\")"
   ]
  },
  {
   "cell_type": "code",
   "execution_count": null,
   "metadata": {},
   "outputs": [],
   "source": []
  }
 ],
 "metadata": {
  "kernelspec": {
   "display_name": "Python 3.9.13 ('chain_control')",
   "language": "python",
   "name": "python3"
  },
  "language_info": {
   "codemirror_mode": {
    "name": "ipython",
    "version": 3
   },
   "file_extension": ".py",
   "mimetype": "text/x-python",
   "name": "python",
   "nbconvert_exporter": "python",
   "pygments_lexer": "ipython3",
   "version": "3.9.13"
  },
  "orig_nbformat": 4,
  "vscode": {
   "interpreter": {
    "hash": "8d9c863fb986fa342e8b7e2ad667cb8566ab6ae40647af51ec8caf787fd66a57"
   }
  }
 },
 "nbformat": 4,
 "nbformat_minor": 2
}
