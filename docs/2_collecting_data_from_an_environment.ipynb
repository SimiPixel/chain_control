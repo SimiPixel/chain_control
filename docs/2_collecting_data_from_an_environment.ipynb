{
 "cells": [
  {
   "cell_type": "markdown",
   "metadata": {},
   "source": [
    "# Collecting data from an environment"
   ]
  },
  {
   "cell_type": "code",
   "execution_count": 1,
   "metadata": {
    "execution": {
     "iopub.execute_input": "2023-09-06T08:18:41.712583Z",
     "iopub.status.busy": "2023-09-06T08:18:41.712208Z",
     "iopub.status.idle": "2023-09-06T08:18:42.865487Z",
     "shell.execute_reply": "2023-09-06T08:18:42.865180Z"
    }
   },
   "outputs": [],
   "source": [
    "from cc.env.collect import (\n",
    "    collect,\n",
    "    collect_exhaust_source,\n",
    "    sample_feedforward_and_collect,\n",
    "    sample_feedforward_collect_and_make_source,\n",
    "    concat_samples\n",
    ")\n",
    "from cc import save, load \n",
    "from cc.env import make_env\n",
    "from cc.env.wrappers import AddRefSignalRewardFnWrapper\n",
    "import matplotlib.pyplot as plt \n",
    "from cc.utils.utils import timestep_array_from_env"
   ]
  },
  {
   "cell_type": "code",
   "execution_count": 2,
   "metadata": {
    "execution": {
     "iopub.execute_input": "2023-09-06T08:18:42.867295Z",
     "iopub.status.busy": "2023-09-06T08:18:42.867137Z",
     "iopub.status.idle": "2023-09-06T08:18:42.921852Z",
     "shell.execute_reply": "2023-09-06T08:18:42.921550Z"
    }
   },
   "outputs": [],
   "source": [
    "time_limit=5.0 # s\n",
    "control_timestep=0.01 # s \n",
    "\n",
    "env = make_env(\n",
    "    \"two_segments_v1\", \n",
    "    random=1, # the initial condition might be randomized; fixes the seed \n",
    "    control_timestep=control_timestep, # the control rate, here 100 Hz \n",
    "    time_limit=time_limit, # the upper time limit; after 5 seconds the environment is done\n",
    "    delay=0 # whether or not the action is delayed before the environment sees it \n",
    "    )"
   ]
  },
  {
   "cell_type": "code",
   "execution_count": 3,
   "metadata": {
    "execution": {
     "iopub.execute_input": "2023-09-06T08:18:42.923381Z",
     "iopub.status.busy": "2023-09-06T08:18:42.923299Z",
     "iopub.status.idle": "2023-09-06T08:18:42.925017Z",
     "shell.execute_reply": "2023-09-06T08:18:42.924752Z"
    }
   },
   "outputs": [],
   "source": [
    "ts = timestep_array_from_env(env)"
   ]
  },
  {
   "cell_type": "markdown",
   "metadata": {},
   "source": [
    "##### Therefore the length of an episode trajectory will be"
   ]
  },
  {
   "cell_type": "code",
   "execution_count": 4,
   "metadata": {
    "execution": {
     "iopub.execute_input": "2023-09-06T08:18:42.926448Z",
     "iopub.status.busy": "2023-09-06T08:18:42.926367Z",
     "iopub.status.idle": "2023-09-06T08:18:42.929533Z",
     "shell.execute_reply": "2023-09-06T08:18:42.929274Z"
    }
   },
   "outputs": [
    {
     "data": {
      "text/plain": [
       "501"
      ]
     },
     "execution_count": 4,
     "metadata": {},
     "output_type": "execute_result"
    }
   ],
   "source": [
    "N = len(ts)+1 # +1 for the initial state (no action performed yet)\n",
    "N"
   ]
  },
  {
   "cell_type": "markdown",
   "metadata": {},
   "source": [
    "#### And we apply inputs at those timesteps"
   ]
  },
  {
   "cell_type": "code",
   "execution_count": 5,
   "metadata": {
    "execution": {
     "iopub.execute_input": "2023-09-06T08:18:42.946805Z",
     "iopub.status.busy": "2023-09-06T08:18:42.946695Z",
     "iopub.status.idle": "2023-09-06T08:18:42.948904Z",
     "shell.execute_reply": "2023-09-06T08:18:42.948633Z"
    }
   },
   "outputs": [
    {
     "data": {
      "text/plain": [
       "array([0.  , 0.01, 0.02, 0.03, 0.04, 0.05, 0.06, 0.07, 0.08, 0.09, 0.1 ,\n",
       "       0.11, 0.12, 0.13, 0.14, 0.15, 0.16, 0.17, 0.18, 0.19])"
      ]
     },
     "execution_count": 5,
     "metadata": {},
     "output_type": "execute_result"
    }
   ],
   "source": [
    "ts[:20]"
   ]
  },
  {
   "cell_type": "markdown",
   "metadata": {},
   "source": [
    "#### The input to the system and observation from the system is of the form"
   ]
  },
  {
   "cell_type": "code",
   "execution_count": 6,
   "metadata": {
    "execution": {
     "iopub.execute_input": "2023-09-06T08:18:42.950344Z",
     "iopub.status.busy": "2023-09-06T08:18:42.950240Z",
     "iopub.status.idle": "2023-09-06T08:18:42.952604Z",
     "shell.execute_reply": "2023-09-06T08:18:42.952348Z"
    }
   },
   "outputs": [
    {
     "data": {
      "text/plain": [
       "BoundedArray(shape=(1,), dtype=dtype('float32'), name=None, minimum=[-1.e+10], maximum=[1.e+10])"
      ]
     },
     "execution_count": 6,
     "metadata": {},
     "output_type": "execute_result"
    }
   ],
   "source": [
    "env.action_spec()"
   ]
  },
  {
   "cell_type": "code",
   "execution_count": 7,
   "metadata": {
    "execution": {
     "iopub.execute_input": "2023-09-06T08:18:42.953890Z",
     "iopub.status.busy": "2023-09-06T08:18:42.953793Z",
     "iopub.status.idle": "2023-09-06T08:18:42.956056Z",
     "shell.execute_reply": "2023-09-06T08:18:42.955800Z"
    }
   },
   "outputs": [
    {
     "data": {
      "text/plain": [
       "OrderedDict([('xpos_of_segment_end',\n",
       "              Array(shape=(1,), dtype=dtype('float32'), name='xpos_of_segment_end'))])"
      ]
     },
     "execution_count": 7,
     "metadata": {},
     "output_type": "execute_result"
    }
   ],
   "source": [
    "env.observation_spec()"
   ]
  },
  {
   "cell_type": "code",
   "execution_count": 8,
   "metadata": {
    "execution": {
     "iopub.execute_input": "2023-09-06T08:18:42.957455Z",
     "iopub.status.busy": "2023-09-06T08:18:42.957355Z",
     "iopub.status.idle": "2023-09-06T08:18:42.959836Z",
     "shell.execute_reply": "2023-09-06T08:18:42.959571Z"
    }
   },
   "outputs": [
    {
     "data": {
      "text/plain": [
       "TimeStep(step_type=<StepType.FIRST: 0>, reward=None, discount=None, observation=OrderedDict([('xpos_of_segment_end', array([2.5717583e-16], dtype=float32))]))"
      ]
     },
     "execution_count": 8,
     "metadata": {},
     "output_type": "execute_result"
    }
   ],
   "source": [
    "env.step([0.1])"
   ]
  },
  {
   "cell_type": "code",
   "execution_count": 9,
   "metadata": {
    "execution": {
     "iopub.execute_input": "2023-09-06T08:18:42.961142Z",
     "iopub.status.busy": "2023-09-06T08:18:42.961049Z",
     "iopub.status.idle": "2023-09-06T08:18:42.963351Z",
     "shell.execute_reply": "2023-09-06T08:18:42.963082Z"
    }
   },
   "outputs": [
    {
     "data": {
      "text/plain": [
       "TimeStep(step_type=<StepType.FIRST: 0>, reward=None, discount=None, observation=OrderedDict([('xpos_of_segment_end', array([2.5717583e-16], dtype=float32))]))"
      ]
     },
     "execution_count": 9,
     "metadata": {},
     "output_type": "execute_result"
    }
   ],
   "source": [
    "env.reset()"
   ]
  },
  {
   "cell_type": "markdown",
   "metadata": {},
   "source": [
    "##### Let's collect some data from the environment"
   ]
  },
  {
   "cell_type": "code",
   "execution_count": 10,
   "metadata": {
    "execution": {
     "iopub.execute_input": "2023-09-06T08:18:42.964770Z",
     "iopub.status.busy": "2023-09-06T08:18:42.964673Z",
     "iopub.status.idle": "2023-09-06T08:18:44.334359Z",
     "shell.execute_reply": "2023-09-06T08:18:44.333903Z"
    }
   },
   "outputs": [],
   "source": [
    "train_sample = sample_feedforward_and_collect(\n",
    "    env, \n",
    "    seeds_gp=[0,1,2], # this uses a gaussian process to draw some fixed action/input trajectories \n",
    "                        # that we then can apply to the system and record the output\n",
    "    seeds_cos=[2,4] # this uses a cosine-wave with a frequency of 2 and 4; really this shouldn't \n",
    "                        # be called seed \n",
    "    )"
   ]
  },
  {
   "cell_type": "code",
   "execution_count": 11,
   "metadata": {
    "execution": {
     "iopub.execute_input": "2023-09-06T08:18:44.336118Z",
     "iopub.status.busy": "2023-09-06T08:18:44.336008Z",
     "iopub.status.idle": "2023-09-06T08:18:44.338309Z",
     "shell.execute_reply": "2023-09-06T08:18:44.338044Z"
    }
   },
   "outputs": [
    {
     "data": {
      "text/plain": [
       "cc.env.buffer.replay_element_sample.ReplaySample"
      ]
     },
     "execution_count": 11,
     "metadata": {},
     "output_type": "execute_result"
    }
   ],
   "source": [
    "type(train_sample)"
   ]
  },
  {
   "cell_type": "code",
   "execution_count": 12,
   "metadata": {
    "execution": {
     "iopub.execute_input": "2023-09-06T08:18:44.339759Z",
     "iopub.status.busy": "2023-09-06T08:18:44.339657Z",
     "iopub.status.idle": "2023-09-06T08:18:44.341684Z",
     "shell.execute_reply": "2023-09-06T08:18:44.341438Z"
    }
   },
   "outputs": [
    {
     "data": {
      "text/plain": [
       "5"
      ]
     },
     "execution_count": 12,
     "metadata": {},
     "output_type": "execute_result"
    }
   ],
   "source": [
    "train_sample.bs"
   ]
  },
  {
   "cell_type": "code",
   "execution_count": 13,
   "metadata": {
    "execution": {
     "iopub.execute_input": "2023-09-06T08:18:44.343050Z",
     "iopub.status.busy": "2023-09-06T08:18:44.342949Z",
     "iopub.status.idle": "2023-09-06T08:18:44.344986Z",
     "shell.execute_reply": "2023-09-06T08:18:44.344731Z"
    }
   },
   "outputs": [
    {
     "data": {
      "text/plain": [
       "(5, 500, 1)"
      ]
     },
     "execution_count": 13,
     "metadata": {},
     "output_type": "execute_result"
    }
   ],
   "source": [
    "train_sample.action.shape"
   ]
  },
  {
   "cell_type": "code",
   "execution_count": 14,
   "metadata": {
    "execution": {
     "iopub.execute_input": "2023-09-06T08:18:44.346431Z",
     "iopub.status.busy": "2023-09-06T08:18:44.346331Z",
     "iopub.status.idle": "2023-09-06T08:18:44.348413Z",
     "shell.execute_reply": "2023-09-06T08:18:44.348152Z"
    }
   },
   "outputs": [
    {
     "data": {
      "text/plain": [
       "(5, 501, 1)"
      ]
     },
     "execution_count": 14,
     "metadata": {},
     "output_type": "execute_result"
    }
   ],
   "source": [
    "train_sample.obs[\"xpos_of_segment_end\"].shape"
   ]
  },
  {
   "cell_type": "code",
   "execution_count": 15,
   "metadata": {
    "execution": {
     "iopub.execute_input": "2023-09-06T08:18:44.349796Z",
     "iopub.status.busy": "2023-09-06T08:18:44.349702Z",
     "iopub.status.idle": "2023-09-06T08:18:44.432215Z",
     "shell.execute_reply": "2023-09-06T08:18:44.431869Z"
    }
   },
   "outputs": [],
   "source": [
    "%matplotlib inline"
   ]
  },
  {
   "cell_type": "code",
   "execution_count": 16,
   "metadata": {
    "execution": {
     "iopub.execute_input": "2023-09-06T08:18:44.434128Z",
     "iopub.status.busy": "2023-09-06T08:18:44.433981Z",
     "iopub.status.idle": "2023-09-06T08:18:44.515217Z",
     "shell.execute_reply": "2023-09-06T08:18:44.514901Z"
    }
   },
   "outputs": [
    {
     "data": {
      "image/png": "[encoded data removed]",
      "text/plain": [
       "<Figure size 640x480 with 1 Axes>"
      ]
     },
     "metadata": {},
     "output_type": "display_data"
    }
   ],
   "source": [
    "for idx in range(train_sample.bs):\n",
    "    plt.plot(train_sample.action[idx])\n",
    "plt.ylabel(\"Motor input\")\n",
    "plt.show()"
   ]
  },
  {
   "cell_type": "code",
   "execution_count": 17,
   "metadata": {
    "execution": {
     "iopub.execute_input": "2023-09-06T08:18:44.516940Z",
     "iopub.status.busy": "2023-09-06T08:18:44.516753Z",
     "iopub.status.idle": "2023-09-06T08:18:44.584982Z",
     "shell.execute_reply": "2023-09-06T08:18:44.584625Z"
    }
   },
   "outputs": [
    {
     "data": {
      "text/plain": [
       "Text(0, 0.5, 'X-Position')"
      ]
     },
     "execution_count": 17,
     "metadata": {},
     "output_type": "execute_result"
    },
    {
     "data": {
      "image/png": "[encoded data removed]",
      "text/plain": [
       "<Figure size 640x480 with 1 Axes>"
      ]
     },
     "metadata": {},
     "output_type": "display_data"
    }
   ],
   "source": [
    "for idx in range(train_sample.bs):\n",
    "    plt.plot(train_sample.obs[\"xpos_of_segment_end\"][idx])\n",
    "plt.ylabel(\"X-Position\")"
   ]
  },
  {
   "cell_type": "code",
   "execution_count": 18,
   "metadata": {
    "execution": {
     "iopub.execute_input": "2023-09-06T08:18:44.586735Z",
     "iopub.status.busy": "2023-09-06T08:18:44.586599Z",
     "iopub.status.idle": "2023-09-06T08:18:44.589134Z",
     "shell.execute_reply": "2023-09-06T08:18:44.588823Z"
    }
   },
   "outputs": [
    {
     "data": {
      "text/plain": [
       "array([[0.],\n",
       "       [0.],\n",
       "       [0.],\n",
       "       [0.],\n",
       "       [0.],\n",
       "       [0.],\n",
       "       [0.],\n",
       "       [0.],\n",
       "       [0.],\n",
       "       [0.]], dtype=float32)"
      ]
     },
     "execution_count": 18,
     "metadata": {},
     "output_type": "execute_result"
    }
   ],
   "source": [
    "train_sample.rew[0,:10]"
   ]
  },
  {
   "cell_type": "markdown",
   "metadata": {},
   "source": [
    "Notice how there is no reward, how could there be? \n",
    "\n",
    "We have to add \n",
    "- first, create some reference output that we want to track\n",
    "- second, add the reference to the environment and specify a reward-function"
   ]
  },
  {
   "cell_type": "markdown",
   "metadata": {},
   "source": [
    "Let's now create an arbitrary smooth input-trajectory, record the observation of that input as reference and store it "
   ]
  },
  {
   "cell_type": "code",
   "execution_count": 19,
   "metadata": {
    "execution": {
     "iopub.execute_input": "2023-09-06T08:18:44.590792Z",
     "iopub.status.busy": "2023-09-06T08:18:44.590665Z",
     "iopub.status.idle": "2023-09-06T08:18:45.255953Z",
     "shell.execute_reply": "2023-09-06T08:18:45.255501Z"
    }
   },
   "outputs": [],
   "source": [
    "reference_source, replay_sample, _ = sample_feedforward_collect_and_make_source(env, seeds = [0,17])\n",
    "# we don't need the replay_sample anymore\n",
    "del replay_sample"
   ]
  },
  {
   "cell_type": "code",
   "execution_count": 20,
   "metadata": {
    "execution": {
     "iopub.execute_input": "2023-09-06T08:18:45.257668Z",
     "iopub.status.busy": "2023-09-06T08:18:45.257543Z",
     "iopub.status.idle": "2023-09-06T08:18:45.259359Z",
     "shell.execute_reply": "2023-09-06T08:18:45.259095Z"
    }
   },
   "outputs": [],
   "source": [
    "env_w_rew = AddRefSignalRewardFnWrapper(env, reference_source)"
   ]
  },
  {
   "cell_type": "markdown",
   "metadata": {},
   "source": [
    "Now, the observation is the reference and the actual observation"
   ]
  },
  {
   "cell_type": "code",
   "execution_count": 21,
   "metadata": {
    "execution": {
     "iopub.execute_input": "2023-09-06T08:18:45.260791Z",
     "iopub.status.busy": "2023-09-06T08:18:45.260694Z",
     "iopub.status.idle": "2023-09-06T08:18:45.279388Z",
     "shell.execute_reply": "2023-09-06T08:18:45.279095Z"
    }
   },
   "outputs": [
    {
     "data": {
      "text/plain": [
       "OrderedDict([('ref',\n",
       "              OrderedDict([('xpos_of_segment_end',\n",
       "                            Array(shape=(1,), dtype=dtype('float32'), name='xpos_of_segment_end'))])),\n",
       "             ('obs',\n",
       "              OrderedDict([('xpos_of_segment_end',\n",
       "                            Array(shape=(1,), dtype=dtype('float32'), name='xpos_of_segment_end'))]))])"
      ]
     },
     "execution_count": 21,
     "metadata": {},
     "output_type": "execute_result"
    }
   ],
   "source": [
    "env_w_rew.observation_spec()"
   ]
  },
  {
   "cell_type": "markdown",
   "metadata": {},
   "source": [
    "And the environment now has some reward"
   ]
  },
  {
   "cell_type": "code",
   "execution_count": 22,
   "metadata": {
    "execution": {
     "iopub.execute_input": "2023-09-06T08:18:45.280782Z",
     "iopub.status.busy": "2023-09-06T08:18:45.280692Z",
     "iopub.status.idle": "2023-09-06T08:18:45.305132Z",
     "shell.execute_reply": "2023-09-06T08:18:45.304898Z"
    }
   },
   "outputs": [
    {
     "data": {
      "text/plain": [
       "Array(-1.7880125e-10, dtype=float32)"
      ]
     },
     "execution_count": 22,
     "metadata": {},
     "output_type": "execute_result"
    }
   ],
   "source": [
    "env_w_rew.step([0.1]).reward"
   ]
  },
  {
   "cell_type": "code",
   "execution_count": 23,
   "metadata": {
    "execution": {
     "iopub.execute_input": "2023-09-06T08:18:45.306540Z",
     "iopub.status.busy": "2023-09-06T08:18:45.306442Z",
     "iopub.status.idle": "2023-09-06T08:18:45.309060Z",
     "shell.execute_reply": "2023-09-06T08:18:45.308829Z"
    }
   },
   "outputs": [
    {
     "data": {
      "text/plain": [
       "Array(-9.162138e-10, dtype=float32)"
      ]
     },
     "execution_count": 23,
     "metadata": {},
     "output_type": "execute_result"
    }
   ],
   "source": [
    "env_w_rew.step([0.1]).reward"
   ]
  },
  {
   "cell_type": "markdown",
   "metadata": {},
   "source": [
    "Remember, how our source contains *2* trajectories. So, which one are we currently \"seeing\" in this environment in the observation"
   ]
  },
  {
   "cell_type": "code",
   "execution_count": 24,
   "metadata": {
    "execution": {
     "iopub.execute_input": "2023-09-06T08:18:45.310367Z",
     "iopub.status.busy": "2023-09-06T08:18:45.310267Z",
     "iopub.status.idle": "2023-09-06T08:18:45.312173Z",
     "shell.execute_reply": "2023-09-06T08:18:45.311926Z"
    }
   },
   "outputs": [
    {
     "data": {
      "text/plain": [
       "0"
      ]
     },
     "execution_count": 24,
     "metadata": {},
     "output_type": "execute_result"
    }
   ],
   "source": [
    "reference_source._i_actor"
   ]
  },
  {
   "cell_type": "code",
   "execution_count": 25,
   "metadata": {
    "execution": {
     "iopub.execute_input": "2023-09-06T08:18:45.313502Z",
     "iopub.status.busy": "2023-09-06T08:18:45.313422Z",
     "iopub.status.idle": "2023-09-06T08:18:45.316591Z",
     "shell.execute_reply": "2023-09-06T08:18:45.316329Z"
    }
   },
   "outputs": [
    {
     "data": {
      "text/plain": [
       "OrderedDict([('xpos_of_segment_end', Array([-1.0890691e-05], dtype=float32))])"
      ]
     },
     "execution_count": 25,
     "metadata": {},
     "output_type": "execute_result"
    }
   ],
   "source": [
    "env_w_rew.reset()\n",
    "env_w_rew.step([0.1]).observation[\"ref\"]"
   ]
  },
  {
   "cell_type": "code",
   "execution_count": 26,
   "metadata": {
    "execution": {
     "iopub.execute_input": "2023-09-06T08:18:45.317952Z",
     "iopub.status.busy": "2023-09-06T08:18:45.317866Z",
     "iopub.status.idle": "2023-09-06T08:18:45.319965Z",
     "shell.execute_reply": "2023-09-06T08:18:45.319740Z"
    }
   },
   "outputs": [
    {
     "data": {
      "text/plain": [
       "1"
      ]
     },
     "execution_count": 26,
     "metadata": {},
     "output_type": "execute_result"
    }
   ],
   "source": [
    "# let's change the reference to the second one \n",
    "reference_source.change_reference_of_actor(1)\n",
    "reference_source._i_actor"
   ]
  },
  {
   "cell_type": "code",
   "execution_count": 27,
   "metadata": {
    "execution": {
     "iopub.execute_input": "2023-09-06T08:18:45.321305Z",
     "iopub.status.busy": "2023-09-06T08:18:45.321230Z",
     "iopub.status.idle": "2023-09-06T08:18:45.324342Z",
     "shell.execute_reply": "2023-09-06T08:18:45.324059Z"
    }
   },
   "outputs": [
    {
     "data": {
      "text/plain": [
       "OrderedDict([('xpos_of_segment_end', Array([-4.5886345e-06], dtype=float32))])"
      ]
     },
     "execution_count": 27,
     "metadata": {},
     "output_type": "execute_result"
    }
   ],
   "source": [
    "# now it is different\n",
    "env_w_rew.reset()\n",
    "env_w_rew.step([0.1]).observation[\"ref\"]"
   ]
  },
  {
   "cell_type": "markdown",
   "metadata": {},
   "source": [
    "### Now we have all the components to \n",
    "- get Training/Testing-data for the training of a *model* using `sample_feedforward_and_collect`\n",
    "- get suitable Reference Trajectories using `sample_feedforward_collect_and_make_source` and add this reference to the environment"
   ]
  },
  {
   "cell_type": "markdown",
   "metadata": {},
   "source": [
    "##### Finally, you can also save/load `source` and `train_sample` using the functions `save` and `load`"
   ]
  },
  {
   "cell_type": "code",
   "execution_count": 28,
   "metadata": {
    "execution": {
     "iopub.execute_input": "2023-09-06T08:18:45.325756Z",
     "iopub.status.busy": "2023-09-06T08:18:45.325676Z",
     "iopub.status.idle": "2023-09-06T08:18:45.329269Z",
     "shell.execute_reply": "2023-09-06T08:18:45.328950Z"
    }
   },
   "outputs": [
    {
     "data": {
      "text/plain": [
       "ReplaySample(obs=OrderedDict([('xpos_of_segment_end', array([[[ 2.57175826e-16],\n",
       "        [-1.08906906e-05],\n",
       "        [-2.46612472e-05],\n",
       "        ...,\n",
       "        [-3.51896811e+00],\n",
       "        [-3.51956797e+00],\n",
       "        [-3.52024055e+00]],\n",
       "\n",
       "       [[ 2.57175826e-16],\n",
       "        [ 1.22656975e-05],\n",
       "        [ 2.76726369e-05],\n",
       "        ...,\n",
       "        [ 4.30095720e+00],\n",
       "        [ 4.30360889e+00],\n",
       "        [ 4.30604124e+00]],\n",
       "\n",
       "       [[ 2.57175826e-16],\n",
       "        [ 5.96579366e-06],\n",
       "        [ 1.34270213e-05],\n",
       "        ...,\n",
       "        [-1.00349724e+00],\n",
       "        [-1.00140285e+00],\n",
       "        [-9.99171495e-01]],\n",
       "\n",
       "       [[ 2.57175826e-16],\n",
       "        [ 2.37798831e-05],\n",
       "        [ 5.37460292e-05],\n",
       "        ...,\n",
       "        [-2.21253112e-01],\n",
       "        [-2.15807766e-01],\n",
       "        [-2.09519133e-01]],\n",
       "\n",
       "       [[ 2.57175826e-16],\n",
       "        [ 2.75593084e-05],\n",
       "        [ 6.22796142e-05],\n",
       "        ...,\n",
       "        [-8.75280976e-01],\n",
       "        [-8.69375408e-01],\n",
       "        [-8.60554099e-01]]], dtype=float32))]), action=array([[[-0.46774825],\n",
       "        [-0.46994624],\n",
       "        [-0.47204617],\n",
       "        ...,\n",
       "        [ 0.08030953],\n",
       "        [ 0.07919902],\n",
       "        [ 0.07822872]],\n",
       "\n",
       "       [[ 0.5369303 ],\n",
       "        [ 0.5342577 ],\n",
       "        [ 0.5316192 ],\n",
       "        ...,\n",
       "        [-0.5023459 ],\n",
       "        [-0.5093167 ],\n",
       "        [-0.51613927]],\n",
       "\n",
       "       [[ 0.24436231],\n",
       "        [ 0.24191296],\n",
       "        [ 0.23940559],\n",
       "        ...,\n",
       "        [ 0.38460657],\n",
       "        [ 0.38107294],\n",
       "        [ 0.37749302]],\n",
       "\n",
       "       [[ 1.4142135 ],\n",
       "        [ 1.4137652 ],\n",
       "        [ 1.4124202 ],\n",
       "        ...,\n",
       "        [ 1.4124202 ],\n",
       "        [ 1.4137652 ],\n",
       "        [ 1.4142135 ]],\n",
       "\n",
       "       [[ 2.        ],\n",
       "        [ 1.9974638 ],\n",
       "        [ 1.9898616 ],\n",
       "        ...,\n",
       "        [ 1.9898616 ],\n",
       "        [ 1.9974638 ],\n",
       "        [ 2.        ]]], dtype=float32), rew=array([[[0.],\n",
       "        [0.],\n",
       "        [0.],\n",
       "        ...,\n",
       "        [0.],\n",
       "        [0.],\n",
       "        [0.]],\n",
       "\n",
       "       [[0.],\n",
       "        [0.],\n",
       "        [0.],\n",
       "        ...,\n",
       "        [0.],\n",
       "        [0.],\n",
       "        [0.]],\n",
       "\n",
       "       [[0.],\n",
       "        [0.],\n",
       "        [0.],\n",
       "        ...,\n",
       "        [0.],\n",
       "        [0.],\n",
       "        [0.]],\n",
       "\n",
       "       [[0.],\n",
       "        [0.],\n",
       "        [0.],\n",
       "        ...,\n",
       "        [0.],\n",
       "        [0.],\n",
       "        [0.]],\n",
       "\n",
       "       [[0.],\n",
       "        [0.],\n",
       "        [0.],\n",
       "        ...,\n",
       "        [0.],\n",
       "        [0.],\n",
       "        [0.]]], dtype=float32), done=array([[[0.],\n",
       "        [0.],\n",
       "        [0.],\n",
       "        ...,\n",
       "        [0.],\n",
       "        [0.],\n",
       "        [1.]],\n",
       "\n",
       "       [[0.],\n",
       "        [0.],\n",
       "        [0.],\n",
       "        ...,\n",
       "        [0.],\n",
       "        [0.],\n",
       "        [1.]],\n",
       "\n",
       "       [[0.],\n",
       "        [0.],\n",
       "        [0.],\n",
       "        ...,\n",
       "        [0.],\n",
       "        [0.],\n",
       "        [1.]],\n",
       "\n",
       "       [[0.],\n",
       "        [0.],\n",
       "        [0.],\n",
       "        ...,\n",
       "        [0.],\n",
       "        [0.],\n",
       "        [1.]],\n",
       "\n",
       "       [[0.],\n",
       "        [0.],\n",
       "        [0.],\n",
       "        ...,\n",
       "        [0.],\n",
       "        [0.],\n",
       "        [1.]]], dtype=float32), extras={})"
      ]
     },
     "execution_count": 28,
     "metadata": {},
     "output_type": "execute_result"
    }
   ],
   "source": [
    "save(train_sample, \"train_sample.pkl\")\n",
    "load(\"train_sample.pkl\")"
   ]
  },
  {
   "cell_type": "code",
   "execution_count": null,
   "metadata": {},
   "outputs": [],
   "source": []
  }
 ],
 "metadata": {
  "kernelspec": {
   "display_name": "chain_control_git_acme",
   "language": "python",
   "name": "python3"
  },
  "language_info": {
   "codemirror_mode": {
    "name": "ipython",
    "version": 3
   },
   "file_extension": ".py",
   "mimetype": "text/x-python",
   "name": "python",
   "nbconvert_exporter": "python",
   "pygments_lexer": "ipython3",
   "version": "3.10.12"
  },
  "vscode": {
   "interpreter": {
    "hash": "5b2253a7523a95ed3902114f0f706ff75350c1390ed2b5722c967a5fcb81421d"
   }
  }
 },
 "nbformat": 4,
 "nbformat_minor": 2
}
