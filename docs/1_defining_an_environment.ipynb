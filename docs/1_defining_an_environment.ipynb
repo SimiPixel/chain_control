{
 "cells": [
  {
   "cell_type": "markdown",
   "metadata": {},
   "source": [
    "# Defining an Environment\n",
    "\n",
    "Here we will re-define the environment `two_segments_v1`\n",
    "\n",
    "Every environment consists of\n",
    "- a Mujoco Specification File (end in .xml)\n",
    "- a Python File \n",
    "\n",
    "The .xml file is used be Mujoco to simulate the system. \n",
    "\n",
    "The Python file is used to define how to interface/interact with this Mujoco Simulation, e.g. what we are allowed to alter at every timestep (usually the control).\n"
   ]
  },
  {
   "cell_type": "code",
   "execution_count": 1,
   "metadata": {
    "execution": {
     "iopub.execute_input": "2023-03-10T09:10:00.374219Z",
     "iopub.status.busy": "2023-03-10T09:10:00.374055Z",
     "iopub.status.idle": "2023-03-10T09:10:01.057365Z",
     "shell.execute_reply": "2023-03-10T09:10:01.056851Z"
    }
   },
   "outputs": [],
   "source": [
    "from dm_control.rl import control\n",
    "from dm_control import mujoco\n",
    "from collections import OrderedDict\n",
    "import numpy as np \n",
    "from cc.env.envs.common import ASSETS \n",
    "from cc.utils.sample_from_spec import _spec_from_observation\n",
    "from cc.env import make_env"
   ]
  },
  {
   "cell_type": "markdown",
   "metadata": {},
   "source": [
    "----\n",
    "Let's take a closer look at the content of the .py-file.\n",
    "\n",
    "It contains to objects\n",
    "- a `mujoco.Physics` object\n",
    "- a `control.Task`"
   ]
  },
  {
   "cell_type": "markdown",
   "metadata": {},
   "source": [
    "The `mujoco.Physics` object gives us a way to interact with the Mujoco simulation from Python."
   ]
  },
  {
   "attachments": {},
   "cell_type": "markdown",
   "metadata": {},
   "source": [
    "A Mujoco Simulation is defined by a `.xml` file which may contain the following content:"
   ]
  },
  {
   "cell_type": "code",
   "execution_count": 2,
   "metadata": {
    "execution": {
     "iopub.execute_input": "2023-03-10T09:10:01.059665Z",
     "iopub.status.busy": "2023-03-10T09:10:01.059429Z",
     "iopub.status.idle": "2023-03-10T09:10:01.062590Z",
     "shell.execute_reply": "2023-03-10T09:10:01.062132Z"
    }
   },
   "outputs": [],
   "source": [
    "mujoco_xml_string = r\"\"\"\n",
    "<mujoco model=\"kinematic-chain\">\n",
    "  <include file=\"./common/skybox.xml\"/>\n",
    "  <include file=\"./common/visual.xml\"/>\n",
    "  <include file=\"./common/materials.xml\"/>\n",
    "  \n",
    "  <option timestep=\"0.001\" integrator=\"RK4\">\n",
    "    <flag contact=\"disable\" gravity=\"disable\" energy=\"enable\"/>\n",
    "  </option>\n",
    "  \n",
    "  <default>\n",
    "    <default class=\"pole\">\n",
    "      <joint type=\"hinge\" axis=\"0 1 0\" stiffness=\"10\" springref=\"0\" damping=\"1e-1\"/>\n",
    "      <geom type=\"capsule\" fromto=\"0 0 0 0 0 1\" size=\"0.045\" material=\"self\" mass=\".1\"/>\n",
    "    </default>\n",
    "  </default>\n",
    "  \n",
    "  <worldbody>\n",
    "    <light name=\"light\" pos=\"0 0 36\"/>\n",
    "    \n",
    "    <camera name=\"fixed\" pos=\"0 -6 1\" zaxis=\"0 -1 0\"/>\n",
    "    <camera name=\"lookatcart\" mode=\"targetbody\" target=\"cart\" pos=\"0 -2 2\"/>\n",
    "    \n",
    "    <geom name=\"floor\" pos=\"0 0 -.25\" size=\"100 100 .2\" type=\"plane\" material=\"grid\"/>\n",
    "    <geom name=\"rail1\" type=\"capsule\" pos=\"0  .07 2\" zaxis=\"1 0 0\" size=\"0.02 20\" material=\"decoration\" />\n",
    "    <geom name=\"rail2\" type=\"capsule\" pos=\"0 -.07 2\" zaxis=\"1 0 0\" size=\"0.02 20\" material=\"decoration\" />\n",
    "    \n",
    "\n",
    "    <body name=\"cart\" pos=\"0 0 2\">\n",
    "      <joint name=\"slider\" type=\"slide\" limited=\"true\" axis=\"1 0 0\" range=\"-999.8 999.8\" damping=\"1e-3\"/>\n",
    "      <geom name=\"cart\" type=\"box\" size=\"0.1 0.15 0.05\" material=\"self\"  mass=\"1\"/>\n",
    "      <body name=\"pole_1\" childclass=\"pole\" euler=\"0 180 0\" pos=\"0 0 -0.1\">\n",
    "        <joint name=\"hinge_1\"/>\n",
    "        <geom name=\"pole_1\"/>\n",
    "        <body name=\"pole_2\" childclass=\"pole\" pos=\"0 0 1.1\">\n",
    "          <joint name=\"hinge_2\"/>\n",
    "          <geom name=\"pole_2\"/>\n",
    "          <body name=\"segment_end\" pos=\"0 0 1.0\"/>\n",
    "      \t</body>\n",
    "      </body>\n",
    "    </body>\n",
    "  </worldbody>\n",
    "\n",
    "  <actuator>\n",
    "    <motor name=\"slide\" joint=\"slider\" gear=\"5\" ctrllimited=\"false\"/>\n",
    "  </actuator>\n",
    "  \n",
    "</mujoco>\n",
    "\"\"\""
   ]
  },
  {
   "cell_type": "code",
   "execution_count": 3,
   "metadata": {
    "execution": {
     "iopub.execute_input": "2023-03-10T09:10:01.064511Z",
     "iopub.status.busy": "2023-03-10T09:10:01.064273Z",
     "iopub.status.idle": "2023-03-10T09:10:01.189692Z",
     "shell.execute_reply": "2023-03-10T09:10:01.189187Z"
    }
   },
   "outputs": [
    {
     "data": {
      "text/plain": [
       "<__main__.SegmentPhysics at 0x7f21b4351520>"
      ]
     },
     "execution_count": 3,
     "metadata": {},
     "output_type": "execute_result"
    }
   ],
   "source": [
    "class SegmentPhysics(mujoco.Physics):\n",
    "\n",
    "    def xpos_of_segment_end(self):\n",
    "        return self.named.data.xpos[\"segment_end\", \"x\"]\n",
    "\n",
    "    def set_torque_of_cart(self, u):\n",
    "        u = np.arctan(u)\n",
    "        self.set_control(u)\n",
    "\n",
    "\n",
    "def load_physics():\n",
    "    return SegmentPhysics.from_xml_string(mujoco_xml_string, assets=ASSETS)\n",
    "\n",
    "load_physics()"
   ]
  },
  {
   "cell_type": "markdown",
   "metadata": {},
   "source": [
    "The `control.Task` precisely defines when we can and and when we will interact with the `mujoco.Physics`-object."
   ]
  },
  {
   "cell_type": "code",
   "execution_count": 4,
   "metadata": {
    "execution": {
     "iopub.execute_input": "2023-03-10T09:10:01.217167Z",
     "iopub.status.busy": "2023-03-10T09:10:01.216969Z",
     "iopub.status.idle": "2023-03-10T09:10:01.222565Z",
     "shell.execute_reply": "2023-03-10T09:10:01.222220Z"
    }
   },
   "outputs": [
    {
     "data": {
      "text/plain": [
       "<__main__.SegmentTask at 0x7f21704dd040>"
      ]
     },
     "execution_count": 4,
     "metadata": {},
     "output_type": "execute_result"
    }
   ],
   "source": [
    "class SegmentTask(control.Task):\n",
    "\n",
    "    def __init__(self, random: int = 1):\n",
    "        # seed is unused \n",
    "        del random \n",
    "        super().__init__()\n",
    "        \n",
    "    def initialize_episode(self, physics):\n",
    "        pass \n",
    "\n",
    "    def before_step(self, action, physics: SegmentPhysics):\n",
    "        physics.set_torque_of_cart(action)\n",
    "\n",
    "    def after_step(self, physics):\n",
    "        pass \n",
    "\n",
    "    def action_spec(self, physics):\n",
    "        return mujoco.action_spec(physics)\n",
    "\n",
    "    def get_observation(self, physics) -> OrderedDict:\n",
    "        obs = OrderedDict()\n",
    "        obs[\"xpos_of_segment_end\"] = np.atleast_1d(physics.xpos_of_segment_end())\n",
    "        return obs \n",
    "\n",
    "    def get_reward(self, physics):\n",
    "        return np.array(0.0)\n",
    "\n",
    "    def observation_spec(self, physics):\n",
    "        return _spec_from_observation(self.get_observation(physics))\n",
    "\n",
    "SegmentTask()"
   ]
  },
  {
   "cell_type": "markdown",
   "metadata": {},
   "source": [
    "With these two components we can register a new Environment at `cc.env.register`\n",
    "\n",
    "Here, this has already been done and we can simply load it using its string-identifier."
   ]
  },
  {
   "cell_type": "code",
   "execution_count": 5,
   "metadata": {
    "execution": {
     "iopub.execute_input": "2023-03-10T09:10:01.224263Z",
     "iopub.status.busy": "2023-03-10T09:10:01.224087Z",
     "iopub.status.idle": "2023-03-10T09:10:01.343618Z",
     "shell.execute_reply": "2023-03-10T09:10:01.343198Z"
    }
   },
   "outputs": [],
   "source": [
    "env = make_env(\"two_segments_v1\", random=1)"
   ]
  },
  {
   "cell_type": "code",
   "execution_count": 6,
   "metadata": {
    "execution": {
     "iopub.execute_input": "2023-03-10T09:10:01.345782Z",
     "iopub.status.busy": "2023-03-10T09:10:01.345581Z",
     "iopub.status.idle": "2023-03-10T09:10:01.349837Z",
     "shell.execute_reply": "2023-03-10T09:10:01.349516Z"
    }
   },
   "outputs": [
    {
     "data": {
      "text/plain": [
       "TimeStep(step_type=<StepType.FIRST: 0>, reward=None, discount=None, observation=OrderedDict([('xpos_of_segment_end', array([2.5717583e-16], dtype=float32))]))"
      ]
     },
     "execution_count": 6,
     "metadata": {},
     "output_type": "execute_result"
    }
   ],
   "source": [
    "action=np.array([0.2])\n",
    "env.step(action)"
   ]
  },
  {
   "cell_type": "code",
   "execution_count": 7,
   "metadata": {
    "execution": {
     "iopub.execute_input": "2023-03-10T09:10:01.351434Z",
     "iopub.status.busy": "2023-03-10T09:10:01.351281Z",
     "iopub.status.idle": "2023-03-10T09:10:01.354948Z",
     "shell.execute_reply": "2023-03-10T09:10:01.354593Z"
    }
   },
   "outputs": [
    {
     "data": {
      "text/plain": [
       "TimeStep(step_type=<StepType.MID: 1>, reward=array(0., dtype=float32), discount=array(1., dtype=float32), observation=OrderedDict([('xpos_of_segment_end', array([4.913601e-06], dtype=float32))]))"
      ]
     },
     "execution_count": 7,
     "metadata": {},
     "output_type": "execute_result"
    }
   ],
   "source": [
    "env.step(action)"
   ]
  },
  {
   "cell_type": "markdown",
   "metadata": {},
   "source": [
    "Without going into any details: Let's just take a look at some randomly acting controller in this environment.\n",
    "\n",
    "Press the backspace key to reset the environment."
   ]
  },
  {
   "cell_type": "code",
   "execution_count": 8,
   "metadata": {
    "execution": {
     "iopub.execute_input": "2023-03-10T09:10:01.356620Z",
     "iopub.status.busy": "2023-03-10T09:10:01.356403Z",
     "iopub.status.idle": "2023-03-10T09:10:02.130133Z",
     "shell.execute_reply": "2023-03-10T09:10:02.129483Z"
    }
   },
   "outputs": [
    {
     "name": "stderr",
     "output_type": "stream",
     "text": [
      "/home/simon/miniforge3/envs/chain_control/lib/python3.9/site-packages/flax/struct.py:136: FutureWarning: jax.tree_util.register_keypaths is deprecated, and will be removed in a future release. Please use `register_pytree_with_keys()` instead.\n",
      "  jax.tree_util.register_keypaths(data_clz, keypaths)\n",
      "/home/simon/miniforge3/envs/chain_control/lib/python3.9/site-packages/flax/struct.py:136: FutureWarning: jax.tree_util.register_keypaths is deprecated, and will be removed in a future release. Please use `register_pytree_with_keys()` instead.\n",
      "  jax.tree_util.register_keypaths(data_clz, keypaths)\n",
      "WARNING:jax._src.xla_bridge:No GPU/TPU found, falling back to CPU. (Set TF_CPP_MIN_LOG_LEVEL=0 and rerun for more info.)\n"
     ]
    },
    {
     "name": "stderr",
     "output_type": "stream",
     "text": [
      "/home/simon/Documents/PYTHON/chain_control/cc/env/collect/collect.py:8: TqdmExperimentalWarning: Using `tqdm.autonotebook.tqdm` in notebook mode. Use `tqdm.tqdm` instead to force console mode (e.g. in jupyter console)\n",
      "  from tqdm.autonotebook import tqdm\n"
     ]
    }
   ],
   "source": [
    "from cc.env.collect import RandomActor\n",
    "from cc.utils.visual.viewer import launch_viewer\n",
    "\n",
    "actor = RandomActor(env.action_spec(), reset_key=True)\n",
    "\n",
    "# uncomment to launch a viewer\n",
    "# uncommented as it would otherwise pop up while testing\n",
    "# launch_viewer(env, actor)"
   ]
  },
  {
   "cell_type": "code",
   "execution_count": null,
   "metadata": {},
   "outputs": [],
   "source": []
  }
 ],
 "metadata": {
  "kernelspec": {
   "display_name": "Python 3.9.13 ('chain_control')",
   "language": "python",
   "name": "python3"
  },
  "language_info": {
   "codemirror_mode": {
    "name": "ipython",
    "version": 3
   },
   "file_extension": ".py",
   "mimetype": "text/x-python",
   "name": "python",
   "nbconvert_exporter": "python",
   "pygments_lexer": "ipython3",
   "version": "3.9.16"
  },
  "vscode": {
   "interpreter": {
    "hash": "8d9c863fb986fa342e8b7e2ad667cb8566ab6ae40647af51ec8caf787fd66a57"
   }
  }
 },
 "nbformat": 4,
 "nbformat_minor": 2
}
