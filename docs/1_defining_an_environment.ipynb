{
 "cells": [
  {
   "cell_type": "markdown",
   "metadata": {},
   "source": [
    "# Defining an Environment\n",
    "\n",
    "Here we will re-define the environment `two_segments_v1`\n",
    "\n",
    "Every environment consists of\n",
    "- a Mujoco Specification File (end in .xml)\n",
    "- a Python File \n",
    "\n",
    "The .xml file is used be Mujoco to simulate the system. \n",
    "\n",
    "The Python file is used to define how to interface/interact with this Mujoco Simulation, e.g. what we are allowed to alter at every timestep (usually the control).\n"
   ]
  },
  {
   "cell_type": "code",
   "execution_count": 1,
   "metadata": {
    "execution": {
     "iopub.execute_input": "2022-11-25T22:50:48.118451Z",
     "iopub.status.busy": "2022-11-25T22:50:48.117854Z",
     "iopub.status.idle": "2022-11-25T22:50:48.698356Z",
     "shell.execute_reply": "2022-11-25T22:50:48.689039Z"
    }
   },
   "outputs": [],
   "source": [
    "from dm_control.rl import control\n",
    "from dm_control import mujoco\n",
    "from collections import OrderedDict\n",
    "import numpy as np \n",
    "from cc.env.envs.common import read_model, ASSETS \n",
    "from cc.utils.sample_from_spec import _spec_from_observation\n",
    "from cc.env import make_env"
   ]
  },
  {
   "cell_type": "markdown",
   "metadata": {},
   "source": [
    "----\n",
    "Let's take a closer look at the content of the .py-file.\n",
    "\n",
    "It contains to objects\n",
    "- a `mujoco.Physics` object\n",
    "- a `control.Task`"
   ]
  },
  {
   "cell_type": "markdown",
   "metadata": {},
   "source": [
    "The `mujoco.Physics` object gives us a way to interact with the Mujoco simulation from Python."
   ]
  },
  {
   "cell_type": "code",
   "execution_count": 2,
   "metadata": {
    "execution": {
     "iopub.execute_input": "2022-11-25T22:50:48.703414Z",
     "iopub.status.busy": "2022-11-25T22:50:48.702999Z",
     "iopub.status.idle": "2022-11-25T22:50:48.812305Z",
     "shell.execute_reply": "2022-11-25T22:50:48.811980Z"
    }
   },
   "outputs": [
    {
     "data": {
      "text/plain": [
       "<__main__.SegmentPhysics at 0x7f8ff34bed30>"
      ]
     },
     "execution_count": 2,
     "metadata": {},
     "output_type": "execute_result"
    }
   ],
   "source": [
    "class SegmentPhysics(mujoco.Physics):\n",
    "\n",
    "    def xpos_of_segment_end(self):\n",
    "        return self.named.data.xpos[\"segment_end\", \"x\"]\n",
    "\n",
    "    def set_torque_of_cart(self, u):\n",
    "        u = np.arctan(u)\n",
    "        self.set_control(u)\n",
    "\n",
    "\n",
    "def load_physics():\n",
    "    xml_path = \"two_segments_v1.xml\"\n",
    "    return SegmentPhysics.from_xml_string(read_model(xml_path), assets=ASSETS)\n",
    "\n",
    "load_physics()"
   ]
  },
  {
   "cell_type": "markdown",
   "metadata": {},
   "source": [
    "The `control.Task` precisely defines when we can and and when we will interact with the `mujoco.Physics`-object."
   ]
  },
  {
   "cell_type": "code",
   "execution_count": 3,
   "metadata": {
    "execution": {
     "iopub.execute_input": "2022-11-25T22:50:48.843664Z",
     "iopub.status.busy": "2022-11-25T22:50:48.843407Z",
     "iopub.status.idle": "2022-11-25T22:50:48.848357Z",
     "shell.execute_reply": "2022-11-25T22:50:48.848014Z"
    }
   },
   "outputs": [
    {
     "data": {
      "text/plain": [
       "<__main__.SegmentTask at 0x7f8ff347c310>"
      ]
     },
     "execution_count": 3,
     "metadata": {},
     "output_type": "execute_result"
    }
   ],
   "source": [
    "class SegmentTask(control.Task):\n",
    "\n",
    "    def __init__(self, random: int = 1):\n",
    "        # seed is unused \n",
    "        del random \n",
    "        super().__init__()\n",
    "        \n",
    "    def initialize_episode(self, physics):\n",
    "        pass \n",
    "\n",
    "    def before_step(self, action, physics: SegmentPhysics):\n",
    "        physics.set_torque_of_cart(action)\n",
    "\n",
    "    def after_step(self, physics):\n",
    "        pass \n",
    "\n",
    "    def action_spec(self, physics):\n",
    "        return mujoco.action_spec(physics)\n",
    "\n",
    "    def get_observation(self, physics) -> OrderedDict:\n",
    "        obs = OrderedDict()\n",
    "        obs[\"xpos_of_segment_end\"] = np.atleast_1d(physics.xpos_of_segment_end())\n",
    "        return obs \n",
    "\n",
    "    def get_reward(self, physics):\n",
    "        return np.array(0.0)\n",
    "\n",
    "    def observation_spec(self, physics):\n",
    "        return _spec_from_observation(self.get_observation(physics))\n",
    "\n",
    "SegmentTask()"
   ]
  },
  {
   "cell_type": "markdown",
   "metadata": {},
   "source": [
    "With these two components we can register a new Environment at `cc.env.register`\n",
    "\n",
    "Here, this has already been done and we can simply load it using its string-identifier."
   ]
  },
  {
   "cell_type": "code",
   "execution_count": 4,
   "metadata": {
    "execution": {
     "iopub.execute_input": "2022-11-25T22:50:48.849940Z",
     "iopub.status.busy": "2022-11-25T22:50:48.849783Z",
     "iopub.status.idle": "2022-11-25T22:50:48.943269Z",
     "shell.execute_reply": "2022-11-25T22:50:48.942817Z"
    }
   },
   "outputs": [],
   "source": [
    "env = make_env(\"two_segments_v1\", random=1)"
   ]
  },
  {
   "cell_type": "code",
   "execution_count": 5,
   "metadata": {
    "execution": {
     "iopub.execute_input": "2022-11-25T22:50:48.945266Z",
     "iopub.status.busy": "2022-11-25T22:50:48.945094Z",
     "iopub.status.idle": "2022-11-25T22:50:48.949352Z",
     "shell.execute_reply": "2022-11-25T22:50:48.949033Z"
    }
   },
   "outputs": [
    {
     "data": {
      "text/plain": [
       "TimeStep(step_type=<StepType.FIRST: 0>, reward=None, discount=None, observation=OrderedDict([('xpos_of_segment_end', array([2.5717583e-16], dtype=float32))]))"
      ]
     },
     "execution_count": 5,
     "metadata": {},
     "output_type": "execute_result"
    }
   ],
   "source": [
    "action=np.array([0.2])\n",
    "env.step(action)"
   ]
  },
  {
   "cell_type": "code",
   "execution_count": 6,
   "metadata": {
    "execution": {
     "iopub.execute_input": "2022-11-25T22:50:48.951376Z",
     "iopub.status.busy": "2022-11-25T22:50:48.951225Z",
     "iopub.status.idle": "2022-11-25T22:50:48.954256Z",
     "shell.execute_reply": "2022-11-25T22:50:48.953926Z"
    }
   },
   "outputs": [
    {
     "data": {
      "text/plain": [
       "TimeStep(step_type=<StepType.MID: 1>, reward=array(0., dtype=float32), discount=array(1., dtype=float32), observation=OrderedDict([('xpos_of_segment_end', array([4.913601e-06], dtype=float32))]))"
      ]
     },
     "execution_count": 6,
     "metadata": {},
     "output_type": "execute_result"
    }
   ],
   "source": [
    "env.step(action)"
   ]
  },
  {
   "cell_type": "markdown",
   "metadata": {},
   "source": [
    "Without going into any details: Let's just take a look at some randomly acting controller in this environment.\n",
    "\n",
    "Press the backspace key to reset the environment."
   ]
  },
  {
   "cell_type": "code",
   "execution_count": 7,
   "metadata": {
    "execution": {
     "iopub.execute_input": "2022-11-25T22:50:48.973521Z",
     "iopub.status.busy": "2022-11-25T22:50:48.973257Z",
     "iopub.status.idle": "2022-11-25T22:50:49.478754Z",
     "shell.execute_reply": "2022-11-25T22:50:49.478298Z"
    }
   },
   "outputs": [
    {
     "name": "stderr",
     "output_type": "stream",
     "text": [
      "/home/simon/miniforge3/envs/chain_control/lib/python3.9/site-packages/tqdm/auto.py:22: TqdmWarning: IProgress not found. Please update jupyter and ipywidgets. See https://ipywidgets.readthedocs.io/en/stable/user_install.html\n",
      "  from .autonotebook import tqdm as notebook_tqdm\n"
     ]
    },
    {
     "name": "stderr",
     "output_type": "stream",
     "text": [
      "WARNING:jax._src.lib.xla_bridge:No GPU/TPU found, falling back to CPU. (Set TF_CPP_MIN_LOG_LEVEL=0 and rerun for more info.)\n"
     ]
    }
   ],
   "source": [
    "from cc.env.collect import RandomActor\n",
    "from cc.utils.visual.viewer import launch_viewer\n",
    "\n",
    "actor = RandomActor(env.action_spec(), reset_key=True)\n",
    "\n",
    "# uncomment to launch a viewer\n",
    "#launch_viewer(env, actor)"
   ]
  },
  {
   "cell_type": "code",
   "execution_count": null,
   "metadata": {},
   "outputs": [],
   "source": []
  }
 ],
 "metadata": {
  "kernelspec": {
   "display_name": "Python 3.9.13 ('chain_control')",
   "language": "python",
   "name": "python3"
  },
  "language_info": {
   "codemirror_mode": {
    "name": "ipython",
    "version": 3
   },
   "file_extension": ".py",
   "mimetype": "text/x-python",
   "name": "python",
   "nbconvert_exporter": "python",
   "pygments_lexer": "ipython3",
   "version": "3.9.13"
  },
  "vscode": {
   "interpreter": {
    "hash": "8d9c863fb986fa342e8b7e2ad667cb8566ab6ae40647af51ec8caf787fd66a57"
   }
  }
 },
 "nbformat": 4,
 "nbformat_minor": 2
}
