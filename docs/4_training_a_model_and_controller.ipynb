{
 "cells": [
  {
   "cell_type": "code",
   "execution_count": 1,
   "metadata": {
    "execution": {
     "iopub.execute_input": "2023-02-15T23:16:13.631955Z",
     "iopub.status.busy": "2023-02-15T23:16:13.631452Z",
     "iopub.status.idle": "2023-02-15T23:16:14.615417Z",
     "shell.execute_reply": "2023-02-15T23:16:14.614906Z"
    }
   },
   "outputs": [
    {
     "name": "stderr",
     "output_type": "stream",
     "text": [
      "WARNING:jax._src.lib.xla_bridge:No GPU/TPU found, falling back to CPU. (Set TF_CPP_MIN_LOG_LEVEL=0 and rerun for more info.)\n"
     ]
    }
   ],
   "source": [
    "from cc.env import make_env\n",
    "from cc.examples.neural_ode_model_compact_example import make_neural_ode_model\n",
    "from cc.train import (\n",
    "    ModelControllerTrainer, \n",
    "    Tracker, make_dataloader, \n",
    "    UnsupervisedDataset\n",
    ")\n",
    "import jax.random as jrand\n",
    "import optax\n",
    "import jax.numpy as jnp\n",
    "import equinox as eqx"
   ]
  },
  {
   "cell_type": "code",
   "execution_count": 2,
   "metadata": {
    "execution": {
     "iopub.execute_input": "2023-02-15T23:16:14.617376Z",
     "iopub.status.busy": "2023-02-15T23:16:14.617165Z",
     "iopub.status.idle": "2023-02-15T23:16:14.711136Z",
     "shell.execute_reply": "2023-02-15T23:16:14.710574Z"
    }
   },
   "outputs": [],
   "source": [
    "time_limit = 10.0\n",
    "control_timestep = 0.01\n",
    "\n",
    "env = make_env(\"two_segments_v1\", time_limit=time_limit, control_timestep=control_timestep, random=1)"
   ]
  },
  {
   "cell_type": "code",
   "execution_count": 3,
   "metadata": {
    "execution": {
     "iopub.execute_input": "2023-02-15T23:16:14.713352Z",
     "iopub.status.busy": "2023-02-15T23:16:14.713156Z",
     "iopub.status.idle": "2023-02-15T23:16:15.024147Z",
     "shell.execute_reply": "2023-02-15T23:16:15.023677Z"
    }
   },
   "outputs": [],
   "source": [
    "# make sure this definition matches exactly (!) the\n",
    "# definition as it was used in notebook 3\n",
    "model = make_neural_ode_model(\n",
    "    env.action_spec(),\n",
    "    env.observation_spec(),\n",
    "    env.control_timestep(),\n",
    "    state_dim=50,\n",
    "    f_depth=0, \n",
    "    u_transform=jnp.arctan\n",
    ")"
   ]
  },
  {
   "cell_type": "code",
   "execution_count": 4,
   "metadata": {
    "execution": {
     "iopub.execute_input": "2023-02-15T23:16:15.026031Z",
     "iopub.status.busy": "2023-02-15T23:16:15.025902Z",
     "iopub.status.idle": "2023-02-15T23:16:15.031614Z",
     "shell.execute_reply": "2023-02-15T23:16:15.031275Z"
    }
   },
   "outputs": [],
   "source": [
    "# trained in notebook 3\n",
    "fitted_model = eqx.tree_deserialise_leaves(\"model.eqx\", model)"
   ]
  },
  {
   "cell_type": "markdown",
   "metadata": {},
   "source": [
    "# Training a controller"
   ]
  },
  {
   "cell_type": "code",
   "execution_count": 5,
   "metadata": {
    "execution": {
     "iopub.execute_input": "2023-02-15T23:16:15.033056Z",
     "iopub.status.busy": "2023-02-15T23:16:15.032903Z",
     "iopub.status.idle": "2023-02-15T23:16:16.178764Z",
     "shell.execute_reply": "2023-02-15T23:16:16.178270Z"
    }
   },
   "outputs": [
    {
     "name": "stderr",
     "output_type": "stream",
     "text": [
      "2023-02-16 00:16:15.333272: W tensorflow/stream_executor/platform/default/dso_loader.cc:64] Could not load dynamic library 'libcudart.so.11.0'; dlerror: libcudart.so.11.0: cannot open shared object file: No such file or directory\n"
     ]
    },
    {
     "name": "stderr",
     "output_type": "stream",
     "text": [
      "/home/simon/miniforge3/envs/chain_control_git_acme/lib/python3.10/site-packages/reverb/platform/default/ensure_tf_install.py:53: DeprecationWarning: distutils Version classes are deprecated. Use packaging.version instead.\n",
      "  if (distutils.version.LooseVersion(version) <\n"
     ]
    }
   ],
   "source": [
    "from cc.train import TrainingOptionsController\n",
    "from cc.examples.neural_ode_controller_compact_example import make_neural_ode_controller\n",
    "from cc.env.collect import random_steps_source\n",
    "from cc.env.wrappers import AddRefSignalRewardFnWrapper\n",
    "\n",
    "source = random_steps_source(env, seeds=list(range(30)))\n",
    "env_w_source = AddRefSignalRewardFnWrapper(env, source)"
   ]
  },
  {
   "cell_type": "code",
   "execution_count": 6,
   "metadata": {
    "execution": {
     "iopub.execute_input": "2023-02-15T23:16:16.180620Z",
     "iopub.status.busy": "2023-02-15T23:16:16.180383Z",
     "iopub.status.idle": "2023-02-15T23:16:16.399540Z",
     "shell.execute_reply": "2023-02-15T23:16:16.399078Z"
    }
   },
   "outputs": [],
   "source": [
    "controller = make_neural_ode_controller(\n",
    "    env_w_source.observation_spec(),\n",
    "    env.action_spec(),\n",
    "    env.control_timestep(),\n",
    "    5,\n",
    "    f_depth=0\n",
    ")"
   ]
  },
  {
   "cell_type": "code",
   "execution_count": 7,
   "metadata": {
    "execution": {
     "iopub.execute_input": "2023-02-15T23:16:16.401629Z",
     "iopub.status.busy": "2023-02-15T23:16:16.401459Z",
     "iopub.status.idle": "2023-02-15T23:16:16.662937Z",
     "shell.execute_reply": "2023-02-15T23:16:16.662487Z"
    }
   },
   "outputs": [
    {
     "name": "stdout",
     "output_type": "stream",
     "text": [
      "This model has been registered with model name `model0`.\n",
      "                    When using multiple models individual model names have to\n",
      "                    be provided by passing a dictionary in the `model` argument\n"
     ]
    }
   ],
   "source": [
    "controller_dataloader = make_dataloader(\n",
    "    UnsupervisedDataset(source.get_references_for_optimisation()),\n",
    "    jrand.PRNGKey(1,),\n",
    "    n_minibatches=5\n",
    ")\n",
    "\n",
    "optimizer = optax.chain(optax.clip_by_global_norm(1.0), optax.adam(1e-3))\n",
    "\n",
    "controller_train_options = TrainingOptionsController(\n",
    "    controller_dataloader, optimizer, \n",
    ")\n",
    "\n",
    "controller_trainer = ModelControllerTrainer(\n",
    "    fitted_model, controller, controller_train_options=controller_train_options, \n",
    "    trackers=[Tracker(\"loss\")]\n",
    ")"
   ]
  },
  {
   "cell_type": "code",
   "execution_count": 8,
   "metadata": {
    "execution": {
     "iopub.execute_input": "2023-02-15T23:16:16.664519Z",
     "iopub.status.busy": "2023-02-15T23:16:16.664389Z",
     "iopub.status.idle": "2023-02-15T23:17:19.720134Z",
     "shell.execute_reply": "2023-02-15T23:17:19.719730Z"
    }
   },
   "outputs": [
    {
     "data": {
      "application/vnd.jupyter.widget-view+json": {
       "model_id": "748b0591acd644a0b78e1fff7ffc35c8",
       "version_major": 2,
       "version_minor": 0
      },
      "text/plain": [
       "  0%|          | 0/500 [00:00<?, ?it/s]"
      ]
     },
     "metadata": {},
     "output_type": "display_data"
    }
   ],
   "source": [
    "controller_trainer.run(500)"
   ]
  },
  {
   "cell_type": "code",
   "execution_count": 9,
   "metadata": {
    "execution": {
     "iopub.execute_input": "2023-02-15T23:17:19.721905Z",
     "iopub.status.busy": "2023-02-15T23:17:19.721709Z",
     "iopub.status.idle": "2023-02-15T23:17:19.725125Z",
     "shell.execute_reply": "2023-02-15T23:17:19.724669Z"
    }
   },
   "outputs": [
    {
     "data": {
      "text/plain": [
       "0.5659396"
      ]
     },
     "execution_count": 9,
     "metadata": {},
     "output_type": "execute_result"
    }
   ],
   "source": [
    "fitted_controller = controller_trainer.trackers[0].best_model_or_controller()\n",
    "controller_trainer.trackers[0].best_metric()"
   ]
  },
  {
   "cell_type": "code",
   "execution_count": 10,
   "metadata": {
    "execution": {
     "iopub.execute_input": "2023-02-15T23:17:19.726757Z",
     "iopub.status.busy": "2023-02-15T23:17:19.726619Z",
     "iopub.status.idle": "2023-02-15T23:17:27.454065Z",
     "shell.execute_reply": "2023-02-15T23:17:27.453644Z"
    }
   },
   "outputs": [
    {
     "data": {
      "application/vnd.jupyter.widget-view+json": {
       "model_id": "3207d9a6284344cb866f0c7ae180cd52",
       "version_major": 2,
       "version_minor": 0
      },
      "text/plain": [
       "Reference Iterator:   0%|          | 0/6 [00:00<?, ?it/s]"
      ]
     },
     "metadata": {},
     "output_type": "display_data"
    }
   ],
   "source": [
    "from cc.env.collect import collect_exhaust_source\n",
    "\n",
    "eval_source = random_steps_source(env, seeds=list(range(6)))\n",
    "# returns a tuple\n",
    "controller_performance_sample, loop_results = collect_exhaust_source(\n",
    "    AddRefSignalRewardFnWrapper(env, eval_source), fitted_controller)"
   ]
  },
  {
   "cell_type": "code",
   "execution_count": 11,
   "metadata": {
    "execution": {
     "iopub.execute_input": "2023-02-15T23:17:27.456152Z",
     "iopub.status.busy": "2023-02-15T23:17:27.455993Z",
     "iopub.status.idle": "2023-02-15T23:17:27.460069Z",
     "shell.execute_reply": "2023-02-15T23:17:27.459628Z"
    }
   },
   "outputs": [
    {
     "data": {
      "text/plain": [
       "{'env_reset_duration_sec': array([[0.00030875],\n",
       "        [0.000247  ],\n",
       "        [0.00032902],\n",
       "        [0.00024056],\n",
       "        [0.00022912],\n",
       "        [0.0002315 ]]),\n",
       " 'env_step_duration_sec': array([[0.00060465],\n",
       "        [0.00064713],\n",
       "        [0.00056611],\n",
       "        [0.00054431],\n",
       "        [0.00055065],\n",
       "        [0.00059423]]),\n",
       " 'episode_length': array([[1000],\n",
       "        [1000],\n",
       "        [1000],\n",
       "        [1000],\n",
       "        [1000],\n",
       "        [1000]]),\n",
       " 'episode_return': array([[  -415.29285],\n",
       "        [ -1863.721  ],\n",
       "        [ -1187.2993 ],\n",
       "        [  -452.22528],\n",
       "        [-42777.562  ],\n",
       "        [-17153.205  ]], dtype=float32),\n",
       " 'episodes': array([[1],\n",
       "        [1],\n",
       "        [1],\n",
       "        [1],\n",
       "        [1],\n",
       "        [1]]),\n",
       " 'select_action_duration_sec': array([[0.00067833],\n",
       "        [0.00069667],\n",
       "        [0.00061609],\n",
       "        [0.00059355],\n",
       "        [0.00059937],\n",
       "        [0.00064595]]),\n",
       " 'steps': array([[1000],\n",
       "        [1000],\n",
       "        [1000],\n",
       "        [1000],\n",
       "        [1000],\n",
       "        [1000]]),\n",
       " 'steps_per_second': array([[761.41264667],\n",
       "        [730.71320035],\n",
       "        [830.80333692],\n",
       "        [863.14575096],\n",
       "        [854.1601754 ],\n",
       "        [791.81271381]])}"
      ]
     },
     "execution_count": 11,
     "metadata": {},
     "output_type": "execute_result"
    }
   ],
   "source": [
    "# some metadata\n",
    "# you can use the concept of `loop_observers` to record\n",
    "# every physical quantity you could think of \n",
    "# e.g. angle trajectories or linear accelerations\n",
    "loop_results"
   ]
  },
  {
   "cell_type": "code",
   "execution_count": 12,
   "metadata": {
    "execution": {
     "iopub.execute_input": "2023-02-15T23:17:27.461783Z",
     "iopub.status.busy": "2023-02-15T23:17:27.461581Z",
     "iopub.status.idle": "2023-02-15T23:17:27.484105Z",
     "shell.execute_reply": "2023-02-15T23:17:27.483597Z"
    }
   },
   "outputs": [
    {
     "data": {
      "text/plain": [
       "Array(10.641551, dtype=float32)"
      ]
     },
     "execution_count": 12,
     "metadata": {},
     "output_type": "execute_result"
    }
   ],
   "source": [
    "jnp.mean(-controller_performance_sample.rew)"
   ]
  },
  {
   "cell_type": "code",
   "execution_count": null,
   "metadata": {},
   "outputs": [],
   "source": [
    "%matplotlib inline"
   ]
  },
  {
   "cell_type": "code",
   "execution_count": 13,
   "metadata": {
    "execution": {
     "iopub.execute_input": "2023-02-15T23:17:27.486013Z",
     "iopub.status.busy": "2023-02-15T23:17:27.485808Z",
     "iopub.status.idle": "2023-02-15T23:17:27.506735Z",
     "shell.execute_reply": "2023-02-15T23:17:27.506346Z"
    }
   },
   "outputs": [
    {
     "data": {
      "text/plain": [
       "<matplotlib.legend.Legend at 0x7ffa95962020>"
      ]
     },
     "execution_count": 13,
     "metadata": {},
     "output_type": "execute_result"
    }
   ],
   "source": [
    "import matplotlib.pyplot as plt \n",
    "\n",
    "i = 5\n",
    "plt.plot(controller_performance_sample.obs[\"obs\"][\"xpos_of_segment_end\"][i])\n",
    "plt.plot(controller_performance_sample.obs[\"ref\"][\"xpos_of_segment_end\"][i], label=\"reference\")\n",
    "plt.legend()\n"
   ]
  },
  {
   "cell_type": "code",
   "execution_count": null,
   "metadata": {},
   "outputs": [],
   "source": []
  }
 ],
 "metadata": {
  "kernelspec": {
   "display_name": "chain_control_git_acme",
   "language": "python",
   "name": "python3"
  },
  "language_info": {
   "codemirror_mode": {
    "name": "ipython",
    "version": 3
   },
   "file_extension": ".py",
   "mimetype": "text/x-python",
   "name": "python",
   "nbconvert_exporter": "python",
   "pygments_lexer": "ipython3",
   "version": "3.10.9"
  },
  "vscode": {
   "interpreter": {
    "hash": "5b2253a7523a95ed3902114f0f706ff75350c1390ed2b5722c967a5fcb81421d"
   }
  },
  "widgets": {
   "application/vnd.jupyter.widget-state+json": {
    "state": {
     "00e2732d369d471a84ac99a81fbb5730": {
      "model_module": "@jupyter-widgets/base",
      "model_module_version": "2.0.0",
      "model_name": "LayoutModel",
      "state": {
       "_model_module": "@jupyter-widgets/base",
       "_model_module_version": "2.0.0",
       "_model_name": "LayoutModel",
       "_view_count": null,
       "_view_module": "@jupyter-widgets/base",
       "_view_module_version": "2.0.0",
       "_view_name": "LayoutView",
       "align_content": null,
       "align_items": null,
       "align_self": null,
       "border_bottom": null,
       "border_left": null,
       "border_right": null,
       "border_top": null,
       "bottom": null,
       "display": null,
       "flex": null,
       "flex_flow": null,
       "grid_area": null,
       "grid_auto_columns": null,
       "grid_auto_flow": null,
       "grid_auto_rows": null,
       "grid_column": null,
       "grid_gap": null,
       "grid_row": null,
       "grid_template_areas": null,
       "grid_template_columns": null,
       "grid_template_rows": null,
       "height": null,
       "justify_content": null,
       "justify_items": null,
       "left": null,
       "margin": null,
       "max_height": null,
       "max_width": null,
       "min_height": null,
       "min_width": null,
       "object_fit": null,
       "object_position": null,
       "order": null,
       "overflow": null,
       "padding": null,
       "right": null,
       "top": null,
       "visibility": null,
       "width": null
      }
     },
     "158c60a46c6c4082b84d1d33b63731d5": {
      "model_module": "@jupyter-widgets/controls",
      "model_module_version": "2.0.0",
      "model_name": "HTMLStyleModel",
      "state": {
       "_model_module": "@jupyter-widgets/controls",
       "_model_module_version": "2.0.0",
       "_model_name": "HTMLStyleModel",
       "_view_count": null,
       "_view_module": "@jupyter-widgets/base",
       "_view_module_version": "2.0.0",
       "_view_name": "StyleView",
       "background": null,
       "description_width": "",
       "font_size": null,
       "text_color": null
      }
     },
     "1d260e4249d24764b47eb9f21f0fa281": {
      "model_module": "@jupyter-widgets/controls",
      "model_module_version": "2.0.0",
      "model_name": "HTMLModel",
      "state": {
       "_dom_classes": [],
       "_model_module": "@jupyter-widgets/controls",
       "_model_module_version": "2.0.0",
       "_model_name": "HTMLModel",
       "_view_count": null,
       "_view_module": "@jupyter-widgets/controls",
       "_view_module_version": "2.0.0",
       "_view_name": "HTMLView",
       "description": "",
       "description_allow_html": false,
       "layout": "IPY_MODEL_217f19cc1e964015863e8ada5fb94b2d",
       "placeholder": "​",
       "style": "IPY_MODEL_e7f8efbf10eb4af0a48ae5036a0eca42",
       "tabbable": null,
       "tooltip": null,
       "value": "Reference Iterator: 100%"
      }
     },
     "1d884c0934074ec4b4137b60ffc09f9c": {
      "model_module": "@jupyter-widgets/base",
      "model_module_version": "2.0.0",
      "model_name": "LayoutModel",
      "state": {
       "_model_module": "@jupyter-widgets/base",
       "_model_module_version": "2.0.0",
       "_model_name": "LayoutModel",
       "_view_count": null,
       "_view_module": "@jupyter-widgets/base",
       "_view_module_version": "2.0.0",
       "_view_name": "LayoutView",
       "align_content": null,
       "align_items": null,
       "align_self": null,
       "border_bottom": null,
       "border_left": null,
       "border_right": null,
       "border_top": null,
       "bottom": null,
       "display": null,
       "flex": null,
       "flex_flow": null,
       "grid_area": null,
       "grid_auto_columns": null,
       "grid_auto_flow": null,
       "grid_auto_rows": null,
       "grid_column": null,
       "grid_gap": null,
       "grid_row": null,
       "grid_template_areas": null,
       "grid_template_columns": null,
       "grid_template_rows": null,
       "height": null,
       "justify_content": null,
       "justify_items": null,
       "left": null,
       "margin": null,
       "max_height": null,
       "max_width": null,
       "min_height": null,
       "min_width": null,
       "object_fit": null,
       "object_position": null,
       "order": null,
       "overflow": null,
       "padding": null,
       "right": null,
       "top": null,
       "visibility": null,
       "width": null
      }
     },
     "217f19cc1e964015863e8ada5fb94b2d": {
      "model_module": "@jupyter-widgets/base",
      "model_module_version": "2.0.0",
      "model_name": "LayoutModel",
      "state": {
       "_model_module": "@jupyter-widgets/base",
       "_model_module_version": "2.0.0",
       "_model_name": "LayoutModel",
       "_view_count": null,
       "_view_module": "@jupyter-widgets/base",
       "_view_module_version": "2.0.0",
       "_view_name": "LayoutView",
       "align_content": null,
       "align_items": null,
       "align_self": null,
       "border_bottom": null,
       "border_left": null,
       "border_right": null,
       "border_top": null,
       "bottom": null,
       "display": null,
       "flex": null,
       "flex_flow": null,
       "grid_area": null,
       "grid_auto_columns": null,
       "grid_auto_flow": null,
       "grid_auto_rows": null,
       "grid_column": null,
       "grid_gap": null,
       "grid_row": null,
       "grid_template_areas": null,
       "grid_template_columns": null,
       "grid_template_rows": null,
       "height": null,
       "justify_content": null,
       "justify_items": null,
       "left": null,
       "margin": null,
       "max_height": null,
       "max_width": null,
       "min_height": null,
       "min_width": null,
       "object_fit": null,
       "object_position": null,
       "order": null,
       "overflow": null,
       "padding": null,
       "right": null,
       "top": null,
       "visibility": null,
       "width": null
      }
     },
     "21c9c5316f89498bb55db751ef622a7b": {
      "model_module": "@jupyter-widgets/controls",
      "model_module_version": "2.0.0",
      "model_name": "FloatProgressModel",
      "state": {
       "_dom_classes": [],
       "_model_module": "@jupyter-widgets/controls",
       "_model_module_version": "2.0.0",
       "_model_name": "FloatProgressModel",
       "_view_count": null,
       "_view_module": "@jupyter-widgets/controls",
       "_view_module_version": "2.0.0",
       "_view_name": "ProgressView",
       "bar_style": "success",
       "description": "",
       "description_allow_html": false,
       "layout": "IPY_MODEL_b7784f8491e547349dd140bbfa648823",
       "max": 6,
       "min": 0,
       "orientation": "horizontal",
       "style": "IPY_MODEL_2582b977d68a49c0963b33129e1f5a8e",
       "tabbable": null,
       "tooltip": null,
       "value": 6
      }
     },
     "2582b977d68a49c0963b33129e1f5a8e": {
      "model_module": "@jupyter-widgets/controls",
      "model_module_version": "2.0.0",
      "model_name": "ProgressStyleModel",
      "state": {
       "_model_module": "@jupyter-widgets/controls",
       "_model_module_version": "2.0.0",
       "_model_name": "ProgressStyleModel",
       "_view_count": null,
       "_view_module": "@jupyter-widgets/base",
       "_view_module_version": "2.0.0",
       "_view_name": "StyleView",
       "bar_color": null,
       "description_width": ""
      }
     },
     "2681c907cd734b349f8b8fef00f5c083": {
      "model_module": "@jupyter-widgets/base",
      "model_module_version": "2.0.0",
      "model_name": "LayoutModel",
      "state": {
       "_model_module": "@jupyter-widgets/base",
       "_model_module_version": "2.0.0",
       "_model_name": "LayoutModel",
       "_view_count": null,
       "_view_module": "@jupyter-widgets/base",
       "_view_module_version": "2.0.0",
       "_view_name": "LayoutView",
       "align_content": null,
       "align_items": null,
       "align_self": null,
       "border_bottom": null,
       "border_left": null,
       "border_right": null,
       "border_top": null,
       "bottom": null,
       "display": null,
       "flex": null,
       "flex_flow": null,
       "grid_area": null,
       "grid_auto_columns": null,
       "grid_auto_flow": null,
       "grid_auto_rows": null,
       "grid_column": null,
       "grid_gap": null,
       "grid_row": null,
       "grid_template_areas": null,
       "grid_template_columns": null,
       "grid_template_rows": null,
       "height": null,
       "justify_content": null,
       "justify_items": null,
       "left": null,
       "margin": null,
       "max_height": null,
       "max_width": null,
       "min_height": null,
       "min_width": null,
       "object_fit": null,
       "object_position": null,
       "order": null,
       "overflow": null,
       "padding": null,
       "right": null,
       "top": null,
       "visibility": null,
       "width": null
      }
     },
     "3207d9a6284344cb866f0c7ae180cd52": {
      "model_module": "@jupyter-widgets/controls",
      "model_module_version": "2.0.0",
      "model_name": "HBoxModel",
      "state": {
       "_dom_classes": [],
       "_model_module": "@jupyter-widgets/controls",
       "_model_module_version": "2.0.0",
       "_model_name": "HBoxModel",
       "_view_count": null,
       "_view_module": "@jupyter-widgets/controls",
       "_view_module_version": "2.0.0",
       "_view_name": "HBoxView",
       "box_style": "",
       "children": [
        "IPY_MODEL_1d260e4249d24764b47eb9f21f0fa281",
        "IPY_MODEL_21c9c5316f89498bb55db751ef622a7b",
        "IPY_MODEL_70e822bd37e84e4fb275874851114bd1"
       ],
       "layout": "IPY_MODEL_00e2732d369d471a84ac99a81fbb5730",
       "tabbable": null,
       "tooltip": null
      }
     },
     "3701b4f79a4e42399a237ff90b160c5f": {
      "model_module": "@jupyter-widgets/controls",
      "model_module_version": "2.0.0",
      "model_name": "FloatProgressModel",
      "state": {
       "_dom_classes": [],
       "_model_module": "@jupyter-widgets/controls",
       "_model_module_version": "2.0.0",
       "_model_name": "FloatProgressModel",
       "_view_count": null,
       "_view_module": "@jupyter-widgets/controls",
       "_view_module_version": "2.0.0",
       "_view_name": "ProgressView",
       "bar_style": "success",
       "description": "",
       "description_allow_html": false,
       "layout": "IPY_MODEL_a5c8254782ef4f9e97b0bf9dce3f59fa",
       "max": 500,
       "min": 0,
       "orientation": "horizontal",
       "style": "IPY_MODEL_c1e6a994772147968317693f21a91f68",
       "tabbable": null,
       "tooltip": null,
       "value": 500
      }
     },
     "5b450e49723b4b17989d5e211d56a06c": {
      "model_module": "@jupyter-widgets/base",
      "model_module_version": "2.0.0",
      "model_name": "LayoutModel",
      "state": {
       "_model_module": "@jupyter-widgets/base",
       "_model_module_version": "2.0.0",
       "_model_name": "LayoutModel",
       "_view_count": null,
       "_view_module": "@jupyter-widgets/base",
       "_view_module_version": "2.0.0",
       "_view_name": "LayoutView",
       "align_content": null,
       "align_items": null,
       "align_self": null,
       "border_bottom": null,
       "border_left": null,
       "border_right": null,
       "border_top": null,
       "bottom": null,
       "display": null,
       "flex": null,
       "flex_flow": null,
       "grid_area": null,
       "grid_auto_columns": null,
       "grid_auto_flow": null,
       "grid_auto_rows": null,
       "grid_column": null,
       "grid_gap": null,
       "grid_row": null,
       "grid_template_areas": null,
       "grid_template_columns": null,
       "grid_template_rows": null,
       "height": null,
       "justify_content": null,
       "justify_items": null,
       "left": null,
       "margin": null,
       "max_height": null,
       "max_width": null,
       "min_height": null,
       "min_width": null,
       "object_fit": null,
       "object_position": null,
       "order": null,
       "overflow": null,
       "padding": null,
       "right": null,
       "top": null,
       "visibility": null,
       "width": null
      }
     },
     "70e822bd37e84e4fb275874851114bd1": {
      "model_module": "@jupyter-widgets/controls",
      "model_module_version": "2.0.0",
      "model_name": "HTMLModel",
      "state": {
       "_dom_classes": [],
       "_model_module": "@jupyter-widgets/controls",
       "_model_module_version": "2.0.0",
       "_model_name": "HTMLModel",
       "_view_count": null,
       "_view_module": "@jupyter-widgets/controls",
       "_view_module_version": "2.0.0",
       "_view_name": "HTMLView",
       "description": "",
       "description_allow_html": false,
       "layout": "IPY_MODEL_2681c907cd734b349f8b8fef00f5c083",
       "placeholder": "​",
       "style": "IPY_MODEL_158c60a46c6c4082b84d1d33b63731d5",
       "tabbable": null,
       "tooltip": null,
       "value": " 6/6 [00:07&lt;00:00,  1.27s/it]"
      }
     },
     "748b0591acd644a0b78e1fff7ffc35c8": {
      "model_module": "@jupyter-widgets/controls",
      "model_module_version": "2.0.0",
      "model_name": "HBoxModel",
      "state": {
       "_dom_classes": [],
       "_model_module": "@jupyter-widgets/controls",
       "_model_module_version": "2.0.0",
       "_model_name": "HBoxModel",
       "_view_count": null,
       "_view_module": "@jupyter-widgets/controls",
       "_view_module_version": "2.0.0",
       "_view_name": "HBoxView",
       "box_style": "",
       "children": [
        "IPY_MODEL_a518532de89f429a88b04819c21eea0e",
        "IPY_MODEL_3701b4f79a4e42399a237ff90b160c5f",
        "IPY_MODEL_e8f5f1ca4a0a47489a76d0cfc4542fd5"
       ],
       "layout": "IPY_MODEL_c440e638727d4b749663b89a77dedc24",
       "tabbable": null,
       "tooltip": null
      }
     },
     "a518532de89f429a88b04819c21eea0e": {
      "model_module": "@jupyter-widgets/controls",
      "model_module_version": "2.0.0",
      "model_name": "HTMLModel",
      "state": {
       "_dom_classes": [],
       "_model_module": "@jupyter-widgets/controls",
       "_model_module_version": "2.0.0",
       "_model_name": "HTMLModel",
       "_view_count": null,
       "_view_module": "@jupyter-widgets/controls",
       "_view_module_version": "2.0.0",
       "_view_name": "HTMLView",
       "description": "",
       "description_allow_html": false,
       "layout": "IPY_MODEL_5b450e49723b4b17989d5e211d56a06c",
       "placeholder": "​",
       "style": "IPY_MODEL_a52ff723b5db4cca9d1ccb33c06bb0af",
       "tabbable": null,
       "tooltip": null,
       "value": "loss:     0.6081 | loss_without_regu:     0.6081 | model0_train_mse:     0.6081 | train_loss:     0.6081 | : 100%"
      }
     },
     "a52ff723b5db4cca9d1ccb33c06bb0af": {
      "model_module": "@jupyter-widgets/controls",
      "model_module_version": "2.0.0",
      "model_name": "HTMLStyleModel",
      "state": {
       "_model_module": "@jupyter-widgets/controls",
       "_model_module_version": "2.0.0",
       "_model_name": "HTMLStyleModel",
       "_view_count": null,
       "_view_module": "@jupyter-widgets/base",
       "_view_module_version": "2.0.0",
       "_view_name": "StyleView",
       "background": null,
       "description_width": "",
       "font_size": null,
       "text_color": null
      }
     },
     "a5c8254782ef4f9e97b0bf9dce3f59fa": {
      "model_module": "@jupyter-widgets/base",
      "model_module_version": "2.0.0",
      "model_name": "LayoutModel",
      "state": {
       "_model_module": "@jupyter-widgets/base",
       "_model_module_version": "2.0.0",
       "_model_name": "LayoutModel",
       "_view_count": null,
       "_view_module": "@jupyter-widgets/base",
       "_view_module_version": "2.0.0",
       "_view_name": "LayoutView",
       "align_content": null,
       "align_items": null,
       "align_self": null,
       "border_bottom": null,
       "border_left": null,
       "border_right": null,
       "border_top": null,
       "bottom": null,
       "display": null,
       "flex": null,
       "flex_flow": null,
       "grid_area": null,
       "grid_auto_columns": null,
       "grid_auto_flow": null,
       "grid_auto_rows": null,
       "grid_column": null,
       "grid_gap": null,
       "grid_row": null,
       "grid_template_areas": null,
       "grid_template_columns": null,
       "grid_template_rows": null,
       "height": null,
       "justify_content": null,
       "justify_items": null,
       "left": null,
       "margin": null,
       "max_height": null,
       "max_width": null,
       "min_height": null,
       "min_width": null,
       "object_fit": null,
       "object_position": null,
       "order": null,
       "overflow": null,
       "padding": null,
       "right": null,
       "top": null,
       "visibility": null,
       "width": null
      }
     },
     "b2c8c24c00f34d7ea3e1d1b9486e4790": {
      "model_module": "@jupyter-widgets/controls",
      "model_module_version": "2.0.0",
      "model_name": "HTMLStyleModel",
      "state": {
       "_model_module": "@jupyter-widgets/controls",
       "_model_module_version": "2.0.0",
       "_model_name": "HTMLStyleModel",
       "_view_count": null,
       "_view_module": "@jupyter-widgets/base",
       "_view_module_version": "2.0.0",
       "_view_name": "StyleView",
       "background": null,
       "description_width": "",
       "font_size": null,
       "text_color": null
      }
     },
     "b7784f8491e547349dd140bbfa648823": {
      "model_module": "@jupyter-widgets/base",
      "model_module_version": "2.0.0",
      "model_name": "LayoutModel",
      "state": {
       "_model_module": "@jupyter-widgets/base",
       "_model_module_version": "2.0.0",
       "_model_name": "LayoutModel",
       "_view_count": null,
       "_view_module": "@jupyter-widgets/base",
       "_view_module_version": "2.0.0",
       "_view_name": "LayoutView",
       "align_content": null,
       "align_items": null,
       "align_self": null,
       "border_bottom": null,
       "border_left": null,
       "border_right": null,
       "border_top": null,
       "bottom": null,
       "display": null,
       "flex": null,
       "flex_flow": null,
       "grid_area": null,
       "grid_auto_columns": null,
       "grid_auto_flow": null,
       "grid_auto_rows": null,
       "grid_column": null,
       "grid_gap": null,
       "grid_row": null,
       "grid_template_areas": null,
       "grid_template_columns": null,
       "grid_template_rows": null,
       "height": null,
       "justify_content": null,
       "justify_items": null,
       "left": null,
       "margin": null,
       "max_height": null,
       "max_width": null,
       "min_height": null,
       "min_width": null,
       "object_fit": null,
       "object_position": null,
       "order": null,
       "overflow": null,
       "padding": null,
       "right": null,
       "top": null,
       "visibility": null,
       "width": null
      }
     },
     "c1e6a994772147968317693f21a91f68": {
      "model_module": "@jupyter-widgets/controls",
      "model_module_version": "2.0.0",
      "model_name": "ProgressStyleModel",
      "state": {
       "_model_module": "@jupyter-widgets/controls",
       "_model_module_version": "2.0.0",
       "_model_name": "ProgressStyleModel",
       "_view_count": null,
       "_view_module": "@jupyter-widgets/base",
       "_view_module_version": "2.0.0",
       "_view_name": "StyleView",
       "bar_color": null,
       "description_width": ""
      }
     },
     "c440e638727d4b749663b89a77dedc24": {
      "model_module": "@jupyter-widgets/base",
      "model_module_version": "2.0.0",
      "model_name": "LayoutModel",
      "state": {
       "_model_module": "@jupyter-widgets/base",
       "_model_module_version": "2.0.0",
       "_model_name": "LayoutModel",
       "_view_count": null,
       "_view_module": "@jupyter-widgets/base",
       "_view_module_version": "2.0.0",
       "_view_name": "LayoutView",
       "align_content": null,
       "align_items": null,
       "align_self": null,
       "border_bottom": null,
       "border_left": null,
       "border_right": null,
       "border_top": null,
       "bottom": null,
       "display": null,
       "flex": null,
       "flex_flow": null,
       "grid_area": null,
       "grid_auto_columns": null,
       "grid_auto_flow": null,
       "grid_auto_rows": null,
       "grid_column": null,
       "grid_gap": null,
       "grid_row": null,
       "grid_template_areas": null,
       "grid_template_columns": null,
       "grid_template_rows": null,
       "height": null,
       "justify_content": null,
       "justify_items": null,
       "left": null,
       "margin": null,
       "max_height": null,
       "max_width": null,
       "min_height": null,
       "min_width": null,
       "object_fit": null,
       "object_position": null,
       "order": null,
       "overflow": null,
       "padding": null,
       "right": null,
       "top": null,
       "visibility": null,
       "width": null
      }
     },
     "e7f8efbf10eb4af0a48ae5036a0eca42": {
      "model_module": "@jupyter-widgets/controls",
      "model_module_version": "2.0.0",
      "model_name": "HTMLStyleModel",
      "state": {
       "_model_module": "@jupyter-widgets/controls",
       "_model_module_version": "2.0.0",
       "_model_name": "HTMLStyleModel",
       "_view_count": null,
       "_view_module": "@jupyter-widgets/base",
       "_view_module_version": "2.0.0",
       "_view_name": "StyleView",
       "background": null,
       "description_width": "",
       "font_size": null,
       "text_color": null
      }
     },
     "e8f5f1ca4a0a47489a76d0cfc4542fd5": {
      "model_module": "@jupyter-widgets/controls",
      "model_module_version": "2.0.0",
      "model_name": "HTMLModel",
      "state": {
       "_dom_classes": [],
       "_model_module": "@jupyter-widgets/controls",
       "_model_module_version": "2.0.0",
       "_model_name": "HTMLModel",
       "_view_count": null,
       "_view_module": "@jupyter-widgets/controls",
       "_view_module_version": "2.0.0",
       "_view_name": "HTMLView",
       "description": "",
       "description_allow_html": false,
       "layout": "IPY_MODEL_1d884c0934074ec4b4137b60ffc09f9c",
       "placeholder": "​",
       "style": "IPY_MODEL_b2c8c24c00f34d7ea3e1d1b9486e4790",
       "tabbable": null,
       "tooltip": null,
       "value": " 500/500 [01:03&lt;00:00,  7.46it/s]"
      }
     }
    },
    "version_major": 2,
    "version_minor": 0
   }
  }
 },
 "nbformat": 4,
 "nbformat_minor": 2
}
