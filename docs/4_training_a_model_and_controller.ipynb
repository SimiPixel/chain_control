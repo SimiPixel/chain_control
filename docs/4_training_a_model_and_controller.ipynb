{
 "cells": [
  {
   "cell_type": "code",
   "execution_count": 1,
   "metadata": {
    "execution": {
     "iopub.execute_input": "2023-03-22T12:27:57.399671Z",
     "iopub.status.busy": "2023-03-22T12:27:57.399202Z",
     "iopub.status.idle": "2023-03-22T12:27:58.183739Z",
     "shell.execute_reply": "2023-03-22T12:27:58.183006Z"
    }
   },
   "outputs": [],
   "source": [
    "from cc.env import make_env\n",
    "from cc.examples.neural_ode_model_compact_example import make_neural_ode_model\n",
    "from cc.train import (\n",
    "    ModelControllerTrainer, \n",
    "    Tracker, make_dataloader, \n",
    "    UnsupervisedDataset\n",
    ")\n",
    "import jax.random as jrand\n",
    "import optax\n",
    "import jax.numpy as jnp\n",
    "import equinox as eqx"
   ]
  },
  {
   "cell_type": "code",
   "execution_count": 2,
   "metadata": {
    "execution": {
     "iopub.execute_input": "2023-03-22T12:27:58.186804Z",
     "iopub.status.busy": "2023-03-22T12:27:58.186618Z",
     "iopub.status.idle": "2023-03-22T12:27:58.246403Z",
     "shell.execute_reply": "2023-03-22T12:27:58.246038Z"
    }
   },
   "outputs": [],
   "source": [
    "time_limit = 10.0\n",
    "control_timestep = 0.01\n",
    "\n",
    "env = make_env(\"two_segments_v1\", time_limit=time_limit, control_timestep=control_timestep, random=1)"
   ]
  },
  {
   "cell_type": "code",
   "execution_count": 3,
   "metadata": {
    "execution": {
     "iopub.execute_input": "2023-03-22T12:27:58.247982Z",
     "iopub.status.busy": "2023-03-22T12:27:58.247897Z",
     "iopub.status.idle": "2023-03-22T12:27:58.454429Z",
     "shell.execute_reply": "2023-03-22T12:27:58.454007Z"
    }
   },
   "outputs": [],
   "source": [
    "# make sure this definition matches exactly (!) the\n",
    "# definition as it was used in notebook 3\n",
    "model = make_neural_ode_model(\n",
    "    env.action_spec(),\n",
    "    env.observation_spec(),\n",
    "    env.control_timestep(),\n",
    "    state_dim=50,\n",
    "    f_depth=0, \n",
    "    u_transform=jnp.arctan\n",
    ")"
   ]
  },
  {
   "cell_type": "code",
   "execution_count": 4,
   "metadata": {
    "execution": {
     "iopub.execute_input": "2023-03-22T12:27:58.456046Z",
     "iopub.status.busy": "2023-03-22T12:27:58.455958Z",
     "iopub.status.idle": "2023-03-22T12:27:58.459860Z",
     "shell.execute_reply": "2023-03-22T12:27:58.459574Z"
    }
   },
   "outputs": [],
   "source": [
    "# trained in notebook 3\n",
    "fitted_model = eqx.tree_deserialise_leaves(\"model.eqx\", model)"
   ]
  },
  {
   "cell_type": "markdown",
   "metadata": {},
   "source": [
    "# Training a controller"
   ]
  },
  {
   "cell_type": "code",
   "execution_count": 5,
   "metadata": {
    "execution": {
     "iopub.execute_input": "2023-03-22T12:27:58.461274Z",
     "iopub.status.busy": "2023-03-22T12:27:58.461198Z",
     "iopub.status.idle": "2023-03-22T12:27:58.763768Z",
     "shell.execute_reply": "2023-03-22T12:27:58.763451Z"
    }
   },
   "outputs": [
    {
     "name": "stderr",
     "output_type": "stream",
     "text": [
      "/opt/homebrew/Caskroom/miniforge/base/envs/chain_control/lib/python3.10/site-packages/flax/core/frozen_dict.py:169: FutureWarning: jax.tree_util.register_keypaths is deprecated, and will be removed in a future release. Please use `register_pytree_with_keys()` instead.\n",
      "  jax.tree_util.register_keypaths(\n"
     ]
    }
   ],
   "source": [
    "from cc.train import TrainingOptionsController\n",
    "from cc.examples.neural_ode_controller_compact_example import make_neural_ode_controller\n",
    "from cc.env.collect import random_steps_source\n",
    "from cc.env.wrappers import AddRefSignalRewardFnWrapper\n",
    "\n",
    "source = random_steps_source(env, seeds=list(range(30)))\n",
    "env_w_source = AddRefSignalRewardFnWrapper(env, source)"
   ]
  },
  {
   "cell_type": "code",
   "execution_count": 6,
   "metadata": {
    "execution": {
     "iopub.execute_input": "2023-03-22T12:27:58.782757Z",
     "iopub.status.busy": "2023-03-22T12:27:58.782577Z",
     "iopub.status.idle": "2023-03-22T12:27:58.926970Z",
     "shell.execute_reply": "2023-03-22T12:27:58.926574Z"
    }
   },
   "outputs": [],
   "source": [
    "controller = make_neural_ode_controller(\n",
    "    env_w_source.observation_spec(),\n",
    "    env.action_spec(),\n",
    "    env.control_timestep(),\n",
    "    5,\n",
    "    f_depth=0\n",
    ")"
   ]
  },
  {
   "cell_type": "code",
   "execution_count": 7,
   "metadata": {
    "execution": {
     "iopub.execute_input": "2023-03-22T12:27:58.928559Z",
     "iopub.status.busy": "2023-03-22T12:27:58.928470Z",
     "iopub.status.idle": "2023-03-22T12:27:59.133156Z",
     "shell.execute_reply": "2023-03-22T12:27:59.132842Z"
    }
   },
   "outputs": [
    {
     "name": "stdout",
     "output_type": "stream",
     "text": [
      "This model has been registered with model name `model0`.\n",
      "                    When using multiple models individual model names have to\n",
      "                    be provided by passing a dictionary in the `model` argument\n"
     ]
    }
   ],
   "source": [
    "controller_dataloader = make_dataloader(\n",
    "    UnsupervisedDataset(source.get_references_for_optimisation()),\n",
    "    jrand.PRNGKey(1,),\n",
    "    n_minibatches=5\n",
    ")\n",
    "\n",
    "optimizer = optax.chain(optax.clip_by_global_norm(1.0), optax.adam(1e-3))\n",
    "\n",
    "controller_train_options = TrainingOptionsController(\n",
    "    controller_dataloader, optimizer, \n",
    ")\n",
    "\n",
    "controller_trainer = ModelControllerTrainer(\n",
    "    fitted_model, controller, controller_train_options=controller_train_options, \n",
    "    trackers=[Tracker(\"loss\")]\n",
    ")"
   ]
  },
  {
   "cell_type": "code",
   "execution_count": 8,
   "metadata": {
    "execution": {
     "iopub.execute_input": "2023-03-22T12:27:59.134742Z",
     "iopub.status.busy": "2023-03-22T12:27:59.134655Z",
     "iopub.status.idle": "2023-03-22T12:28:34.791192Z",
     "shell.execute_reply": "2023-03-22T12:28:34.790813Z"
    }
   },
   "outputs": [
    {
     "data": {
      "application/vnd.jupyter.widget-view+json": {
       "model_id": "8f79f5265cc44564acd151c8a6c2441e",
       "version_major": 2,
       "version_minor": 0
      },
      "text/plain": [
       "  0%|          | 0/500 [00:00<?, ?it/s]"
      ]
     },
     "metadata": {},
     "output_type": "display_data"
    }
   ],
   "source": [
    "controller_trainer.run(500)"
   ]
  },
  {
   "cell_type": "code",
   "execution_count": 9,
   "metadata": {
    "execution": {
     "iopub.execute_input": "2023-03-22T12:28:34.792760Z",
     "iopub.status.busy": "2023-03-22T12:28:34.792641Z",
     "iopub.status.idle": "2023-03-22T12:28:34.795012Z",
     "shell.execute_reply": "2023-03-22T12:28:34.794750Z"
    }
   },
   "outputs": [
    {
     "data": {
      "text/plain": [
       "0.52216774"
      ]
     },
     "execution_count": 9,
     "metadata": {},
     "output_type": "execute_result"
    }
   ],
   "source": [
    "fitted_controller = controller_trainer.trackers[0].best_model_or_controller()\n",
    "controller_trainer.trackers[0].best_metric()"
   ]
  },
  {
   "cell_type": "code",
   "execution_count": 10,
   "metadata": {
    "execution": {
     "iopub.execute_input": "2023-03-22T12:28:34.796389Z",
     "iopub.status.busy": "2023-03-22T12:28:34.796290Z",
     "iopub.status.idle": "2023-03-22T12:28:39.264449Z",
     "shell.execute_reply": "2023-03-22T12:28:39.264083Z"
    }
   },
   "outputs": [
    {
     "data": {
      "application/vnd.jupyter.widget-view+json": {
       "model_id": "12e39c41fac84586aebc092f485793cf",
       "version_major": 2,
       "version_minor": 0
      },
      "text/plain": [
       "Reference Iterator:   0%|          | 0/6 [00:00<?, ?it/s]"
      ]
     },
     "metadata": {},
     "output_type": "display_data"
    }
   ],
   "source": [
    "from cc.env.collect import collect_exhaust_source\n",
    "\n",
    "eval_source = random_steps_source(env, seeds=list(range(6)))\n",
    "# returns a tuple\n",
    "controller_performance_sample, loop_results = collect_exhaust_source(\n",
    "    AddRefSignalRewardFnWrapper(env, eval_source), fitted_controller)"
   ]
  },
  {
   "cell_type": "code",
   "execution_count": 11,
   "metadata": {
    "execution": {
     "iopub.execute_input": "2023-03-22T12:28:39.266030Z",
     "iopub.status.busy": "2023-03-22T12:28:39.265910Z",
     "iopub.status.idle": "2023-03-22T12:28:39.268942Z",
     "shell.execute_reply": "2023-03-22T12:28:39.268668Z"
    }
   },
   "outputs": [
    {
     "data": {
      "text/plain": [
       "{'env_reset_duration_sec': array([[0.00014472],\n",
       "        [0.00016522],\n",
       "        [0.00014806],\n",
       "        [0.00022507],\n",
       "        [0.00025177],\n",
       "        [0.00016713]]),\n",
       " 'env_step_duration_sec': array([[0.00031554],\n",
       "        [0.00029161],\n",
       "        [0.0002905 ],\n",
       "        [0.00031862],\n",
       "        [0.00029593],\n",
       "        [0.00030553]]),\n",
       " 'episode_length': array([[1000],\n",
       "        [1000],\n",
       "        [1000],\n",
       "        [1000],\n",
       "        [1000],\n",
       "        [1000]]),\n",
       " 'episode_return': array([[ -650.606   ],\n",
       "        [-1547.1074  ],\n",
       "        [  -93.8062  ],\n",
       "        [  -35.046772],\n",
       "        [-1425.5059  ],\n",
       "        [  -19.956772]], dtype=float32),\n",
       " 'episodes': array([[1],\n",
       "        [1],\n",
       "        [1],\n",
       "        [1],\n",
       "        [1],\n",
       "        [1]]),\n",
       " 'select_action_duration_sec': array([[0.00042145],\n",
       "        [0.00037979],\n",
       "        [0.00037902],\n",
       "        [0.00041055],\n",
       "        [0.00038514],\n",
       "        [0.00043374]]),\n",
       " 'steps': array([[1000],\n",
       "        [1000],\n",
       "        [1000],\n",
       "        [1000],\n",
       "        [1000],\n",
       "        [1000]]),\n",
       " 'steps_per_second': array([[1327.48236877],\n",
       "        [1463.79039092],\n",
       "        [1467.94364541],\n",
       "        [1347.11180442],\n",
       "        [1442.80967679],\n",
       "        [1329.90597162]])}"
      ]
     },
     "execution_count": 11,
     "metadata": {},
     "output_type": "execute_result"
    }
   ],
   "source": [
    "# some metadata\n",
    "# you can use the concept of `loop_observers` to record\n",
    "# every physical quantity you could think of \n",
    "# e.g. angle trajectories or linear accelerations\n",
    "loop_results"
   ]
  },
  {
   "cell_type": "code",
   "execution_count": 12,
   "metadata": {
    "execution": {
     "iopub.execute_input": "2023-03-22T12:28:39.270378Z",
     "iopub.status.busy": "2023-03-22T12:28:39.270292Z",
     "iopub.status.idle": "2023-03-22T12:28:39.285463Z",
     "shell.execute_reply": "2023-03-22T12:28:39.285161Z"
    }
   },
   "outputs": [
    {
     "data": {
      "text/plain": [
       "Array(0.62867105, dtype=float32)"
      ]
     },
     "execution_count": 12,
     "metadata": {},
     "output_type": "execute_result"
    }
   ],
   "source": [
    "jnp.mean(-controller_performance_sample.rew)"
   ]
  },
  {
   "cell_type": "code",
   "execution_count": 13,
   "metadata": {
    "execution": {
     "iopub.execute_input": "2023-03-22T12:28:39.287041Z",
     "iopub.status.busy": "2023-03-22T12:28:39.286919Z",
     "iopub.status.idle": "2023-03-22T12:28:39.459957Z",
     "shell.execute_reply": "2023-03-22T12:28:39.459550Z"
    }
   },
   "outputs": [],
   "source": [
    "%matplotlib inline"
   ]
  },
  {
   "cell_type": "code",
   "execution_count": 14,
   "metadata": {
    "execution": {
     "iopub.execute_input": "2023-03-22T12:28:39.462012Z",
     "iopub.status.busy": "2023-03-22T12:28:39.461833Z",
     "iopub.status.idle": "2023-03-22T12:28:39.589967Z",
     "shell.execute_reply": "2023-03-22T12:28:39.589045Z"
    }
   },
   "outputs": [
    {
     "data": {
      "text/plain": [
       "<matplotlib.legend.Legend at 0x2c7bbf1f0>"
      ]
     },
     "execution_count": 14,
     "metadata": {},
     "output_type": "execute_result"
    },
    {
     "data": {
      "image/png": "[encoded data removed]",
      "text/plain": [
       "<Figure size 640x480 with 1 Axes>"
      ]
     },
     "metadata": {},
     "output_type": "display_data"
    }
   ],
   "source": [
    "import matplotlib.pyplot as plt \n",
    "\n",
    "i = 5\n",
    "plt.plot(controller_performance_sample.obs[\"obs\"][\"xpos_of_segment_end\"][i])\n",
    "plt.plot(controller_performance_sample.obs[\"ref\"][\"xpos_of_segment_end\"][i], label=\"reference\")\n",
    "plt.legend()\n"
   ]
  },
  {
   "cell_type": "code",
   "execution_count": null,
   "metadata": {},
   "outputs": [],
   "source": []
  }
 ],
 "metadata": {
  "kernelspec": {
   "display_name": "chain_control_git_acme",
   "language": "python",
   "name": "python3"
  },
  "language_info": {
   "codemirror_mode": {
    "name": "ipython",
    "version": 3
   },
   "file_extension": ".py",
   "mimetype": "text/x-python",
   "name": "python",
   "nbconvert_exporter": "python",
   "pygments_lexer": "ipython3",
   "version": "3.10.9"
  },
  "vscode": {
   "interpreter": {
    "hash": "5b2253a7523a95ed3902114f0f706ff75350c1390ed2b5722c967a5fcb81421d"
   }
  },
  "widgets": {
   "application/vnd.jupyter.widget-state+json": {
    "state": {
     "04b2c6c3ae824fe19090820c064807e0": {
      "model_module": "@jupyter-widgets/controls",
      "model_module_version": "2.0.0",
      "model_name": "ProgressStyleModel",
      "state": {
       "_model_module": "@jupyter-widgets/controls",
       "_model_module_version": "2.0.0",
       "_model_name": "ProgressStyleModel",
       "_view_count": null,
       "_view_module": "@jupyter-widgets/base",
       "_view_module_version": "2.0.0",
       "_view_name": "StyleView",
       "bar_color": null,
       "description_width": ""
      }
     },
     "09815abe935e4c8fabce9a3079fad798": {
      "model_module": "@jupyter-widgets/base",
      "model_module_version": "2.0.0",
      "model_name": "LayoutModel",
      "state": {
       "_model_module": "@jupyter-widgets/base",
       "_model_module_version": "2.0.0",
       "_model_name": "LayoutModel",
       "_view_count": null,
       "_view_module": "@jupyter-widgets/base",
       "_view_module_version": "2.0.0",
       "_view_name": "LayoutView",
       "align_content": null,
       "align_items": null,
       "align_self": null,
       "border_bottom": null,
       "border_left": null,
       "border_right": null,
       "border_top": null,
       "bottom": null,
       "display": null,
       "flex": null,
       "flex_flow": null,
       "grid_area": null,
       "grid_auto_columns": null,
       "grid_auto_flow": null,
       "grid_auto_rows": null,
       "grid_column": null,
       "grid_gap": null,
       "grid_row": null,
       "grid_template_areas": null,
       "grid_template_columns": null,
       "grid_template_rows": null,
       "height": null,
       "justify_content": null,
       "justify_items": null,
       "left": null,
       "margin": null,
       "max_height": null,
       "max_width": null,
       "min_height": null,
       "min_width": null,
       "object_fit": null,
       "object_position": null,
       "order": null,
       "overflow": null,
       "padding": null,
       "right": null,
       "top": null,
       "visibility": null,
       "width": null
      }
     },
     "0ec7d876d2824ae68fbcfe1b5714314e": {
      "model_module": "@jupyter-widgets/controls",
      "model_module_version": "2.0.0",
      "model_name": "FloatProgressModel",
      "state": {
       "_dom_classes": [],
       "_model_module": "@jupyter-widgets/controls",
       "_model_module_version": "2.0.0",
       "_model_name": "FloatProgressModel",
       "_view_count": null,
       "_view_module": "@jupyter-widgets/controls",
       "_view_module_version": "2.0.0",
       "_view_name": "ProgressView",
       "bar_style": "success",
       "description": "",
       "description_allow_html": false,
       "layout": "IPY_MODEL_902cb73b6d2c4b4e821200b64a5f655f",
       "max": 6.0,
       "min": 0.0,
       "orientation": "horizontal",
       "style": "IPY_MODEL_2366b1ceed3a4abaa42e523b84dc47dd",
       "tabbable": null,
       "tooltip": null,
       "value": 6.0
      }
     },
     "12e39c41fac84586aebc092f485793cf": {
      "model_module": "@jupyter-widgets/controls",
      "model_module_version": "2.0.0",
      "model_name": "HBoxModel",
      "state": {
       "_dom_classes": [],
       "_model_module": "@jupyter-widgets/controls",
       "_model_module_version": "2.0.0",
       "_model_name": "HBoxModel",
       "_view_count": null,
       "_view_module": "@jupyter-widgets/controls",
       "_view_module_version": "2.0.0",
       "_view_name": "HBoxView",
       "box_style": "",
       "children": [
        "IPY_MODEL_799894a4ad124e66b1f5476470ead24d",
        "IPY_MODEL_0ec7d876d2824ae68fbcfe1b5714314e",
        "IPY_MODEL_e900bfaacaba4827aee0c42b2ec43506"
       ],
       "layout": "IPY_MODEL_9d8fb326562843ff8be6a695307f1b15",
       "tabbable": null,
       "tooltip": null
      }
     },
     "19e2d000c29e455d955bd7fcd7469cea": {
      "model_module": "@jupyter-widgets/controls",
      "model_module_version": "2.0.0",
      "model_name": "HTMLStyleModel",
      "state": {
       "_model_module": "@jupyter-widgets/controls",
       "_model_module_version": "2.0.0",
       "_model_name": "HTMLStyleModel",
       "_view_count": null,
       "_view_module": "@jupyter-widgets/base",
       "_view_module_version": "2.0.0",
       "_view_name": "StyleView",
       "background": null,
       "description_width": "",
       "font_size": null,
       "text_color": null
      }
     },
     "1b62d51160194ac5a2a7a63ac6e9926f": {
      "model_module": "@jupyter-widgets/controls",
      "model_module_version": "2.0.0",
      "model_name": "FloatProgressModel",
      "state": {
       "_dom_classes": [],
       "_model_module": "@jupyter-widgets/controls",
       "_model_module_version": "2.0.0",
       "_model_name": "FloatProgressModel",
       "_view_count": null,
       "_view_module": "@jupyter-widgets/controls",
       "_view_module_version": "2.0.0",
       "_view_name": "ProgressView",
       "bar_style": "success",
       "description": "",
       "description_allow_html": false,
       "layout": "IPY_MODEL_09815abe935e4c8fabce9a3079fad798",
       "max": 500.0,
       "min": 0.0,
       "orientation": "horizontal",
       "style": "IPY_MODEL_04b2c6c3ae824fe19090820c064807e0",
       "tabbable": null,
       "tooltip": null,
       "value": 500.0
      }
     },
     "2366b1ceed3a4abaa42e523b84dc47dd": {
      "model_module": "@jupyter-widgets/controls",
      "model_module_version": "2.0.0",
      "model_name": "ProgressStyleModel",
      "state": {
       "_model_module": "@jupyter-widgets/controls",
       "_model_module_version": "2.0.0",
       "_model_name": "ProgressStyleModel",
       "_view_count": null,
       "_view_module": "@jupyter-widgets/base",
       "_view_module_version": "2.0.0",
       "_view_name": "StyleView",
       "bar_color": null,
       "description_width": ""
      }
     },
     "2e4b2762db464572b1381da9e8f58a6c": {
      "model_module": "@jupyter-widgets/base",
      "model_module_version": "2.0.0",
      "model_name": "LayoutModel",
      "state": {
       "_model_module": "@jupyter-widgets/base",
       "_model_module_version": "2.0.0",
       "_model_name": "LayoutModel",
       "_view_count": null,
       "_view_module": "@jupyter-widgets/base",
       "_view_module_version": "2.0.0",
       "_view_name": "LayoutView",
       "align_content": null,
       "align_items": null,
       "align_self": null,
       "border_bottom": null,
       "border_left": null,
       "border_right": null,
       "border_top": null,
       "bottom": null,
       "display": null,
       "flex": null,
       "flex_flow": null,
       "grid_area": null,
       "grid_auto_columns": null,
       "grid_auto_flow": null,
       "grid_auto_rows": null,
       "grid_column": null,
       "grid_gap": null,
       "grid_row": null,
       "grid_template_areas": null,
       "grid_template_columns": null,
       "grid_template_rows": null,
       "height": null,
       "justify_content": null,
       "justify_items": null,
       "left": null,
       "margin": null,
       "max_height": null,
       "max_width": null,
       "min_height": null,
       "min_width": null,
       "object_fit": null,
       "object_position": null,
       "order": null,
       "overflow": null,
       "padding": null,
       "right": null,
       "top": null,
       "visibility": null,
       "width": null
      }
     },
     "3a0047472b304ce2aa3b6c2ec031565b": {
      "model_module": "@jupyter-widgets/base",
      "model_module_version": "2.0.0",
      "model_name": "LayoutModel",
      "state": {
       "_model_module": "@jupyter-widgets/base",
       "_model_module_version": "2.0.0",
       "_model_name": "LayoutModel",
       "_view_count": null,
       "_view_module": "@jupyter-widgets/base",
       "_view_module_version": "2.0.0",
       "_view_name": "LayoutView",
       "align_content": null,
       "align_items": null,
       "align_self": null,
       "border_bottom": null,
       "border_left": null,
       "border_right": null,
       "border_top": null,
       "bottom": null,
       "display": null,
       "flex": null,
       "flex_flow": null,
       "grid_area": null,
       "grid_auto_columns": null,
       "grid_auto_flow": null,
       "grid_auto_rows": null,
       "grid_column": null,
       "grid_gap": null,
       "grid_row": null,
       "grid_template_areas": null,
       "grid_template_columns": null,
       "grid_template_rows": null,
       "height": null,
       "justify_content": null,
       "justify_items": null,
       "left": null,
       "margin": null,
       "max_height": null,
       "max_width": null,
       "min_height": null,
       "min_width": null,
       "object_fit": null,
       "object_position": null,
       "order": null,
       "overflow": null,
       "padding": null,
       "right": null,
       "top": null,
       "visibility": null,
       "width": null
      }
     },
     "4a5e5285f0694c02a20fe0f3cb088db5": {
      "model_module": "@jupyter-widgets/controls",
      "model_module_version": "2.0.0",
      "model_name": "HTMLModel",
      "state": {
       "_dom_classes": [],
       "_model_module": "@jupyter-widgets/controls",
       "_model_module_version": "2.0.0",
       "_model_name": "HTMLModel",
       "_view_count": null,
       "_view_module": "@jupyter-widgets/controls",
       "_view_module_version": "2.0.0",
       "_view_name": "HTMLView",
       "description": "",
       "description_allow_html": false,
       "layout": "IPY_MODEL_2e4b2762db464572b1381da9e8f58a6c",
       "placeholder": "​",
       "style": "IPY_MODEL_513658556aa24ee485145b37ba4f2042",
       "tabbable": null,
       "tooltip": null,
       "value": " 500/500 [00:35&lt;00:00, 16.23it/s]"
      }
     },
     "513658556aa24ee485145b37ba4f2042": {
      "model_module": "@jupyter-widgets/controls",
      "model_module_version": "2.0.0",
      "model_name": "HTMLStyleModel",
      "state": {
       "_model_module": "@jupyter-widgets/controls",
       "_model_module_version": "2.0.0",
       "_model_name": "HTMLStyleModel",
       "_view_count": null,
       "_view_module": "@jupyter-widgets/base",
       "_view_module_version": "2.0.0",
       "_view_name": "StyleView",
       "background": null,
       "description_width": "",
       "font_size": null,
       "text_color": null
      }
     },
     "799894a4ad124e66b1f5476470ead24d": {
      "model_module": "@jupyter-widgets/controls",
      "model_module_version": "2.0.0",
      "model_name": "HTMLModel",
      "state": {
       "_dom_classes": [],
       "_model_module": "@jupyter-widgets/controls",
       "_model_module_version": "2.0.0",
       "_model_name": "HTMLModel",
       "_view_count": null,
       "_view_module": "@jupyter-widgets/controls",
       "_view_module_version": "2.0.0",
       "_view_name": "HTMLView",
       "description": "",
       "description_allow_html": false,
       "layout": "IPY_MODEL_3a0047472b304ce2aa3b6c2ec031565b",
       "placeholder": "​",
       "style": "IPY_MODEL_79c7f05d764a43fea56d88be912bda01",
       "tabbable": null,
       "tooltip": null,
       "value": "Reference Iterator: 100%"
      }
     },
     "79c7f05d764a43fea56d88be912bda01": {
      "model_module": "@jupyter-widgets/controls",
      "model_module_version": "2.0.0",
      "model_name": "HTMLStyleModel",
      "state": {
       "_model_module": "@jupyter-widgets/controls",
       "_model_module_version": "2.0.0",
       "_model_name": "HTMLStyleModel",
       "_view_count": null,
       "_view_module": "@jupyter-widgets/base",
       "_view_module_version": "2.0.0",
       "_view_name": "StyleView",
       "background": null,
       "description_width": "",
       "font_size": null,
       "text_color": null
      }
     },
     "7d35a8644ec142fd96865fbe65551d2c": {
      "model_module": "@jupyter-widgets/base",
      "model_module_version": "2.0.0",
      "model_name": "LayoutModel",
      "state": {
       "_model_module": "@jupyter-widgets/base",
       "_model_module_version": "2.0.0",
       "_model_name": "LayoutModel",
       "_view_count": null,
       "_view_module": "@jupyter-widgets/base",
       "_view_module_version": "2.0.0",
       "_view_name": "LayoutView",
       "align_content": null,
       "align_items": null,
       "align_self": null,
       "border_bottom": null,
       "border_left": null,
       "border_right": null,
       "border_top": null,
       "bottom": null,
       "display": null,
       "flex": null,
       "flex_flow": null,
       "grid_area": null,
       "grid_auto_columns": null,
       "grid_auto_flow": null,
       "grid_auto_rows": null,
       "grid_column": null,
       "grid_gap": null,
       "grid_row": null,
       "grid_template_areas": null,
       "grid_template_columns": null,
       "grid_template_rows": null,
       "height": null,
       "justify_content": null,
       "justify_items": null,
       "left": null,
       "margin": null,
       "max_height": null,
       "max_width": null,
       "min_height": null,
       "min_width": null,
       "object_fit": null,
       "object_position": null,
       "order": null,
       "overflow": null,
       "padding": null,
       "right": null,
       "top": null,
       "visibility": null,
       "width": null
      }
     },
     "8f79f5265cc44564acd151c8a6c2441e": {
      "model_module": "@jupyter-widgets/controls",
      "model_module_version": "2.0.0",
      "model_name": "HBoxModel",
      "state": {
       "_dom_classes": [],
       "_model_module": "@jupyter-widgets/controls",
       "_model_module_version": "2.0.0",
       "_model_name": "HBoxModel",
       "_view_count": null,
       "_view_module": "@jupyter-widgets/controls",
       "_view_module_version": "2.0.0",
       "_view_name": "HBoxView",
       "box_style": "",
       "children": [
        "IPY_MODEL_fc8d03899f9e4c1395f0f8b10c54f157",
        "IPY_MODEL_1b62d51160194ac5a2a7a63ac6e9926f",
        "IPY_MODEL_4a5e5285f0694c02a20fe0f3cb088db5"
       ],
       "layout": "IPY_MODEL_f9b5fa7d0af8461098df2a777148bc15",
       "tabbable": null,
       "tooltip": null
      }
     },
     "902cb73b6d2c4b4e821200b64a5f655f": {
      "model_module": "@jupyter-widgets/base",
      "model_module_version": "2.0.0",
      "model_name": "LayoutModel",
      "state": {
       "_model_module": "@jupyter-widgets/base",
       "_model_module_version": "2.0.0",
       "_model_name": "LayoutModel",
       "_view_count": null,
       "_view_module": "@jupyter-widgets/base",
       "_view_module_version": "2.0.0",
       "_view_name": "LayoutView",
       "align_content": null,
       "align_items": null,
       "align_self": null,
       "border_bottom": null,
       "border_left": null,
       "border_right": null,
       "border_top": null,
       "bottom": null,
       "display": null,
       "flex": null,
       "flex_flow": null,
       "grid_area": null,
       "grid_auto_columns": null,
       "grid_auto_flow": null,
       "grid_auto_rows": null,
       "grid_column": null,
       "grid_gap": null,
       "grid_row": null,
       "grid_template_areas": null,
       "grid_template_columns": null,
       "grid_template_rows": null,
       "height": null,
       "justify_content": null,
       "justify_items": null,
       "left": null,
       "margin": null,
       "max_height": null,
       "max_width": null,
       "min_height": null,
       "min_width": null,
       "object_fit": null,
       "object_position": null,
       "order": null,
       "overflow": null,
       "padding": null,
       "right": null,
       "top": null,
       "visibility": null,
       "width": null
      }
     },
     "9d8fb326562843ff8be6a695307f1b15": {
      "model_module": "@jupyter-widgets/base",
      "model_module_version": "2.0.0",
      "model_name": "LayoutModel",
      "state": {
       "_model_module": "@jupyter-widgets/base",
       "_model_module_version": "2.0.0",
       "_model_name": "LayoutModel",
       "_view_count": null,
       "_view_module": "@jupyter-widgets/base",
       "_view_module_version": "2.0.0",
       "_view_name": "LayoutView",
       "align_content": null,
       "align_items": null,
       "align_self": null,
       "border_bottom": null,
       "border_left": null,
       "border_right": null,
       "border_top": null,
       "bottom": null,
       "display": null,
       "flex": null,
       "flex_flow": null,
       "grid_area": null,
       "grid_auto_columns": null,
       "grid_auto_flow": null,
       "grid_auto_rows": null,
       "grid_column": null,
       "grid_gap": null,
       "grid_row": null,
       "grid_template_areas": null,
       "grid_template_columns": null,
       "grid_template_rows": null,
       "height": null,
       "justify_content": null,
       "justify_items": null,
       "left": null,
       "margin": null,
       "max_height": null,
       "max_width": null,
       "min_height": null,
       "min_width": null,
       "object_fit": null,
       "object_position": null,
       "order": null,
       "overflow": null,
       "padding": null,
       "right": null,
       "top": null,
       "visibility": null,
       "width": null
      }
     },
     "d48958c351724515986985848b7fe6dc": {
      "model_module": "@jupyter-widgets/base",
      "model_module_version": "2.0.0",
      "model_name": "LayoutModel",
      "state": {
       "_model_module": "@jupyter-widgets/base",
       "_model_module_version": "2.0.0",
       "_model_name": "LayoutModel",
       "_view_count": null,
       "_view_module": "@jupyter-widgets/base",
       "_view_module_version": "2.0.0",
       "_view_name": "LayoutView",
       "align_content": null,
       "align_items": null,
       "align_self": null,
       "border_bottom": null,
       "border_left": null,
       "border_right": null,
       "border_top": null,
       "bottom": null,
       "display": null,
       "flex": null,
       "flex_flow": null,
       "grid_area": null,
       "grid_auto_columns": null,
       "grid_auto_flow": null,
       "grid_auto_rows": null,
       "grid_column": null,
       "grid_gap": null,
       "grid_row": null,
       "grid_template_areas": null,
       "grid_template_columns": null,
       "grid_template_rows": null,
       "height": null,
       "justify_content": null,
       "justify_items": null,
       "left": null,
       "margin": null,
       "max_height": null,
       "max_width": null,
       "min_height": null,
       "min_width": null,
       "object_fit": null,
       "object_position": null,
       "order": null,
       "overflow": null,
       "padding": null,
       "right": null,
       "top": null,
       "visibility": null,
       "width": null
      }
     },
     "e900bfaacaba4827aee0c42b2ec43506": {
      "model_module": "@jupyter-widgets/controls",
      "model_module_version": "2.0.0",
      "model_name": "HTMLModel",
      "state": {
       "_dom_classes": [],
       "_model_module": "@jupyter-widgets/controls",
       "_model_module_version": "2.0.0",
       "_model_name": "HTMLModel",
       "_view_count": null,
       "_view_module": "@jupyter-widgets/controls",
       "_view_module_version": "2.0.0",
       "_view_name": "HTMLView",
       "description": "",
       "description_allow_html": false,
       "layout": "IPY_MODEL_7d35a8644ec142fd96865fbe65551d2c",
       "placeholder": "​",
       "style": "IPY_MODEL_f45cce3d1dd840f18db3cf01fabc1794",
       "tabbable": null,
       "tooltip": null,
       "value": " 6/6 [00:04&lt;00:00,  1.34it/s]"
      }
     },
     "f45cce3d1dd840f18db3cf01fabc1794": {
      "model_module": "@jupyter-widgets/controls",
      "model_module_version": "2.0.0",
      "model_name": "HTMLStyleModel",
      "state": {
       "_model_module": "@jupyter-widgets/controls",
       "_model_module_version": "2.0.0",
       "_model_name": "HTMLStyleModel",
       "_view_count": null,
       "_view_module": "@jupyter-widgets/base",
       "_view_module_version": "2.0.0",
       "_view_name": "StyleView",
       "background": null,
       "description_width": "",
       "font_size": null,
       "text_color": null
      }
     },
     "f9b5fa7d0af8461098df2a777148bc15": {
      "model_module": "@jupyter-widgets/base",
      "model_module_version": "2.0.0",
      "model_name": "LayoutModel",
      "state": {
       "_model_module": "@jupyter-widgets/base",
       "_model_module_version": "2.0.0",
       "_model_name": "LayoutModel",
       "_view_count": null,
       "_view_module": "@jupyter-widgets/base",
       "_view_module_version": "2.0.0",
       "_view_name": "LayoutView",
       "align_content": null,
       "align_items": null,
       "align_self": null,
       "border_bottom": null,
       "border_left": null,
       "border_right": null,
       "border_top": null,
       "bottom": null,
       "display": null,
       "flex": null,
       "flex_flow": null,
       "grid_area": null,
       "grid_auto_columns": null,
       "grid_auto_flow": null,
       "grid_auto_rows": null,
       "grid_column": null,
       "grid_gap": null,
       "grid_row": null,
       "grid_template_areas": null,
       "grid_template_columns": null,
       "grid_template_rows": null,
       "height": null,
       "justify_content": null,
       "justify_items": null,
       "left": null,
       "margin": null,
       "max_height": null,
       "max_width": null,
       "min_height": null,
       "min_width": null,
       "object_fit": null,
       "object_position": null,
       "order": null,
       "overflow": null,
       "padding": null,
       "right": null,
       "top": null,
       "visibility": null,
       "width": null
      }
     },
     "fc8d03899f9e4c1395f0f8b10c54f157": {
      "model_module": "@jupyter-widgets/controls",
      "model_module_version": "2.0.0",
      "model_name": "HTMLModel",
      "state": {
       "_dom_classes": [],
       "_model_module": "@jupyter-widgets/controls",
       "_model_module_version": "2.0.0",
       "_model_name": "HTMLModel",
       "_view_count": null,
       "_view_module": "@jupyter-widgets/controls",
       "_view_module_version": "2.0.0",
       "_view_name": "HTMLView",
       "description": "",
       "description_allow_html": false,
       "layout": "IPY_MODEL_d48958c351724515986985848b7fe6dc",
       "placeholder": "​",
       "style": "IPY_MODEL_19e2d000c29e455d955bd7fcd7469cea",
       "tabbable": null,
       "tooltip": null,
       "value": "loss:     0.5300 | loss_without_regu:     0.5300 | model0_train_mse:     0.5300 | train_loss:     0.5300 | : 100%"
      }
     }
    },
    "version_major": 2,
    "version_minor": 0
   }
  }
 },
 "nbformat": 4,
 "nbformat_minor": 2
}
