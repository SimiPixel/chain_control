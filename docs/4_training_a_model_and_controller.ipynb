{
 "cells": [
  {
   "cell_type": "code",
   "execution_count": 1,
   "metadata": {
    "execution": {
     "iopub.execute_input": "2023-09-06T08:20:13.660140Z",
     "iopub.status.busy": "2023-09-06T08:20:13.659649Z",
     "iopub.status.idle": "2023-09-06T08:20:14.496610Z",
     "shell.execute_reply": "2023-09-06T08:20:14.496126Z"
    }
   },
   "outputs": [],
   "source": [
    "from cc.env import make_env\n",
    "from cc.examples.neural_ode_model_compact_example import make_neural_ode_model\n",
    "from cc.train import (\n",
    "    ModelControllerTrainer, \n",
    "    Tracker, make_dataloader, \n",
    "    UnsupervisedDataset\n",
    ")\n",
    "import jax.random as jrand\n",
    "import optax\n",
    "import jax.numpy as jnp\n",
    "import equinox as eqx"
   ]
  },
  {
   "cell_type": "code",
   "execution_count": 2,
   "metadata": {
    "execution": {
     "iopub.execute_input": "2023-09-06T08:20:14.498476Z",
     "iopub.status.busy": "2023-09-06T08:20:14.498313Z",
     "iopub.status.idle": "2023-09-06T08:20:14.553151Z",
     "shell.execute_reply": "2023-09-06T08:20:14.552812Z"
    }
   },
   "outputs": [],
   "source": [
    "time_limit = 10.0\n",
    "control_timestep = 0.01\n",
    "\n",
    "env = make_env(\"two_segments_v1\", time_limit=time_limit, control_timestep=control_timestep, random=1)"
   ]
  },
  {
   "cell_type": "code",
   "execution_count": 3,
   "metadata": {
    "execution": {
     "iopub.execute_input": "2023-09-06T08:20:14.554698Z",
     "iopub.status.busy": "2023-09-06T08:20:14.554612Z",
     "iopub.status.idle": "2023-09-06T08:20:14.810900Z",
     "shell.execute_reply": "2023-09-06T08:20:14.810499Z"
    }
   },
   "outputs": [],
   "source": [
    "# make sure this definition matches exactly (!) the\n",
    "# definition as it was used in notebook 3\n",
    "model = make_neural_ode_model(\n",
    "    env.action_spec(),\n",
    "    env.observation_spec(),\n",
    "    env.control_timestep(),\n",
    "    state_dim=50,\n",
    "    f_depth=0, \n",
    "    u_transform=jnp.arctan\n",
    ")"
   ]
  },
  {
   "cell_type": "code",
   "execution_count": 4,
   "metadata": {
    "execution": {
     "iopub.execute_input": "2023-09-06T08:20:14.812626Z",
     "iopub.status.busy": "2023-09-06T08:20:14.812512Z",
     "iopub.status.idle": "2023-09-06T08:20:14.816136Z",
     "shell.execute_reply": "2023-09-06T08:20:14.815864Z"
    }
   },
   "outputs": [],
   "source": [
    "# trained in notebook 3\n",
    "fitted_model = eqx.tree_deserialise_leaves(\"model.eqx\", model)"
   ]
  },
  {
   "cell_type": "markdown",
   "metadata": {},
   "source": [
    "# Training a controller"
   ]
  },
  {
   "cell_type": "code",
   "execution_count": 5,
   "metadata": {
    "execution": {
     "iopub.execute_input": "2023-09-06T08:20:14.817616Z",
     "iopub.status.busy": "2023-09-06T08:20:14.817531Z",
     "iopub.status.idle": "2023-09-06T08:20:15.027940Z",
     "shell.execute_reply": "2023-09-06T08:20:15.027619Z"
    }
   },
   "outputs": [],
   "source": [
    "from cc.train import TrainingOptionsController\n",
    "from cc.examples.neural_ode_controller_compact_example import make_neural_ode_controller\n",
    "from cc.env.collect import random_steps_source\n",
    "from cc.env.wrappers import AddRefSignalRewardFnWrapper\n",
    "\n",
    "source = random_steps_source(env, seeds=list(range(30)))\n",
    "env_w_source = AddRefSignalRewardFnWrapper(env, source)"
   ]
  },
  {
   "cell_type": "code",
   "execution_count": 6,
   "metadata": {
    "execution": {
     "iopub.execute_input": "2023-09-06T08:20:15.029693Z",
     "iopub.status.busy": "2023-09-06T08:20:15.029567Z",
     "iopub.status.idle": "2023-09-06T08:20:15.191176Z",
     "shell.execute_reply": "2023-09-06T08:20:15.190735Z"
    }
   },
   "outputs": [],
   "source": [
    "controller = make_neural_ode_controller(\n",
    "    env_w_source.observation_spec(),\n",
    "    env.action_spec(),\n",
    "    env.control_timestep(),\n",
    "    5,\n",
    "    f_depth=0\n",
    ")"
   ]
  },
  {
   "cell_type": "code",
   "execution_count": 7,
   "metadata": {
    "execution": {
     "iopub.execute_input": "2023-09-06T08:20:15.192958Z",
     "iopub.status.busy": "2023-09-06T08:20:15.192850Z",
     "iopub.status.idle": "2023-09-06T08:20:15.378671Z",
     "shell.execute_reply": "2023-09-06T08:20:15.378379Z"
    }
   },
   "outputs": [
    {
     "name": "stdout",
     "output_type": "stream",
     "text": [
      "This model has been registered with model name `model0`.\n",
      "                    When using multiple models individual model names have to\n",
      "                    be provided by passing a dictionary in the `model` argument\n"
     ]
    }
   ],
   "source": [
    "controller_dataloader = make_dataloader(\n",
    "    UnsupervisedDataset(source.get_references_for_optimisation()),\n",
    "    jrand.PRNGKey(1,),\n",
    "    n_minibatches=5\n",
    ")\n",
    "\n",
    "optimizer = optax.chain(optax.clip_by_global_norm(1.0), optax.adam(1e-3))\n",
    "\n",
    "controller_train_options = TrainingOptionsController(\n",
    "    controller_dataloader, optimizer, \n",
    ")\n",
    "\n",
    "controller_trainer = ModelControllerTrainer(\n",
    "    fitted_model, controller, controller_train_options=controller_train_options, \n",
    "    trackers=[Tracker(\"loss\")]\n",
    ")"
   ]
  },
  {
   "cell_type": "code",
   "execution_count": 8,
   "metadata": {
    "execution": {
     "iopub.execute_input": "2023-09-06T08:20:15.396787Z",
     "iopub.status.busy": "2023-09-06T08:20:15.396656Z",
     "iopub.status.idle": "2023-09-06T08:20:51.020616Z",
     "shell.execute_reply": "2023-09-06T08:20:51.020269Z"
    }
   },
   "outputs": [
    {
     "data": {
      "application/vnd.jupyter.widget-view+json": {
       "model_id": "79f95c4761a0477a989cdb6a392ca8a7",
       "version_major": 2,
       "version_minor": 0
      },
      "text/plain": [
       "  0%|          | 0/500 [00:00<?, ?it/s]"
      ]
     },
     "metadata": {},
     "output_type": "display_data"
    }
   ],
   "source": [
    "controller_trainer.run(500)"
   ]
  },
  {
   "cell_type": "code",
   "execution_count": 9,
   "metadata": {
    "execution": {
     "iopub.execute_input": "2023-09-06T08:20:51.022189Z",
     "iopub.status.busy": "2023-09-06T08:20:51.022066Z",
     "iopub.status.idle": "2023-09-06T08:20:51.024505Z",
     "shell.execute_reply": "2023-09-06T08:20:51.024258Z"
    }
   },
   "outputs": [
    {
     "data": {
      "text/plain": [
       "0.5139398"
      ]
     },
     "execution_count": 9,
     "metadata": {},
     "output_type": "execute_result"
    }
   ],
   "source": [
    "fitted_controller = controller_trainer.trackers[0].best_model_or_controller()\n",
    "controller_trainer.trackers[0].best_metric()"
   ]
  },
  {
   "cell_type": "code",
   "execution_count": 10,
   "metadata": {
    "execution": {
     "iopub.execute_input": "2023-09-06T08:20:51.025952Z",
     "iopub.status.busy": "2023-09-06T08:20:51.025841Z",
     "iopub.status.idle": "2023-09-06T08:20:55.119645Z",
     "shell.execute_reply": "2023-09-06T08:20:55.119335Z"
    }
   },
   "outputs": [
    {
     "data": {
      "application/vnd.jupyter.widget-view+json": {
       "model_id": "b3fc2be91b9644a2924591bfbc774570",
       "version_major": 2,
       "version_minor": 0
      },
      "text/plain": [
       "Reference Iterator:   0%|          | 0/6 [00:00<?, ?it/s]"
      ]
     },
     "metadata": {},
     "output_type": "display_data"
    }
   ],
   "source": [
    "from cc.env.collect import collect_exhaust_source\n",
    "\n",
    "eval_source = random_steps_source(env, seeds=list(range(6)))\n",
    "# returns a tuple\n",
    "controller_performance_sample, loop_results = collect_exhaust_source(\n",
    "    AddRefSignalRewardFnWrapper(env, eval_source), fitted_controller)"
   ]
  },
  {
   "cell_type": "code",
   "execution_count": 11,
   "metadata": {
    "execution": {
     "iopub.execute_input": "2023-09-06T08:20:55.121194Z",
     "iopub.status.busy": "2023-09-06T08:20:55.121092Z",
     "iopub.status.idle": "2023-09-06T08:20:55.123793Z",
     "shell.execute_reply": "2023-09-06T08:20:55.123522Z"
    }
   },
   "outputs": [
    {
     "data": {
      "text/plain": [
       "{'env_reset_duration_sec': array([0.00014329, 0.00018096, 0.00017524, 0.00018311, 0.00015998,\n",
       "        0.00015688]),\n",
       " 'env_step_duration_sec': array([0.00028044, 0.00025664, 0.0002561 , 0.00026056, 0.00025879,\n",
       "        0.00025707]),\n",
       " 'episode_length': array([1000, 1000, 1000, 1000, 1000, 1000]),\n",
       " 'episode_return': array([ -617.9749  , -1526.7662  ,   -82.84989 ,   -27.948112,\n",
       "        -1369.8357  ,   -15.893623], dtype=float32),\n",
       " 'episodes': array([1, 1, 1, 1, 1, 1]),\n",
       " 'select_action_duration_sec': array([0.00041667, 0.00037627, 0.0003756 , 0.00041903, 0.00037977,\n",
       "        0.0003775 ]),\n",
       " 'steps': array([1000, 1000, 1000, 1000, 1000, 1000]),\n",
       " 'steps_per_second': array([1400.82921476, 1550.924238  , 1553.64156968, 1445.77180315,\n",
       "        1536.9955198 , 1546.85745897])}"
      ]
     },
     "execution_count": 11,
     "metadata": {},
     "output_type": "execute_result"
    }
   ],
   "source": [
    "# some metadata\n",
    "# you can use the concept of `loop_observers` to record\n",
    "# every physical quantity you could think of \n",
    "# e.g. angle trajectories or linear accelerations\n",
    "loop_results"
   ]
  },
  {
   "cell_type": "code",
   "execution_count": 12,
   "metadata": {
    "execution": {
     "iopub.execute_input": "2023-09-06T08:20:55.125218Z",
     "iopub.status.busy": "2023-09-06T08:20:55.125120Z",
     "iopub.status.idle": "2023-09-06T08:20:55.138606Z",
     "shell.execute_reply": "2023-09-06T08:20:55.138342Z"
    }
   },
   "outputs": [
    {
     "data": {
      "text/plain": [
       "Array(0.6068785, dtype=float32)"
      ]
     },
     "execution_count": 12,
     "metadata": {},
     "output_type": "execute_result"
    }
   ],
   "source": [
    "jnp.mean(-controller_performance_sample.rew)"
   ]
  },
  {
   "cell_type": "code",
   "execution_count": 13,
   "metadata": {
    "execution": {
     "iopub.execute_input": "2023-09-06T08:20:55.139983Z",
     "iopub.status.busy": "2023-09-06T08:20:55.139899Z",
     "iopub.status.idle": "2023-09-06T08:20:55.291606Z",
     "shell.execute_reply": "2023-09-06T08:20:55.291286Z"
    }
   },
   "outputs": [],
   "source": [
    "%matplotlib inline"
   ]
  },
  {
   "cell_type": "code",
   "execution_count": 14,
   "metadata": {
    "execution": {
     "iopub.execute_input": "2023-09-06T08:20:55.293293Z",
     "iopub.status.busy": "2023-09-06T08:20:55.293174Z",
     "iopub.status.idle": "2023-09-06T08:20:55.479908Z",
     "shell.execute_reply": "2023-09-06T08:20:55.468762Z"
    }
   },
   "outputs": [
    {
     "data": {
      "text/plain": [
       "<matplotlib.legend.Legend at 0x2b79a4040>"
      ]
     },
     "execution_count": 14,
     "metadata": {},
     "output_type": "execute_result"
    },
    {
     "data": {
      "image/png": "[encoded data removed]",
      "text/plain": [
       "<Figure size 640x480 with 1 Axes>"
      ]
     },
     "metadata": {},
     "output_type": "display_data"
    }
   ],
   "source": [
    "import matplotlib.pyplot as plt \n",
    "\n",
    "i = 5\n",
    "plt.plot(controller_performance_sample.obs[\"obs\"][\"xpos_of_segment_end\"][i])\n",
    "plt.plot(controller_performance_sample.obs[\"ref\"][\"xpos_of_segment_end\"][i], label=\"reference\")\n",
    "plt.legend()\n"
   ]
  },
  {
   "cell_type": "code",
   "execution_count": null,
   "metadata": {},
   "outputs": [],
   "source": []
  }
 ],
 "metadata": {
  "kernelspec": {
   "display_name": "chain_control_git_acme",
   "language": "python",
   "name": "python3"
  },
  "language_info": {
   "codemirror_mode": {
    "name": "ipython",
    "version": 3
   },
   "file_extension": ".py",
   "mimetype": "text/x-python",
   "name": "python",
   "nbconvert_exporter": "python",
   "pygments_lexer": "ipython3",
   "version": "3.10.12"
  },
  "vscode": {
   "interpreter": {
    "hash": "5b2253a7523a95ed3902114f0f706ff75350c1390ed2b5722c967a5fcb81421d"
   }
  },
  "widgets": {
   "application/vnd.jupyter.widget-state+json": {
    "state": {
     "009f401a227e4d9789202579d5af5a47": {
      "model_module": "@jupyter-widgets/controls",
      "model_module_version": "2.0.0",
      "model_name": "HTMLModel",
      "state": {
       "_dom_classes": [],
       "_model_module": "@jupyter-widgets/controls",
       "_model_module_version": "2.0.0",
       "_model_name": "HTMLModel",
       "_view_count": null,
       "_view_module": "@jupyter-widgets/controls",
       "_view_module_version": "2.0.0",
       "_view_name": "HTMLView",
       "description": "",
       "description_allow_html": false,
       "layout": "IPY_MODEL_48891a6b36eb4dbbad9f0b0534af28cb",
       "placeholder": "​",
       "style": "IPY_MODEL_dda7a662e7c54ddda2155d52f8d2996c",
       "tabbable": null,
       "tooltip": null,
       "value": " 500/500 [00:35&lt;00:00, 16.18it/s]"
      }
     },
     "22dd130e1bea40c6918956d4748bf1e3": {
      "model_module": "@jupyter-widgets/controls",
      "model_module_version": "2.0.0",
      "model_name": "HTMLModel",
      "state": {
       "_dom_classes": [],
       "_model_module": "@jupyter-widgets/controls",
       "_model_module_version": "2.0.0",
       "_model_name": "HTMLModel",
       "_view_count": null,
       "_view_module": "@jupyter-widgets/controls",
       "_view_module_version": "2.0.0",
       "_view_name": "HTMLView",
       "description": "",
       "description_allow_html": false,
       "layout": "IPY_MODEL_9ab51a5dac7442b189fc91c87028d512",
       "placeholder": "​",
       "style": "IPY_MODEL_a451fe01e7af4d35ad4616dd8d80d7a9",
       "tabbable": null,
       "tooltip": null,
       "value": "loss: 0.51742119 | loss_without_regu: 0.51742119 | model0_train_mse: 0.51742119 | train_loss: 0.51742119 | : 100%"
      }
     },
     "32583632325e4b1d8f0c3a9bcd654425": {
      "model_module": "@jupyter-widgets/base",
      "model_module_version": "2.0.0",
      "model_name": "LayoutModel",
      "state": {
       "_model_module": "@jupyter-widgets/base",
       "_model_module_version": "2.0.0",
       "_model_name": "LayoutModel",
       "_view_count": null,
       "_view_module": "@jupyter-widgets/base",
       "_view_module_version": "2.0.0",
       "_view_name": "LayoutView",
       "align_content": null,
       "align_items": null,
       "align_self": null,
       "border_bottom": null,
       "border_left": null,
       "border_right": null,
       "border_top": null,
       "bottom": null,
       "display": null,
       "flex": null,
       "flex_flow": null,
       "grid_area": null,
       "grid_auto_columns": null,
       "grid_auto_flow": null,
       "grid_auto_rows": null,
       "grid_column": null,
       "grid_gap": null,
       "grid_row": null,
       "grid_template_areas": null,
       "grid_template_columns": null,
       "grid_template_rows": null,
       "height": null,
       "justify_content": null,
       "justify_items": null,
       "left": null,
       "margin": null,
       "max_height": null,
       "max_width": null,
       "min_height": null,
       "min_width": null,
       "object_fit": null,
       "object_position": null,
       "order": null,
       "overflow": null,
       "padding": null,
       "right": null,
       "top": null,
       "visibility": null,
       "width": null
      }
     },
     "370be70b3e7e4c1a976ac0028e9f95fe": {
      "model_module": "@jupyter-widgets/controls",
      "model_module_version": "2.0.0",
      "model_name": "FloatProgressModel",
      "state": {
       "_dom_classes": [],
       "_model_module": "@jupyter-widgets/controls",
       "_model_module_version": "2.0.0",
       "_model_name": "FloatProgressModel",
       "_view_count": null,
       "_view_module": "@jupyter-widgets/controls",
       "_view_module_version": "2.0.0",
       "_view_name": "ProgressView",
       "bar_style": "success",
       "description": "",
       "description_allow_html": false,
       "layout": "IPY_MODEL_52f04d301b054e21afa7dd5bbb12c018",
       "max": 6.0,
       "min": 0.0,
       "orientation": "horizontal",
       "style": "IPY_MODEL_b438d33b525942e395e45fe5081155e8",
       "tabbable": null,
       "tooltip": null,
       "value": 6.0
      }
     },
     "434eb3e43b8a4d9a89e4394c52b518f0": {
      "model_module": "@jupyter-widgets/controls",
      "model_module_version": "2.0.0",
      "model_name": "HTMLModel",
      "state": {
       "_dom_classes": [],
       "_model_module": "@jupyter-widgets/controls",
       "_model_module_version": "2.0.0",
       "_model_name": "HTMLModel",
       "_view_count": null,
       "_view_module": "@jupyter-widgets/controls",
       "_view_module_version": "2.0.0",
       "_view_name": "HTMLView",
       "description": "",
       "description_allow_html": false,
       "layout": "IPY_MODEL_92d212ffbaaf4dacabc5c1e313d47979",
       "placeholder": "​",
       "style": "IPY_MODEL_7bd8074db21341d6bc2b1d3e27361df3",
       "tabbable": null,
       "tooltip": null,
       "value": " 6/6 [00:04&lt;00:00,  1.49it/s]"
      }
     },
     "48891a6b36eb4dbbad9f0b0534af28cb": {
      "model_module": "@jupyter-widgets/base",
      "model_module_version": "2.0.0",
      "model_name": "LayoutModel",
      "state": {
       "_model_module": "@jupyter-widgets/base",
       "_model_module_version": "2.0.0",
       "_model_name": "LayoutModel",
       "_view_count": null,
       "_view_module": "@jupyter-widgets/base",
       "_view_module_version": "2.0.0",
       "_view_name": "LayoutView",
       "align_content": null,
       "align_items": null,
       "align_self": null,
       "border_bottom": null,
       "border_left": null,
       "border_right": null,
       "border_top": null,
       "bottom": null,
       "display": null,
       "flex": null,
       "flex_flow": null,
       "grid_area": null,
       "grid_auto_columns": null,
       "grid_auto_flow": null,
       "grid_auto_rows": null,
       "grid_column": null,
       "grid_gap": null,
       "grid_row": null,
       "grid_template_areas": null,
       "grid_template_columns": null,
       "grid_template_rows": null,
       "height": null,
       "justify_content": null,
       "justify_items": null,
       "left": null,
       "margin": null,
       "max_height": null,
       "max_width": null,
       "min_height": null,
       "min_width": null,
       "object_fit": null,
       "object_position": null,
       "order": null,
       "overflow": null,
       "padding": null,
       "right": null,
       "top": null,
       "visibility": null,
       "width": null
      }
     },
     "52f04d301b054e21afa7dd5bbb12c018": {
      "model_module": "@jupyter-widgets/base",
      "model_module_version": "2.0.0",
      "model_name": "LayoutModel",
      "state": {
       "_model_module": "@jupyter-widgets/base",
       "_model_module_version": "2.0.0",
       "_model_name": "LayoutModel",
       "_view_count": null,
       "_view_module": "@jupyter-widgets/base",
       "_view_module_version": "2.0.0",
       "_view_name": "LayoutView",
       "align_content": null,
       "align_items": null,
       "align_self": null,
       "border_bottom": null,
       "border_left": null,
       "border_right": null,
       "border_top": null,
       "bottom": null,
       "display": null,
       "flex": null,
       "flex_flow": null,
       "grid_area": null,
       "grid_auto_columns": null,
       "grid_auto_flow": null,
       "grid_auto_rows": null,
       "grid_column": null,
       "grid_gap": null,
       "grid_row": null,
       "grid_template_areas": null,
       "grid_template_columns": null,
       "grid_template_rows": null,
       "height": null,
       "justify_content": null,
       "justify_items": null,
       "left": null,
       "margin": null,
       "max_height": null,
       "max_width": null,
       "min_height": null,
       "min_width": null,
       "object_fit": null,
       "object_position": null,
       "order": null,
       "overflow": null,
       "padding": null,
       "right": null,
       "top": null,
       "visibility": null,
       "width": null
      }
     },
     "60339079d9dc4ff681de00f2afeabbec": {
      "model_module": "@jupyter-widgets/controls",
      "model_module_version": "2.0.0",
      "model_name": "ProgressStyleModel",
      "state": {
       "_model_module": "@jupyter-widgets/controls",
       "_model_module_version": "2.0.0",
       "_model_name": "ProgressStyleModel",
       "_view_count": null,
       "_view_module": "@jupyter-widgets/base",
       "_view_module_version": "2.0.0",
       "_view_name": "StyleView",
       "bar_color": null,
       "description_width": ""
      }
     },
     "79f95c4761a0477a989cdb6a392ca8a7": {
      "model_module": "@jupyter-widgets/controls",
      "model_module_version": "2.0.0",
      "model_name": "HBoxModel",
      "state": {
       "_dom_classes": [],
       "_model_module": "@jupyter-widgets/controls",
       "_model_module_version": "2.0.0",
       "_model_name": "HBoxModel",
       "_view_count": null,
       "_view_module": "@jupyter-widgets/controls",
       "_view_module_version": "2.0.0",
       "_view_name": "HBoxView",
       "box_style": "",
       "children": [
        "IPY_MODEL_22dd130e1bea40c6918956d4748bf1e3",
        "IPY_MODEL_e35dceb8c3b34db394e5ab745e93d2a2",
        "IPY_MODEL_009f401a227e4d9789202579d5af5a47"
       ],
       "layout": "IPY_MODEL_e25c84ccf29142eb8fa0e29a91e08312",
       "tabbable": null,
       "tooltip": null
      }
     },
     "7bd8074db21341d6bc2b1d3e27361df3": {
      "model_module": "@jupyter-widgets/controls",
      "model_module_version": "2.0.0",
      "model_name": "HTMLStyleModel",
      "state": {
       "_model_module": "@jupyter-widgets/controls",
       "_model_module_version": "2.0.0",
       "_model_name": "HTMLStyleModel",
       "_view_count": null,
       "_view_module": "@jupyter-widgets/base",
       "_view_module_version": "2.0.0",
       "_view_name": "StyleView",
       "background": null,
       "description_width": "",
       "font_size": null,
       "text_color": null
      }
     },
     "817559d2f6f147598800e9c793087fd1": {
      "model_module": "@jupyter-widgets/base",
      "model_module_version": "2.0.0",
      "model_name": "LayoutModel",
      "state": {
       "_model_module": "@jupyter-widgets/base",
       "_model_module_version": "2.0.0",
       "_model_name": "LayoutModel",
       "_view_count": null,
       "_view_module": "@jupyter-widgets/base",
       "_view_module_version": "2.0.0",
       "_view_name": "LayoutView",
       "align_content": null,
       "align_items": null,
       "align_self": null,
       "border_bottom": null,
       "border_left": null,
       "border_right": null,
       "border_top": null,
       "bottom": null,
       "display": null,
       "flex": null,
       "flex_flow": null,
       "grid_area": null,
       "grid_auto_columns": null,
       "grid_auto_flow": null,
       "grid_auto_rows": null,
       "grid_column": null,
       "grid_gap": null,
       "grid_row": null,
       "grid_template_areas": null,
       "grid_template_columns": null,
       "grid_template_rows": null,
       "height": null,
       "justify_content": null,
       "justify_items": null,
       "left": null,
       "margin": null,
       "max_height": null,
       "max_width": null,
       "min_height": null,
       "min_width": null,
       "object_fit": null,
       "object_position": null,
       "order": null,
       "overflow": null,
       "padding": null,
       "right": null,
       "top": null,
       "visibility": null,
       "width": null
      }
     },
     "92938ea9bc12407283a2b26fdbd00c2c": {
      "model_module": "@jupyter-widgets/base",
      "model_module_version": "2.0.0",
      "model_name": "LayoutModel",
      "state": {
       "_model_module": "@jupyter-widgets/base",
       "_model_module_version": "2.0.0",
       "_model_name": "LayoutModel",
       "_view_count": null,
       "_view_module": "@jupyter-widgets/base",
       "_view_module_version": "2.0.0",
       "_view_name": "LayoutView",
       "align_content": null,
       "align_items": null,
       "align_self": null,
       "border_bottom": null,
       "border_left": null,
       "border_right": null,
       "border_top": null,
       "bottom": null,
       "display": null,
       "flex": null,
       "flex_flow": null,
       "grid_area": null,
       "grid_auto_columns": null,
       "grid_auto_flow": null,
       "grid_auto_rows": null,
       "grid_column": null,
       "grid_gap": null,
       "grid_row": null,
       "grid_template_areas": null,
       "grid_template_columns": null,
       "grid_template_rows": null,
       "height": null,
       "justify_content": null,
       "justify_items": null,
       "left": null,
       "margin": null,
       "max_height": null,
       "max_width": null,
       "min_height": null,
       "min_width": null,
       "object_fit": null,
       "object_position": null,
       "order": null,
       "overflow": null,
       "padding": null,
       "right": null,
       "top": null,
       "visibility": null,
       "width": null
      }
     },
     "92d212ffbaaf4dacabc5c1e313d47979": {
      "model_module": "@jupyter-widgets/base",
      "model_module_version": "2.0.0",
      "model_name": "LayoutModel",
      "state": {
       "_model_module": "@jupyter-widgets/base",
       "_model_module_version": "2.0.0",
       "_model_name": "LayoutModel",
       "_view_count": null,
       "_view_module": "@jupyter-widgets/base",
       "_view_module_version": "2.0.0",
       "_view_name": "LayoutView",
       "align_content": null,
       "align_items": null,
       "align_self": null,
       "border_bottom": null,
       "border_left": null,
       "border_right": null,
       "border_top": null,
       "bottom": null,
       "display": null,
       "flex": null,
       "flex_flow": null,
       "grid_area": null,
       "grid_auto_columns": null,
       "grid_auto_flow": null,
       "grid_auto_rows": null,
       "grid_column": null,
       "grid_gap": null,
       "grid_row": null,
       "grid_template_areas": null,
       "grid_template_columns": null,
       "grid_template_rows": null,
       "height": null,
       "justify_content": null,
       "justify_items": null,
       "left": null,
       "margin": null,
       "max_height": null,
       "max_width": null,
       "min_height": null,
       "min_width": null,
       "object_fit": null,
       "object_position": null,
       "order": null,
       "overflow": null,
       "padding": null,
       "right": null,
       "top": null,
       "visibility": null,
       "width": null
      }
     },
     "9ab51a5dac7442b189fc91c87028d512": {
      "model_module": "@jupyter-widgets/base",
      "model_module_version": "2.0.0",
      "model_name": "LayoutModel",
      "state": {
       "_model_module": "@jupyter-widgets/base",
       "_model_module_version": "2.0.0",
       "_model_name": "LayoutModel",
       "_view_count": null,
       "_view_module": "@jupyter-widgets/base",
       "_view_module_version": "2.0.0",
       "_view_name": "LayoutView",
       "align_content": null,
       "align_items": null,
       "align_self": null,
       "border_bottom": null,
       "border_left": null,
       "border_right": null,
       "border_top": null,
       "bottom": null,
       "display": null,
       "flex": null,
       "flex_flow": null,
       "grid_area": null,
       "grid_auto_columns": null,
       "grid_auto_flow": null,
       "grid_auto_rows": null,
       "grid_column": null,
       "grid_gap": null,
       "grid_row": null,
       "grid_template_areas": null,
       "grid_template_columns": null,
       "grid_template_rows": null,
       "height": null,
       "justify_content": null,
       "justify_items": null,
       "left": null,
       "margin": null,
       "max_height": null,
       "max_width": null,
       "min_height": null,
       "min_width": null,
       "object_fit": null,
       "object_position": null,
       "order": null,
       "overflow": null,
       "padding": null,
       "right": null,
       "top": null,
       "visibility": null,
       "width": null
      }
     },
     "a451fe01e7af4d35ad4616dd8d80d7a9": {
      "model_module": "@jupyter-widgets/controls",
      "model_module_version": "2.0.0",
      "model_name": "HTMLStyleModel",
      "state": {
       "_model_module": "@jupyter-widgets/controls",
       "_model_module_version": "2.0.0",
       "_model_name": "HTMLStyleModel",
       "_view_count": null,
       "_view_module": "@jupyter-widgets/base",
       "_view_module_version": "2.0.0",
       "_view_name": "StyleView",
       "background": null,
       "description_width": "",
       "font_size": null,
       "text_color": null
      }
     },
     "b3fc2be91b9644a2924591bfbc774570": {
      "model_module": "@jupyter-widgets/controls",
      "model_module_version": "2.0.0",
      "model_name": "HBoxModel",
      "state": {
       "_dom_classes": [],
       "_model_module": "@jupyter-widgets/controls",
       "_model_module_version": "2.0.0",
       "_model_name": "HBoxModel",
       "_view_count": null,
       "_view_module": "@jupyter-widgets/controls",
       "_view_module_version": "2.0.0",
       "_view_name": "HBoxView",
       "box_style": "",
       "children": [
        "IPY_MODEL_df671222aef34ecc97f1a530c3247d30",
        "IPY_MODEL_370be70b3e7e4c1a976ac0028e9f95fe",
        "IPY_MODEL_434eb3e43b8a4d9a89e4394c52b518f0"
       ],
       "layout": "IPY_MODEL_32583632325e4b1d8f0c3a9bcd654425",
       "tabbable": null,
       "tooltip": null
      }
     },
     "b438d33b525942e395e45fe5081155e8": {
      "model_module": "@jupyter-widgets/controls",
      "model_module_version": "2.0.0",
      "model_name": "ProgressStyleModel",
      "state": {
       "_model_module": "@jupyter-widgets/controls",
       "_model_module_version": "2.0.0",
       "_model_name": "ProgressStyleModel",
       "_view_count": null,
       "_view_module": "@jupyter-widgets/base",
       "_view_module_version": "2.0.0",
       "_view_name": "StyleView",
       "bar_color": null,
       "description_width": ""
      }
     },
     "dda7a662e7c54ddda2155d52f8d2996c": {
      "model_module": "@jupyter-widgets/controls",
      "model_module_version": "2.0.0",
      "model_name": "HTMLStyleModel",
      "state": {
       "_model_module": "@jupyter-widgets/controls",
       "_model_module_version": "2.0.0",
       "_model_name": "HTMLStyleModel",
       "_view_count": null,
       "_view_module": "@jupyter-widgets/base",
       "_view_module_version": "2.0.0",
       "_view_name": "StyleView",
       "background": null,
       "description_width": "",
       "font_size": null,
       "text_color": null
      }
     },
     "df671222aef34ecc97f1a530c3247d30": {
      "model_module": "@jupyter-widgets/controls",
      "model_module_version": "2.0.0",
      "model_name": "HTMLModel",
      "state": {
       "_dom_classes": [],
       "_model_module": "@jupyter-widgets/controls",
       "_model_module_version": "2.0.0",
       "_model_name": "HTMLModel",
       "_view_count": null,
       "_view_module": "@jupyter-widgets/controls",
       "_view_module_version": "2.0.0",
       "_view_name": "HTMLView",
       "description": "",
       "description_allow_html": false,
       "layout": "IPY_MODEL_92938ea9bc12407283a2b26fdbd00c2c",
       "placeholder": "​",
       "style": "IPY_MODEL_ee945102fc3c48abb475cd379e2bb488",
       "tabbable": null,
       "tooltip": null,
       "value": "Reference Iterator: 100%"
      }
     },
     "e25c84ccf29142eb8fa0e29a91e08312": {
      "model_module": "@jupyter-widgets/base",
      "model_module_version": "2.0.0",
      "model_name": "LayoutModel",
      "state": {
       "_model_module": "@jupyter-widgets/base",
       "_model_module_version": "2.0.0",
       "_model_name": "LayoutModel",
       "_view_count": null,
       "_view_module": "@jupyter-widgets/base",
       "_view_module_version": "2.0.0",
       "_view_name": "LayoutView",
       "align_content": null,
       "align_items": null,
       "align_self": null,
       "border_bottom": null,
       "border_left": null,
       "border_right": null,
       "border_top": null,
       "bottom": null,
       "display": null,
       "flex": null,
       "flex_flow": null,
       "grid_area": null,
       "grid_auto_columns": null,
       "grid_auto_flow": null,
       "grid_auto_rows": null,
       "grid_column": null,
       "grid_gap": null,
       "grid_row": null,
       "grid_template_areas": null,
       "grid_template_columns": null,
       "grid_template_rows": null,
       "height": null,
       "justify_content": null,
       "justify_items": null,
       "left": null,
       "margin": null,
       "max_height": null,
       "max_width": null,
       "min_height": null,
       "min_width": null,
       "object_fit": null,
       "object_position": null,
       "order": null,
       "overflow": null,
       "padding": null,
       "right": null,
       "top": null,
       "visibility": null,
       "width": null
      }
     },
     "e35dceb8c3b34db394e5ab745e93d2a2": {
      "model_module": "@jupyter-widgets/controls",
      "model_module_version": "2.0.0",
      "model_name": "FloatProgressModel",
      "state": {
       "_dom_classes": [],
       "_model_module": "@jupyter-widgets/controls",
       "_model_module_version": "2.0.0",
       "_model_name": "FloatProgressModel",
       "_view_count": null,
       "_view_module": "@jupyter-widgets/controls",
       "_view_module_version": "2.0.0",
       "_view_name": "ProgressView",
       "bar_style": "success",
       "description": "",
       "description_allow_html": false,
       "layout": "IPY_MODEL_817559d2f6f147598800e9c793087fd1",
       "max": 500.0,
       "min": 0.0,
       "orientation": "horizontal",
       "style": "IPY_MODEL_60339079d9dc4ff681de00f2afeabbec",
       "tabbable": null,
       "tooltip": null,
       "value": 500.0
      }
     },
     "ee945102fc3c48abb475cd379e2bb488": {
      "model_module": "@jupyter-widgets/controls",
      "model_module_version": "2.0.0",
      "model_name": "HTMLStyleModel",
      "state": {
       "_model_module": "@jupyter-widgets/controls",
       "_model_module_version": "2.0.0",
       "_model_name": "HTMLStyleModel",
       "_view_count": null,
       "_view_module": "@jupyter-widgets/base",
       "_view_module_version": "2.0.0",
       "_view_name": "StyleView",
       "background": null,
       "description_width": "",
       "font_size": null,
       "text_color": null
      }
     }
    },
    "version_major": 2,
    "version_minor": 0
   }
  }
 },
 "nbformat": 4,
 "nbformat_minor": 2
}
