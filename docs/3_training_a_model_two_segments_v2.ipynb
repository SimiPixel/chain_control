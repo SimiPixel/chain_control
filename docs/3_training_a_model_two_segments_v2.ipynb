{
 "cells": [
  {
   "cell_type": "code",
   "execution_count": 1,
   "metadata": {},
   "outputs": [
    {
     "name": "stderr",
     "output_type": "stream",
     "text": [
      "WARNING:absl:No GPU/TPU found, falling back to CPU. (Set TF_CPP_MIN_LOG_LEVEL=0 and rerun for more info.)\n",
      "/home/simon/miniforge3/envs/chain_control/lib/python3.9/site-packages/tqdm/auto.py:22: TqdmWarning: IProgress not found. Please update jupyter and ipywidgets. See https://ipywidgets.readthedocs.io/en/stable/user_install.html\n",
      "  from .autonotebook import tqdm as notebook_tqdm\n",
      "/home/simon/miniforge3/envs/chain_control/lib/python3.9/site-packages/beartype/_util/hint/pep/utilpeptest.py:345: BeartypeDecorHintPep585DeprecationWarning: PEP 484 type hint typing.Callable deprecated by PEP 585 scheduled for removal in the first Python version released after October 5th, 2025. To resolve this, import this hint from \"beartype.typing\" rather than \"typing\". See this discussion for further details and alternatives:\n",
      "    https://github.com/beartype/beartype#pep-585-deprecations\n",
      "  warn(\n"
     ]
    }
   ],
   "source": [
    "from cc.model import NonlinearModel, NonlinearModelOptions\n",
    "from cc.model.eval_model import eval_model\n",
    "from cc.collect import collect_sample\n",
    "from cc.env import make_env, ModelBasedEnv\n",
    "from cc.train import train_model, TrainingOptionsModel\n",
    "from cc import save, load \n",
    "import jax.random as jrand\n",
    "import optax  "
   ]
  },
  {
   "cell_type": "code",
   "execution_count": 2,
   "metadata": {},
   "outputs": [],
   "source": [
    "time_limit = 10.0\n",
    "control_timestep = 0.01\n",
    "\n",
    "env = make_env(\"two_segments_v2\", time_limit=time_limit, control_timestep=control_timestep, random=1)"
   ]
  },
  {
   "cell_type": "code",
   "execution_count": 13,
   "metadata": {},
   "outputs": [],
   "source": [
    "train_sample = collect_sample(\n",
    "    env,\n",
    "    seeds_gp=[0,1,2,3,4,5,6,7,8,9,10,11,12,13,14],\n",
    "    seeds_cos=[0,1,2,3,4,5,6,7,8,9,10,11,12,13,14]\n",
    ")\n",
    "\n",
    "test_sample = collect_sample(\n",
    "    env, \n",
    "    seeds_gp=[15, 16, 17, 18, 19],\n",
    "    seeds_cos=[2.5, 5.0, 7.5, 1.0, 12.5] # really shouldn't be called seeds, rather frequency\n",
    ")"
   ]
  },
  {
   "cell_type": "code",
   "execution_count": 60,
   "metadata": {},
   "outputs": [],
   "source": [
    "import jax.numpy as jnp "
   ]
  },
  {
   "cell_type": "code",
   "execution_count": 64,
   "metadata": {},
   "outputs": [],
   "source": [
    "options = NonlinearModelOptions(\n",
    "    15, 1, 1, # state-size, input-size, output-size\n",
    "    \"EE\", # integrate-method\n",
    "    jrand.PRNGKey(1,), # seed for parameter init\n",
    "    depth_f=2, # number of layers \n",
    "    width_f=35, # width of layers\n",
    "    depth_g=0,\n",
    "    use_dropout_f=True,\n",
    "    dropout_rate_f=0.2,\n",
    "    reset_key=True,\n",
    "    act_fn_f = jnp.arctan,\n",
    "    act_final_f = jnp.arctan\n",
    ")"
   ]
  },
  {
   "cell_type": "code",
   "execution_count": 65,
   "metadata": {},
   "outputs": [],
   "source": [
    "model = NonlinearModel(options)"
   ]
  },
  {
   "cell_type": "code",
   "execution_count": 66,
   "metadata": {},
   "outputs": [
    {
     "name": "stdout",
     "output_type": "stream",
     "text": [
      "WARNING: Object <class 'cc.model.model.NonlinearModel'> is being traced. \n",
      "                If this message is display continuously then you probably forgot to compile the model or controller. \n",
      "                This can be fixed by calling `*model/controller* = equniox.filter_jit(*model/controller*).\n",
      "                \n"
     ]
    }
   ],
   "source": [
    "import numpy as np\n",
    "\n",
    "\n",
    "action = np.array([0.2])\n",
    "# this returns a new model with an updated internal state\n",
    "# and of course the actual prediction of the observation\n",
    "new_model, predicted_obs = model(action)"
   ]
  },
  {
   "cell_type": "code",
   "execution_count": 67,
   "metadata": {},
   "outputs": [
    {
     "data": {
      "text/plain": [
       "OrderedDict([('xpos_of_segment_end',\n",
       "              DeviceArray([-0.2472117], dtype=float32))])"
      ]
     },
     "execution_count": 67,
     "metadata": {},
     "output_type": "execute_result"
    }
   ],
   "source": [
    "predicted_obs"
   ]
  },
  {
   "cell_type": "code",
   "execution_count": 68,
   "metadata": {},
   "outputs": [
    {
     "data": {
      "text/plain": [
       "cc.model.model.NonlinearModel"
      ]
     },
     "execution_count": 68,
     "metadata": {},
     "output_type": "execute_result"
    }
   ],
   "source": [
    "type(new_model)"
   ]
  },
  {
   "cell_type": "code",
   "execution_count": 69,
   "metadata": {},
   "outputs": [
    {
     "name": "stderr",
     "output_type": "stream",
     "text": [
      "  0%|          | 0/1500 [00:00<?, ?it/s]"
     ]
    },
    {
     "name": "stdout",
     "output_type": "stream",
     "text": [
      "WARNING: Object <class 'cc.model.model.NonlinearModel'> is being traced. \n",
      "                If this message is display continuously then you probably forgot to compile the model or controller. \n",
      "                This can be fixed by calling `*model/controller* = equniox.filter_jit(*model/controller*).\n",
      "                \n",
      "WARNING: Object <class 'cc.model.model.NonlinearModel'> is being traced. \n",
      "                If this message is display continuously then you probably forgot to compile the model or controller. \n",
      "                This can be fixed by calling `*model/controller* = equniox.filter_jit(*model/controller*).\n",
      "                \n",
      "WARNING: Object <class 'cc.model.model.NonlinearModel'> is being traced. \n",
      "                If this message is display continuously then you probably forgot to compile the model or controller. \n",
      "                This can be fixed by calling `*model/controller* = equniox.filter_jit(*model/controller*).\n",
      "                \n",
      "WARNING: Object <class 'cc.model.model.NonlinearModel'> is being traced. \n",
      "                If this message is display continuously then you probably forgot to compile the model or controller. \n",
      "                This can be fixed by calling `*model/controller* = equniox.filter_jit(*model/controller*).\n",
      "                \n"
     ]
    },
    {
     "name": "stderr",
     "output_type": "stream",
     "text": [
      "Trainings-Loss:   228.0504 | Test-Loss:   697.7700 | ParamsRegu:     0.0124:   0%|          | 1/1500 [00:07<3:14:07,  7.77s/it]"
     ]
    },
    {
     "name": "stdout",
     "output_type": "stream",
     "text": [
      "WARNING: Object <class 'cc.model.model.NonlinearModel'> is being traced. \n",
      "                If this message is display continuously then you probably forgot to compile the model or controller. \n",
      "                This can be fixed by calling `*model/controller* = equniox.filter_jit(*model/controller*).\n",
      "                \n",
      "WARNING: Object <class 'cc.model.model.NonlinearModel'> is being traced. \n",
      "                If this message is display continuously then you probably forgot to compile the model or controller. \n",
      "                This can be fixed by calling `*model/controller* = equniox.filter_jit(*model/controller*).\n",
      "                \n",
      "WARNING: Object <class 'cc.model.model.NonlinearModel'> is being traced. \n",
      "                If this message is display continuously then you probably forgot to compile the model or controller. \n",
      "                This can be fixed by calling `*model/controller* = equniox.filter_jit(*model/controller*).\n",
      "                \n",
      "WARNING: Object <class 'cc.model.model.NonlinearModel'> is being traced. \n",
      "                If this message is display continuously then you probably forgot to compile the model or controller. \n",
      "                This can be fixed by calling `*model/controller* = equniox.filter_jit(*model/controller*).\n",
      "                \n"
     ]
    },
    {
     "name": "stderr",
     "output_type": "stream",
     "text": [
      "Trainings-Loss:     0.6096 | Test-Loss:    28.0406 | ParamsRegu:     0.0328: 100%|██████████| 1500/1500 [04:27<00:00,  5.62it/s]\n"
     ]
    }
   ],
   "source": [
    "training_options = TrainingOptionsModel(\n",
    "    jrand.PRNGKey(1,), optax.adam(3e-3), 0.05, 1500, 1, True \n",
    ")\n",
    "\n",
    "# requires ~40 seconds on my PC\n",
    "# achieves a Test-Loss of ~4.2 on v2\n",
    "model, losses = train_model(model, train_sample, training_options=training_options, test_sample=test_sample)"
   ]
  },
  {
   "cell_type": "code",
   "execution_count": 56,
   "metadata": {},
   "outputs": [],
   "source": [
    "model = model.reset()"
   ]
  },
  {
   "cell_type": "code",
   "execution_count": 57,
   "metadata": {},
   "outputs": [
    {
     "name": "stdout",
     "output_type": "stream",
     "text": [
      "WARNING: Object <class 'cc.model.model.NonlinearModel'> is being traced. \n",
      "                If this message is display continuously then you probably forgot to compile the model or controller. \n",
      "                This can be fixed by calling `*model/controller* = equniox.filter_jit(*model/controller*).\n",
      "                \n"
     ]
    }
   ],
   "source": [
    "# small little helper function\n",
    "predicted_observation, test_rmse = eval_model(model, test_sample)"
   ]
  },
  {
   "cell_type": "code",
   "execution_count": 58,
   "metadata": {},
   "outputs": [
    {
     "data": {
      "text/plain": [
       "(10, 1001, 1)"
      ]
     },
     "execution_count": 58,
     "metadata": {},
     "output_type": "execute_result"
    }
   ],
   "source": [
    "predicted_observation[\"xpos_of_segment_end\"].shape"
   ]
  },
  {
   "cell_type": "code",
   "execution_count": 59,
   "metadata": {},
   "outputs": [
    {
     "data": {
      "text/plain": [
       "OrderedDict([('xpos_of_segment_end', DeviceArray(2.787502, dtype=float32))])"
      ]
     },
     "execution_count": 59,
     "metadata": {},
     "output_type": "execute_result"
    }
   ],
   "source": [
    "test_rmse"
   ]
  },
  {
   "cell_type": "markdown",
   "metadata": {},
   "source": [
    "Finally, you can also replace the `Mujoco` physics component in your environment with your model. \n",
    "\n",
    "This creates a new environment that looks exactly the same from outside."
   ]
  },
  {
   "cell_type": "code",
   "execution_count": 53,
   "metadata": {},
   "outputs": [],
   "source": [
    "env_model = ModelBasedEnv(env, model, time_limit=time_limit, control_timestep=control_timestep)"
   ]
  },
  {
   "cell_type": "code",
   "execution_count": 54,
   "metadata": {},
   "outputs": [
    {
     "data": {
      "text/plain": [
       "TimeStep(step_type=<StepType.MID: 1>, reward=array(0.), discount=array(1., dtype=float32), observation=OrderedDict([('xpos_of_segment_end', array([-0.07805266], dtype=float32))]))"
      ]
     },
     "execution_count": 54,
     "metadata": {},
     "output_type": "execute_result"
    }
   ],
   "source": [
    "env_model.step([0.2])"
   ]
  },
  {
   "cell_type": "code",
   "execution_count": 55,
   "metadata": {},
   "outputs": [
    {
     "data": {
      "text/plain": [
       "NonlinearModel(\n",
       "  rhs=NonlinearRHS(\n",
       "    f=Sequential(\n",
       "      layers=(\n",
       "        Dropout(p=0.2, inference=False),\n",
       "        Linear(\n",
       "          weight=f32[25,13],\n",
       "          bias=f32[25],\n",
       "          in_features=13,\n",
       "          out_features=25,\n",
       "          use_bias=True\n",
       "        ),\n",
       "        Lambda(fn=<wrapped function relu>),\n",
       "        Dropout(p=0.2, inference=False),\n",
       "        Linear(\n",
       "          weight=f32[25,25],\n",
       "          bias=f32[25],\n",
       "          in_features=25,\n",
       "          out_features=25,\n",
       "          use_bias=True\n",
       "        ),\n",
       "        Lambda(fn=<wrapped function relu>),\n",
       "        Dropout(p=0.2, inference=False),\n",
       "        Linear(\n",
       "          weight=f32[12,25],\n",
       "          bias=f32[12],\n",
       "          in_features=25,\n",
       "          out_features=12,\n",
       "          use_bias=True\n",
       "        ),\n",
       "        Dropout(p=0.2, inference=False),\n",
       "        Lambda(fn=<function <lambda>>)\n",
       "      )\n",
       "    ),\n",
       "    g=Sequential(\n",
       "      layers=(\n",
       "        Linear(\n",
       "          weight=f32[1,12],\n",
       "          bias=f32[1],\n",
       "          in_features=12,\n",
       "          out_features=1,\n",
       "          use_bias=True\n",
       "        ),\n",
       "        Lambda(fn=<function <lambda>>)\n",
       "      )\n",
       "    ),\n",
       "    _init_state=NotAParameter(_=(f32[12], NotAParameter(_=u32[2]))),\n",
       "    method='EE'\n",
       "  ),\n",
       "  state=NotAParameter(_=(f32[12], NotAParameter(_=u32[2]))),\n",
       "  input_size=1,\n",
       "  output_size=1\n",
       ")"
      ]
     },
     "execution_count": 55,
     "metadata": {},
     "output_type": "execute_result"
    }
   ],
   "source": [
    "model"
   ]
  },
  {
   "cell_type": "code",
   "execution_count": null,
   "metadata": {},
   "outputs": [],
   "source": []
  }
 ],
 "metadata": {
  "kernelspec": {
   "display_name": "Python 3.9.13 ('chain_control')",
   "language": "python",
   "name": "python3"
  },
  "language_info": {
   "codemirror_mode": {
    "name": "ipython",
    "version": 3
   },
   "file_extension": ".py",
   "mimetype": "text/x-python",
   "name": "python",
   "nbconvert_exporter": "python",
   "pygments_lexer": "ipython3",
   "version": "3.9.13"
  },
  "orig_nbformat": 4,
  "vscode": {
   "interpreter": {
    "hash": "8d9c863fb986fa342e8b7e2ad667cb8566ab6ae40647af51ec8caf787fd66a57"
   }
  }
 },
 "nbformat": 4,
 "nbformat_minor": 2
}
