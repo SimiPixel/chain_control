{
 "cells": [
  {
   "cell_type": "code",
   "execution_count": 39,
   "metadata": {},
   "outputs": [],
   "source": [
    "from cc.collect import collect_reference_source, collect_exhaust_source, collect \n",
    "from cc import save, load \n",
    "from cc.controller import create_pi_controller, LinearController, LinearControllerOptions\n",
    "from cc.env.wrappers import AddReferenceObservationWrapper, RecordVideoWrapper\n",
    "import matplotlib.pyplot as plt \n",
    "from cc.env import make_env\n",
    "from cc.train import TrainingOptionsController, train_controller\n",
    "import optax "
   ]
  },
  {
   "cell_type": "code",
   "execution_count": 24,
   "metadata": {},
   "outputs": [],
   "source": [
    "from cc.utils.utils import generate_ts\n",
    "\n",
    "\n",
    "time_limit = 10.0\n",
    "control_timestep = 0.01 \n",
    "ts = generate_ts(time_limit, control_timestep)\n",
    "\n",
    "env = make_env(\"two_segments_v1\", random=1, time_limit=time_limit, control_timestep=control_timestep)"
   ]
  },
  {
   "cell_type": "code",
   "execution_count": 3,
   "metadata": {},
   "outputs": [],
   "source": [
    "# we trained this model in the notebook #3\n",
    "model = load(\"model_for_two_segments_v1.pkl\")"
   ]
  },
  {
   "cell_type": "code",
   "execution_count": 4,
   "metadata": {},
   "outputs": [
    {
     "name": "stdout",
     "output_type": "stream",
     "text": [
      "WARNING: Object <class 'cc.controller.controller.FeedforwardController'> is being traced. \n",
      "            If this message is display continuously then you probably forgot to compile the model or controller. \n",
      "            This can be fixed by calling `*model/controller* = equniox.filter_jit(*model/controller*).\n",
      "            \n"
     ]
    }
   ],
   "source": [
    "# create a reference source with two *feasible* (=physically possible) trajectories\n",
    "source = collect_reference_source(env, seeds=[20,21], constant_after=True, constant_after_T=3.0)"
   ]
  },
  {
   "cell_type": "code",
   "execution_count": 16,
   "metadata": {},
   "outputs": [],
   "source": [
    "p_gain = 0.01\n",
    "i_gain = 0.0 \n",
    "\n",
    "options = create_pi_controller(p_gain, i_gain, delta_t=control_timestep)"
   ]
  },
  {
   "cell_type": "code",
   "execution_count": 17,
   "metadata": {},
   "outputs": [],
   "source": [
    "controller = LinearController(options)"
   ]
  },
  {
   "cell_type": "code",
   "execution_count": 18,
   "metadata": {},
   "outputs": [
    {
     "data": {
      "text/plain": [
       "LinearController(\n",
       "  rhs=LinearRHS(\n",
       "    params=LinearRHS_Params(\n",
       "      A=NotAParameter(_=f32[2,2]),\n",
       "      B=NotAParameter(_=f32[2,1]),\n",
       "      C=Parameter(_=f32[1,2]),\n",
       "      D=NotAParameter(_=f32[1,1])\n",
       "    ),\n",
       "    _init_state=NotAParameter(_=f32[2]),\n",
       "    method='no-integrate'\n",
       "  ),\n",
       "  state=NotAParameter(_=f32[2]),\n",
       "  input_size=1,\n",
       "  output_size=1\n",
       ")"
      ]
     },
     "execution_count": 18,
     "metadata": {},
     "output_type": "execute_result"
    }
   ],
   "source": [
    "controller"
   ]
  },
  {
   "cell_type": "code",
   "execution_count": 19,
   "metadata": {},
   "outputs": [],
   "source": [
    "training_options = TrainingOptionsController(\n",
    "    optax.adam(3e-3), 0.0, 500, 1, models=[model]\n",
    ")"
   ]
  },
  {
   "cell_type": "code",
   "execution_count": 20,
   "metadata": {},
   "outputs": [
    {
     "name": "stderr",
     "output_type": "stream",
     "text": [
      "  0%|          | 0/500 [00:00<?, ?it/s]"
     ]
    },
    {
     "name": "stdout",
     "output_type": "stream",
     "text": [
      "WARNING: Object <class 'cc.model.model.NonlinearModel'> is being traced. \n",
      "            If this message is display continuously then you probably forgot to compile the model or controller. \n",
      "            This can be fixed by calling `*model/controller* = equniox.filter_jit(*model/controller*).\n",
      "            \n",
      "WARNING: Object <class 'cc.controller.controller.LinearController'> is being traced. \n",
      "            If this message is display continuously then you probably forgot to compile the model or controller. \n",
      "            This can be fixed by calling `*model/controller* = equniox.filter_jit(*model/controller*).\n",
      "            \n",
      "WARNING: Object <class 'cc.model.model.NonlinearModel'> is being traced. \n",
      "            If this message is display continuously then you probably forgot to compile the model or controller. \n",
      "            This can be fixed by calling `*model/controller* = equniox.filter_jit(*model/controller*).\n",
      "            \n"
     ]
    },
    {
     "name": "stderr",
     "output_type": "stream",
     "text": [
      "Trainings-Loss:    39.7957 | ParamsRegu:     0.0001:   0%|          | 1/500 [00:00<04:03,  2.05it/s]"
     ]
    },
    {
     "name": "stdout",
     "output_type": "stream",
     "text": [
      "WARNING: Object <class 'cc.model.model.NonlinearModel'> is being traced. \n",
      "            If this message is display continuously then you probably forgot to compile the model or controller. \n",
      "            This can be fixed by calling `*model/controller* = equniox.filter_jit(*model/controller*).\n",
      "            \n",
      "WARNING: Object <class 'cc.controller.controller.LinearController'> is being traced. \n",
      "            If this message is display continuously then you probably forgot to compile the model or controller. \n",
      "            This can be fixed by calling `*model/controller* = equniox.filter_jit(*model/controller*).\n",
      "            \n",
      "WARNING: Object <class 'cc.model.model.NonlinearModel'> is being traced. \n",
      "            If this message is display continuously then you probably forgot to compile the model or controller. \n",
      "            This can be fixed by calling `*model/controller* = equniox.filter_jit(*model/controller*).\n",
      "            \n"
     ]
    },
    {
     "name": "stderr",
     "output_type": "stream",
     "text": [
      "Trainings-Loss:     9.5105 | ParamsRegu:     0.0039: 100%|██████████| 500/500 [00:05<00:00, 99.97it/s] \n"
     ]
    }
   ],
   "source": [
    "controller, losses = train_controller(controller, source, training_options)"
   ]
  },
  {
   "cell_type": "code",
   "execution_count": 22,
   "metadata": {},
   "outputs": [
    {
     "data": {
      "text/plain": [
       "DeviceArray([[ 0.08696826, -0.01427839]], dtype=float32)"
      ]
     },
     "execution_count": 22,
     "metadata": {},
     "output_type": "execute_result"
    }
   ],
   "source": [
    "# final gain values\n",
    "controller.rhs.params.C()"
   ]
  },
  {
   "cell_type": "markdown",
   "metadata": {},
   "source": [
    "### So how well does our controller now perform in the actual environment? :D "
   ]
  },
  {
   "cell_type": "code",
   "execution_count": 26,
   "metadata": {},
   "outputs": [],
   "source": [
    "env_w_source = AddReferenceObservationWrapper(env, source)"
   ]
  },
  {
   "cell_type": "code",
   "execution_count": 28,
   "metadata": {},
   "outputs": [],
   "source": [
    "iterator = collect(env=env_w_source, controller=controller, ts=ts)\n",
    "replay_sample = next(iterator)"
   ]
  },
  {
   "cell_type": "code",
   "execution_count": 35,
   "metadata": {},
   "outputs": [
    {
     "data": {
      "text/plain": [
       "OrderedDict([('obs',\n",
       "              OrderedDict([('xpos_of_segment_end',\n",
       "                            array([[[2.5717583e-16],\n",
       "                                    [2.5717583e-16],\n",
       "                                    [2.5717583e-16],\n",
       "                                    ...,\n",
       "                                    [9.2908564e+00],\n",
       "                                    [9.2533436e+00],\n",
       "                                    [9.2159071e+00]]], dtype=float32))])),\n",
       "             ('ref',\n",
       "              OrderedDict([('xpos_of_segment_end',\n",
       "                            array([[[2.5717583e-16],\n",
       "                                    [2.4853647e-05],\n",
       "                                    [5.6197172e-05],\n",
       "                                    ...,\n",
       "                                    [1.1927853e+01],\n",
       "                                    [1.1927853e+01],\n",
       "                                    [1.1927853e+01]]], dtype=float32))]))])"
      ]
     },
     "execution_count": 35,
     "metadata": {},
     "output_type": "execute_result"
    }
   ],
   "source": [
    "replay_sample.obs"
   ]
  },
  {
   "cell_type": "code",
   "execution_count": 36,
   "metadata": {},
   "outputs": [
    {
     "data": {
      "text/plain": [
       "<matplotlib.legend.Legend at 0x7fdfe5e4c820>"
      ]
     },
     "execution_count": 36,
     "metadata": {},
     "output_type": "execute_result"
    },
    {
     "data": {
      "image/png": "[encoded data removed]",
      "text/plain": [
       "<Figure size 640x480 with 1 Axes>"
      ]
     },
     "metadata": {},
     "output_type": "display_data"
    }
   ],
   "source": [
    "\n",
    "plt.plot(replay_sample.obs[\"obs\"][\"xpos_of_segment_end\"][0], label=\"observation\")\n",
    "plt.plot(replay_sample.obs[\"ref\"][\"xpos_of_segment_end\"][0], label=\"reference\")\n",
    "plt.legend()"
   ]
  },
  {
   "cell_type": "code",
   "execution_count": 37,
   "metadata": {},
   "outputs": [],
   "source": [
    "source.change_reference_of_actor(1)\n",
    "iterator = collect(env=env_w_source, controller=controller, ts=ts)\n",
    "replay_sample = next(iterator)"
   ]
  },
  {
   "cell_type": "code",
   "execution_count": 38,
   "metadata": {},
   "outputs": [
    {
     "data": {
      "text/plain": [
       "<matplotlib.legend.Legend at 0x7fdff017cb20>"
      ]
     },
     "execution_count": 38,
     "metadata": {},
     "output_type": "execute_result"
    },
    {
     "data": {
      "image/png": "[encoded data removed]",
      "text/plain": [
       "<Figure size 640x480 with 1 Axes>"
      ]
     },
     "metadata": {},
     "output_type": "display_data"
    }
   ],
   "source": [
    "\n",
    "plt.plot(replay_sample.obs[\"obs\"][\"xpos_of_segment_end\"][0], label=\"observation\")\n",
    "plt.plot(replay_sample.obs[\"ref\"][\"xpos_of_segment_end\"][0], label=\"reference\")\n",
    "plt.legend()"
   ]
  },
  {
   "cell_type": "markdown",
   "metadata": {},
   "source": [
    "Want a video?"
   ]
  },
  {
   "cell_type": "code",
   "execution_count": 41,
   "metadata": {},
   "outputs": [],
   "source": [
    "# This Functionality probably only works on Mac or Linux\n",
    "\n",
    "source.change_reference_of_actor(0)\n",
    "\n",
    "# cleanup_imgs is kind of dangerous, check out the source code before you run this please\n",
    "env_w_video = RecordVideoWrapper(env_w_source, width=1280, height=720, cleanup_imgs=False)\n",
    "\n",
    "iterator = collect(env=env_w_video, controller=controller, ts=ts)"
   ]
  },
  {
   "cell_type": "markdown",
   "metadata": {},
   "source": [
    "If you are interested in Performance of the controller in the model, then remember you can always convert a model to an environment using `ModelBasedEnv`.\n",
    "\n",
    "You might also want to check out the utility function `cc.collect.collect_exhaust_source` which does all that work for you!"
   ]
  },
  {
   "cell_type": "markdown",
   "metadata": {},
   "source": []
  }
 ],
 "metadata": {
  "kernelspec": {
   "display_name": "Python 3.9.13 ('chain_control')",
   "language": "python",
   "name": "python3"
  },
  "language_info": {
   "codemirror_mode": {
    "name": "ipython",
    "version": 3
   },
   "file_extension": ".py",
   "mimetype": "text/x-python",
   "name": "python",
   "nbconvert_exporter": "python",
   "pygments_lexer": "ipython3",
   "version": "3.9.13"
  },
  "orig_nbformat": 4,
  "vscode": {
   "interpreter": {
    "hash": "8d9c863fb986fa342e8b7e2ad667cb8566ab6ae40647af51ec8caf787fd66a57"
   }
  }
 },
 "nbformat": 4,
 "nbformat_minor": 2
}
