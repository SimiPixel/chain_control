{
 "cells": [
  {
   "cell_type": "markdown",
   "metadata": {},
   "source": [
    "You may have noticed that saving of trained models / controllers is no longer as straightforward.\n",
    "\n",
    "However, it is still possible. Let's see how."
   ]
  },
  {
   "cell_type": "code",
   "execution_count": 4,
   "metadata": {},
   "outputs": [],
   "source": [
    "from cc import save, load  \n",
    "from cc.examples.feedforward_controller import make_feedforward_controller\n",
    "from cc.env import make_env\n",
    "import equinox as eqx \n",
    "from cc.env.collect import collect\n",
    "import jax.numpy as jnp "
   ]
  },
  {
   "cell_type": "code",
   "execution_count": 6,
   "metadata": {},
   "outputs": [],
   "source": [
    "env = make_env(\"two_segments_v1\", random=1)\n",
    "controller = make_feedforward_controller(jnp.ones((1000,1)))"
   ]
  },
  {
   "cell_type": "markdown",
   "metadata": {},
   "source": [
    "`ReplaySample` objects can still be stored using the more convenient `load` and `save` functions."
   ]
  },
  {
   "cell_type": "code",
   "execution_count": 11,
   "metadata": {},
   "outputs": [],
   "source": [
    "replay_sample = collect(env, controller)\n",
    "\n",
    "save(replay_sample, \"replay_sample.pkl\"); \n",
    "_ = load(\"replay_sample.pkl\")"
   ]
  },
  {
   "cell_type": "markdown",
   "metadata": {},
   "source": [
    "However, for objects that inherit from `eqx.Module` this will not work"
   ]
  },
  {
   "cell_type": "code",
   "execution_count": 12,
   "metadata": {},
   "outputs": [
    {
     "ename": "Exception",
     "evalue": "Not possible. Use `eqx.tree_serialise_leaves(path, obj)` instead.\n            To de-serialise use `eqx.tree_deserialise_leaves`.",
     "output_type": "error",
     "traceback": [
      "\u001b[0;31m---------------------------------------------------------------------------\u001b[0m",
      "\u001b[0;31mException\u001b[0m                                 Traceback (most recent call last)",
      "Cell \u001b[0;32mIn [12], line 1\u001b[0m\n\u001b[0;32m----> 1\u001b[0m save(controller, \u001b[39m\"\u001b[39;49m\u001b[39mcontroller.pkl\u001b[39;49m\u001b[39m\"\u001b[39;49m)\n",
      "File \u001b[0;32m~/Documents/PYTHON/chain_control/cc/core/save_load.py:16\u001b[0m, in \u001b[0;36msave\u001b[0;34m(obj, path, metadata, verbose)\u001b[0m\n\u001b[1;32m     13\u001b[0m \u001b[39mdef\u001b[39;00m \u001b[39msave\u001b[39m(obj, path, metadata\u001b[39m=\u001b[39m{}, verbose\u001b[39m=\u001b[39m\u001b[39mTrue\u001b[39;00m):\n\u001b[1;32m     15\u001b[0m     \u001b[39mif\u001b[39;00m \u001b[39misinstance\u001b[39m(obj, eqx\u001b[39m.\u001b[39mModule):\n\u001b[0;32m---> 16\u001b[0m         \u001b[39mraise\u001b[39;00m \u001b[39mException\u001b[39;00m(\n\u001b[1;32m     17\u001b[0m             \u001b[39m\"\"\"Not possible. Use `eqx.tree_serialise_leaves(path, obj)` instead.\u001b[39;00m\n\u001b[1;32m     18\u001b[0m \u001b[39m            To de-serialise use `eqx.tree_deserialise_leaves`.\"\"\"\u001b[39;00m\n\u001b[1;32m     19\u001b[0m         )\n\u001b[1;32m     21\u001b[0m     \u001b[39mif\u001b[39;00m metadata \u001b[39m==\u001b[39m {}:\n\u001b[1;32m     22\u001b[0m         \u001b[39mwith\u001b[39;00m \u001b[39mopen\u001b[39m(path, \u001b[39m\"\u001b[39m\u001b[39mwb\u001b[39m\u001b[39m\"\u001b[39m) \u001b[39mas\u001b[39;00m file:\n",
      "\u001b[0;31mException\u001b[0m: Not possible. Use `eqx.tree_serialise_leaves(path, obj)` instead.\n            To de-serialise use `eqx.tree_deserialise_leaves`."
     ]
    }
   ],
   "source": [
    "save(controller, \"controller.pkl\")"
   ]
  },
  {
   "cell_type": "markdown",
   "metadata": {},
   "source": [
    "Instead, we will have to use the more annoying syntax"
   ]
  },
  {
   "cell_type": "code",
   "execution_count": 13,
   "metadata": {},
   "outputs": [],
   "source": [
    "# the extension is convention\n",
    "# think of this operation as only dumping the parameters on disk\n",
    "# but not the controller structure\n",
    "eqx.tree_serialise_leaves(\"controller.eqx\", controller)\n",
    "\n",
    "# hence to de-serialise we will have to provide the structure \n",
    "# and the parameters will be overwritten\n",
    "controller = eqx.tree_deserialise_leaves(\"controller.eqx\", controller)"
   ]
  },
  {
   "cell_type": "code",
   "execution_count": 14,
   "metadata": {},
   "outputs": [
    {
     "data": {
      "text/plain": [
       "FeedforwardController(us=f32[1000,1], count=i32[1])"
      ]
     },
     "execution_count": 14,
     "metadata": {},
     "output_type": "execute_result"
    }
   ],
   "source": [
    "controller"
   ]
  },
  {
   "cell_type": "markdown",
   "metadata": {},
   "source": [
    "What if?"
   ]
  },
  {
   "cell_type": "code",
   "execution_count": 15,
   "metadata": {},
   "outputs": [
    {
     "ename": "UnpicklingError",
     "evalue": "STACK_GLOBAL requires str",
     "output_type": "error",
     "traceback": [
      "\u001b[0;31m---------------------------------------------------------------------------\u001b[0m",
      "\u001b[0;31mUnpicklingError\u001b[0m                           Traceback (most recent call last)",
      "Cell \u001b[0;32mIn [15], line 1\u001b[0m\n\u001b[0;32m----> 1\u001b[0m load(\u001b[39m\"\u001b[39;49m\u001b[39mcontroller.eqx\u001b[39;49m\u001b[39m\"\u001b[39;49m)\n",
      "File \u001b[0;32m~/Documents/PYTHON/chain_control/cc/core/save_load.py:9\u001b[0m, in \u001b[0;36mload\u001b[0;34m(path)\u001b[0m\n\u001b[1;32m      7\u001b[0m \u001b[39mdef\u001b[39;00m \u001b[39mload\u001b[39m(path):\n\u001b[1;32m      8\u001b[0m     \u001b[39mwith\u001b[39;00m \u001b[39mopen\u001b[39m(path, \u001b[39m\"\u001b[39m\u001b[39mrb\u001b[39m\u001b[39m\"\u001b[39m) \u001b[39mas\u001b[39;00m file:\n\u001b[0;32m----> 9\u001b[0m         obj \u001b[39m=\u001b[39m cloudpickle\u001b[39m.\u001b[39;49mload(file)\n\u001b[1;32m     10\u001b[0m     \u001b[39mreturn\u001b[39;00m obj\n",
      "\u001b[0;31mUnpicklingError\u001b[0m: STACK_GLOBAL requires str"
     ]
    }
   ],
   "source": [
    "load(\"controller.eqx\")"
   ]
  },
  {
   "cell_type": "code",
   "execution_count": null,
   "metadata": {},
   "outputs": [],
   "source": []
  }
 ],
 "metadata": {
  "kernelspec": {
   "display_name": "Python 3.9.13 ('chain_control')",
   "language": "python",
   "name": "python3"
  },
  "language_info": {
   "codemirror_mode": {
    "name": "ipython",
    "version": 3
   },
   "file_extension": ".py",
   "mimetype": "text/x-python",
   "name": "python",
   "nbconvert_exporter": "python",
   "pygments_lexer": "ipython3",
   "version": "3.9.13"
  },
  "orig_nbformat": 4,
  "vscode": {
   "interpreter": {
    "hash": "8d9c863fb986fa342e8b7e2ad667cb8566ab6ae40647af51ec8caf787fd66a57"
   }
  }
 },
 "nbformat": 4,
 "nbformat_minor": 2
}
