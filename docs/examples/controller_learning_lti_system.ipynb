{
 "cells": [
  {
   "cell_type": "code",
   "execution_count": 95,
   "metadata": {},
   "outputs": [],
   "source": [
    "import numpy as np\n",
    "import optax\n",
    "import jax\n",
    "import equinox as eqx\n",
    "import matplotlib.pyplot as plt\n",
    "\n",
    "from cc.examples.linear_model import make_linear_model\n",
    "from cc.env import make_env\n",
    "from cc.env.wrappers import AddRefSignalRewardFnWrapper, ReplacePhysicsByModelWrapper\n",
    "from cc.train import TrainingOptionsController, make_dataloader, ModelControllerTrainer, UnsupervisedDataset, Tracker\n",
    "from cc.examples.neural_ode_controller_compact_example import make_neural_ode_controller\n",
    "from cc.env.collect import collect_exhaust_source, random_steps_source"
   ]
  },
  {
   "cell_type": "code",
   "execution_count": 2,
   "metadata": {},
   "outputs": [],
   "source": [
    "A= np.array([[-0.33759607 ,  0.08608127,  0.57494069],\n",
    "    [ 0.61775183, -1.09155238,  0.54087305],\n",
    "    [-0.01583903, -0.04649417, -1.38709049]])\n",
    "B= np.array([[1.13170034],\n",
    "            [-0.  ],\n",
    "            [0.93708961]])\n",
    "C= np.array([[-0.82243542,  1.67057984,  0.42432609]])\n",
    "D= np.array([[0.0]])"
   ]
  },
  {
   "cell_type": "code",
   "execution_count": 22,
   "metadata": {},
   "outputs": [],
   "source": [
    "env = make_env('two_segments_v2')\n",
    "m = make_linear_model(env.action_spec(), env.observation_spec(), env.control_timestep(), 3)\n",
    "m = eqx.tree_at(lambda m: (m.A, m.B, m.C, m.D), m, (A, B, C, D))\n",
    "env = ReplacePhysicsByModelWrapper(env, m)"
   ]
  },
  {
   "cell_type": "code",
   "execution_count": 39,
   "metadata": {},
   "outputs": [],
   "source": [
    "source = random_steps_source(env, seeds=list(range(30)), max_abs_amplitude=0.5)\n",
    "env_w_source = AddRefSignalRewardFnWrapper(env, source)"
   ]
  },
  {
   "cell_type": "code",
   "execution_count": 84,
   "metadata": {},
   "outputs": [],
   "source": [
    "controller = make_neural_ode_controller(\n",
    "    env_w_source.observation_spec(),\n",
    "    env.action_spec(),\n",
    "    env.control_timestep(),\n",
    "    5,\n",
    "    f_depth=0\n",
    ")"
   ]
  },
  {
   "cell_type": "code",
   "execution_count": 86,
   "metadata": {},
   "outputs": [
    {
     "name": "stdout",
     "output_type": "stream",
     "text": [
      "This model has been registered with model name `model0`.\n",
      "                    When using multiple models individual model names have to\n",
      "                    be provided by passing a dictionary in the `model` argument\n"
     ]
    }
   ],
   "source": [
    "controller_dataloader = make_dataloader(\n",
    "    UnsupervisedDataset(source.get_references_for_optimisation()),\n",
    "    jax.random.PRNGKey(1,),\n",
    "    n_minibatches=5,\n",
    ")\n",
    "\n",
    "optimizer = optax.chain(optax.clip_by_global_norm(1.0), optax.adam(1e-3))\n",
    "\n",
    "controller_train_options = TrainingOptionsController(\n",
    "    controller_dataloader, optimizer, \n",
    ")\n",
    "\n",
    "controller_trainer = ModelControllerTrainer(\n",
    "    m, controller, controller_train_options=controller_train_options, \n",
    "    trackers=[Tracker(\"loss\")]\n",
    ")"
   ]
  },
  {
   "cell_type": "code",
   "execution_count": 87,
   "metadata": {},
   "outputs": [
    {
     "data": {
      "application/vnd.jupyter.widget-view+json": {
       "model_id": "3fa4e96372af4f409bcd7b29d2d39c77",
       "version_major": 2,
       "version_minor": 0
      },
      "text/plain": [
       "  0%|          | 0/2500 [00:00<?, ?it/s]"
      ]
     },
     "metadata": {},
     "output_type": "display_data"
    }
   ],
   "source": [
    "controller_trainer.run(2500)"
   ]
  },
  {
   "cell_type": "code",
   "execution_count": 88,
   "metadata": {},
   "outputs": [
    {
     "data": {
      "text/plain": [
       "0.39480454"
      ]
     },
     "execution_count": 88,
     "metadata": {},
     "output_type": "execute_result"
    }
   ],
   "source": [
    "fitted_controller = controller_trainer.trackers[0].best_model_or_controller()\n",
    "controller_trainer.trackers[0].best_metric()"
   ]
  },
  {
   "cell_type": "code",
   "execution_count": 96,
   "metadata": {},
   "outputs": [
    {
     "data": {
      "application/vnd.jupyter.widget-view+json": {
       "model_id": "35156bea669c4e05ae315694f14438b8",
       "version_major": 2,
       "version_minor": 0
      },
      "text/plain": [
       "Reference Iterator:   0%|          | 0/6 [00:00<?, ?it/s]"
      ]
     },
     "metadata": {},
     "output_type": "display_data"
    }
   ],
   "source": [
    "eval_source = random_steps_source(env, list(range(6)))\n",
    "\n",
    "# returns a tuple\n",
    "controller_performance_sample, loop_results = collect_exhaust_source(\n",
    "    AddRefSignalRewardFnWrapper(env, eval_source), fitted_controller)"
   ]
  },
  {
   "cell_type": "code",
   "execution_count": 97,
   "metadata": {},
   "outputs": [
    {
     "data": {
      "text/plain": [
       "{'env_reset_duration_sec': array([0.00105786, 0.00034213, 0.00066185, 0.00032806, 0.00071502,\n",
       "        0.00037408]),\n",
       " 'env_step_duration_sec': array([0.00048498, 0.00047793, 0.00047915, 0.00047459, 0.00047908,\n",
       "        0.00048799]),\n",
       " 'episode_length': array([1000, 1000, 1000, 1000, 1000, 1000]),\n",
       " 'episode_return': array([ -757.137   , -2142.5518  ,   -73.77877 ,   -10.77137 ,\n",
       "        -1747.4124  ,    -6.575613], dtype=float32),\n",
       " 'episodes': array([1, 1, 1, 1, 1, 1]),\n",
       " 'select_action_duration_sec': array([0.00038519, 0.0003781 , 0.00037986, 0.00037607, 0.00037849,\n",
       "        0.00038505]),\n",
       " 'steps': array([1000, 1000, 1000, 1000, 1000, 1000]),\n",
       " 'steps_per_second': array([1131.4303626 , 1151.1147082 , 1146.58117228, 1158.42798851,\n",
       "        1148.50387681, 1128.52676048])}"
      ]
     },
     "execution_count": 97,
     "metadata": {},
     "output_type": "execute_result"
    }
   ],
   "source": [
    "loop_results"
   ]
  },
  {
   "cell_type": "code",
   "execution_count": 98,
   "metadata": {},
   "outputs": [
    {
     "data": {
      "text/plain": [
       "0.7897087"
      ]
     },
     "execution_count": 98,
     "metadata": {},
     "output_type": "execute_result"
    }
   ],
   "source": [
    "np.mean(-controller_performance_sample.rew)"
   ]
  },
  {
   "cell_type": "code",
   "execution_count": 103,
   "metadata": {},
   "outputs": [
    {
     "data": {
      "image/png": "[encoded data removed]",
      "text/plain": [
       "<Figure size 640x480 with 1 Axes>"
      ]
     },
     "metadata": {},
     "output_type": "display_data"
    }
   ],
   "source": [
    "ts = np.arange(10.01, step=0.01)\n",
    "for i in range(6):\n",
    "    label_obs = \"observed\" if i == 0 else None\n",
    "    label_ref = \"reference\" if i == 0 else None\n",
    "    color = f\"C{i}\"\n",
    "    plt.plot(ts, controller_performance_sample.obs[\"obs\"][\"xpos_of_segment_end\"][i], label=label_obs, color=color, linestyle=\"dashed\")\n",
    "    plt.plot(ts, controller_performance_sample.obs[\"ref\"][\"xpos_of_segment_end\"][i], label=label_ref, color=color)\n",
    "\n",
    "plt.grid()\n",
    "plt.legend()\n",
    "plt.xlabel(\"Time [s]\")\n",
    "plt.ylabel(\"Output [unitless]\")\n",
    "plt.savefig(\"example_perf.png\", dpi=300)"
   ]
  },
  {
   "cell_type": "code",
   "execution_count": null,
   "metadata": {},
   "outputs": [],
   "source": []
  },
  {
   "cell_type": "code",
   "execution_count": null,
   "metadata": {},
   "outputs": [],
   "source": []
  },
  {
   "cell_type": "code",
   "execution_count": null,
   "metadata": {},
   "outputs": [],
   "source": []
  },
  {
   "cell_type": "code",
   "execution_count": null,
   "metadata": {},
   "outputs": [],
   "source": []
  }
 ],
 "metadata": {
  "kernelspec": {
   "display_name": "chain_control",
   "language": "python",
   "name": "python3"
  },
  "language_info": {
   "codemirror_mode": {
    "name": "ipython",
    "version": 3
   },
   "file_extension": ".py",
   "mimetype": "text/x-python",
   "name": "python",
   "nbconvert_exporter": "python",
   "pygments_lexer": "ipython3",
   "version": "3.10.12"
  }
 },
 "nbformat": 4,
 "nbformat_minor": 2
}
