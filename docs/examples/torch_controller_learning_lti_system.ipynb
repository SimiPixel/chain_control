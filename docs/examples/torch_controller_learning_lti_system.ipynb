{
 "cells": [
  {
   "cell_type": "code",
   "execution_count": 1,
   "metadata": {},
   "outputs": [],
   "source": [
    "import torch\n",
    "import random\n",
    "from typing import NamedTuple\n",
    "# pip install dm-tree\n",
    "import tree\n",
    "import matplotlib.pyplot as plt"
   ]
  },
  {
   "cell_type": "code",
   "execution_count": 2,
   "metadata": {},
   "outputs": [],
   "source": [
    "class LTI_Params(NamedTuple):\n",
    "    A: torch.Tensor\n",
    "    B: torch.Tensor\n",
    "    C: torch.Tensor\n",
    "    D: torch.Tensor\n",
    "\n",
    "def _draw_lti_params_continuous_time(state_dim: int) -> LTI_Params:\n",
    "    \"Dummy implementation\"\n",
    "    return LTI_Params(\n",
    "        A=torch.eye(state_dim),\n",
    "        B=torch.ones((state_dim, 1)),\n",
    "        C=torch.ones((1, state_dim)),\n",
    "        D=torch.zeros((1, 1))\n",
    "    )\n",
    "\n",
    "def _explicit_euler(A, B, C, D, x, u, dt):\n",
    "    \"-> (next_x, y)\"\n",
    "    x = x + (A @ x + B @ u) * dt\n",
    "    return x, C @ x + D @ u\n",
    "\n",
    "\n",
    "class LTI:\n",
    "    def __init__(self, bs: int, N: int, dt: float, state_dim: int) -> None:\n",
    "        assert N >= bs\n",
    "        self._bs = bs\n",
    "        self._dt = dt\n",
    "        self._state_dim = state_dim\n",
    "\n",
    "        self._lti_N: list[LTI_Params] = [_draw_lti_params_continuous_time(state_dim) for _ in range(N)]\n",
    "\n",
    "        self.reset()\n",
    "\n",
    "    def step(self, action: torch.Tensor) -> torch.Tensor:\n",
    "        assert action.shape == (self._bs, 1), f\"action.shape={action.shape}\"\n",
    "        action = torch.arctan(action)\n",
    "        self._x, y = torch.vmap(_explicit_euler, in_dims=(0, 0, 0, 0, 0, 0, None))(\n",
    "            self._lti_bs.A, self._lti_bs.B, self._lti_bs.C, self._lti_bs.D, self._x, action, self._dt)\n",
    "        return y\n",
    "\n",
    "    def reset(self) -> None:\n",
    "        self._x = torch.zeros((self._bs, self._state_dim))\n",
    "        lti_bs: list[LTI_Params] = random.choices(self._lti_N, k=self._bs)\n",
    "        self._lti_bs: LTI_Params = tree.map_structure(lambda *arr: torch.vstack([a[None] for a in arr]), *lti_bs)\n",
    "\n",
    "\n",
    "class Controller(torch.nn.Module):\n",
    "    def __init__(self, hidden_size: int, batch_size: int) -> None:\n",
    "        super().__init__()\n",
    "        self.f = torch.nn.Linear(hidden_size, 1)\n",
    "        self.g = torch.nn.GRUCell(2, hidden_size)\n",
    "        self._h0 = torch.zeros((batch_size, hidden_size))\n",
    "        self.reset()\n",
    "\n",
    "    def forward(self, ref, obs):\n",
    "        assert ref.ndim == 2\n",
    "        assert ref.shape == obs.shape\n",
    "        x = torch.concat((ref, obs), dim=-1)\n",
    "        self._h = self.g(x, self._h)\n",
    "        return self.f(self._h)\n",
    "    \n",
    "    def reset(self):\n",
    "        self._h = self._h0\n",
    "\n"
   ]
  },
  {
   "cell_type": "code",
   "execution_count": 3,
   "metadata": {},
   "outputs": [],
   "source": [
    "# batchsize\n",
    "BS = 4\n",
    "# number of random LTI systems\n",
    "N = 10\n",
    "# timestep size\n",
    "dt = 0.01\n",
    "# size of LTI system state\n",
    "state_dim = 3\n",
    "# max time horizon / finite trial duration\n",
    "T = 5.0\n",
    "# number of training steps\n",
    "n_steps = 500\n",
    "# learning rate\n",
    "lr = 3e-3\n",
    "# GRU hidden state size\n",
    "hidden_size = 10\n",
    "\n",
    "\n",
    "lti = LTI(BS, N, dt, state_dim)\n",
    "ctrb = Controller(hidden_size, BS)\n",
    "opt = torch.optim.SGD(ctrb.parameters(), lr, momentum=0.9)\n",
    "ref = torch.arange(BS)[:, None].repeat(1, int(T / dt)).T[..., None]\n",
    "\n",
    "\n",
    "for _ in range(n_steps):\n",
    "\n",
    "    i = 0\n",
    "    action = torch.zeros((BS, 1))\n",
    "    ys = []\n",
    "    lti.reset()\n",
    "    ctrb.reset()\n",
    "    while i < len(ref):\n",
    "        y = lti.step(action)\n",
    "        action = ctrb(ref[i], y)\n",
    "        i += 1\n",
    "        ys.append(y)\n",
    "\n",
    "    ys = torch.stack(ys)\n",
    "    loss = torch.mean((ys - ref)**2)\n",
    "\n",
    "    opt.zero_grad()\n",
    "    loss.backward()\n",
    "    torch.nn.utils.clip_grad.clip_grad_norm_(ctrb.parameters(), 0.5)\n",
    "    opt.step()\n"
   ]
  },
  {
   "cell_type": "code",
   "execution_count": 5,
   "metadata": {},
   "outputs": [
    {
     "data": {
      "image/png": "[encoded data removed]",
      "text/plain": [
       "<Figure size 640x480 with 1 Axes>"
      ]
     },
     "metadata": {},
     "output_type": "display_data"
    }
   ],
   "source": [
    "plt.plot(ys.detach().numpy()[:, :, 0])\n",
    "plt.plot(ref[:, :, 0])\n",
    "plt.show()"
   ]
  },
  {
   "cell_type": "code",
   "execution_count": null,
   "metadata": {},
   "outputs": [],
   "source": []
  }
 ],
 "metadata": {
  "kernelspec": {
   "display_name": "timo",
   "language": "python",
   "name": "python3"
  },
  "language_info": {
   "codemirror_mode": {
    "name": "ipython",
    "version": 3
   },
   "file_extension": ".py",
   "mimetype": "text/x-python",
   "name": "python",
   "nbconvert_exporter": "python",
   "pygments_lexer": "ipython3",
   "version": "3.9.18"
  }
 },
 "nbformat": 4,
 "nbformat_minor": 2
}
